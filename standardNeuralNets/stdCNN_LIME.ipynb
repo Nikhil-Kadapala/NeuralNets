{
  "cells": [
    {
      "cell_type": "markdown",
      "metadata": {
        "id": "view-in-github",
        "colab_type": "text"
      },
      "source": [
        "<a href=\"https://colab.research.google.com/github/Nikhil-Kadapala/NeuralNets/blob/main/standardNeuralNets/stdCNN_LIME.ipynb\" target=\"_parent\"><img src=\"https://colab.research.google.com/assets/colab-badge.svg\" alt=\"Open In Colab\"/></a>"
      ]
    },
    {
      "cell_type": "markdown",
      "metadata": {
        "id": "6L2Do3b_ytm6"
      },
      "source": [
        "# Final Project CS852 - Foundations of Neural Networks (FALL 2024)\n",
        "\n",
        "Devin Borchard and Nikhil Kadapala\n",
        "\n",
        "Department of Computer Science, University of New Hampshire\n",
        "\n",
        "Nikhil.Kadapala@unh.edu     Devin.Borchard@unh.edu"
      ]
    },
    {
      "cell_type": "markdown",
      "metadata": {
        "id": "ICkcYT3Iytm9"
      },
      "source": [
        "This project explores the application of Convolutional Neural Networks (CNNs) for sentiment analysis and Interpretability using the LIME (Local Interpretable Model-agnostic Explanations) Evaluation.\n",
        "\n",
        "The project uses the Movie Reviews dataset from the Eraser Benchmark.\n",
        "\n",
        "The goal of this project is to evaluate the performance of CNNs for sentiment analysis and explain their predictions using LIME.\n",
        "\n",
        "We will explore the integration of LIME Explanations as a feedback to measure the alignment of the model's reasoning with human rationales extracted from the annotations in the Dataset.\n",
        "\n",
        "Based on the alignment scores, we will retrain the model by adjusting the weights of the features to teach the model to rationalize as closely possible to a human.\n",
        "\n",
        "ERASER: [Datasets](https://www.eraserbenchmark.com) and [Paper](https://arxiv.org/pdf/1911.03429)\n",
        "\n",
        "LIME: [Paper](https://arxiv.org/pdf/1602.04938) and  [Library/Package GitHub](https://github.com/marcotcr/lime)"
      ]
    },
    {
      "cell_type": "markdown",
      "metadata": {
        "id": "Sr8uEiG3ytm9"
      },
      "source": [
        "# Notebook setup and PyTorch Installation"
      ]
    },
    {
      "cell_type": "code",
      "execution_count": 13,
      "metadata": {
        "id": "LJ5b9esmytm-",
        "outputId": "9b1e1828-0d76-425b-dabe-8a7191237f62",
        "colab": {
          "base_uri": "https://localhost:8080/"
        }
      },
      "outputs": [
        {
          "output_type": "stream",
          "name": "stdout",
          "text": [
            "Requirement already satisfied: lime in /usr/local/lib/python3.10/dist-packages (0.2.0.1)\n",
            "Requirement already satisfied: matplotlib in /usr/local/lib/python3.10/dist-packages (from lime) (3.8.0)\n",
            "Requirement already satisfied: numpy in /usr/local/lib/python3.10/dist-packages (from lime) (1.26.4)\n",
            "Requirement already satisfied: scipy in /usr/local/lib/python3.10/dist-packages (from lime) (1.13.1)\n",
            "Requirement already satisfied: tqdm in /usr/local/lib/python3.10/dist-packages (from lime) (4.66.6)\n",
            "Requirement already satisfied: scikit-learn>=0.18 in /usr/local/lib/python3.10/dist-packages (from lime) (1.5.2)\n",
            "Requirement already satisfied: scikit-image>=0.12 in /usr/local/lib/python3.10/dist-packages (from lime) (0.24.0)\n",
            "Requirement already satisfied: networkx>=2.8 in /usr/local/lib/python3.10/dist-packages (from scikit-image>=0.12->lime) (3.4.2)\n",
            "Requirement already satisfied: pillow>=9.1 in /usr/local/lib/python3.10/dist-packages (from scikit-image>=0.12->lime) (11.0.0)\n",
            "Requirement already satisfied: imageio>=2.33 in /usr/local/lib/python3.10/dist-packages (from scikit-image>=0.12->lime) (2.36.0)\n",
            "Requirement already satisfied: tifffile>=2022.8.12 in /usr/local/lib/python3.10/dist-packages (from scikit-image>=0.12->lime) (2024.9.20)\n",
            "Requirement already satisfied: packaging>=21 in /usr/local/lib/python3.10/dist-packages (from scikit-image>=0.12->lime) (24.2)\n",
            "Requirement already satisfied: lazy-loader>=0.4 in /usr/local/lib/python3.10/dist-packages (from scikit-image>=0.12->lime) (0.4)\n",
            "Requirement already satisfied: joblib>=1.2.0 in /usr/local/lib/python3.10/dist-packages (from scikit-learn>=0.18->lime) (1.4.2)\n",
            "Requirement already satisfied: threadpoolctl>=3.1.0 in /usr/local/lib/python3.10/dist-packages (from scikit-learn>=0.18->lime) (3.5.0)\n",
            "Requirement already satisfied: contourpy>=1.0.1 in /usr/local/lib/python3.10/dist-packages (from matplotlib->lime) (1.3.1)\n",
            "Requirement already satisfied: cycler>=0.10 in /usr/local/lib/python3.10/dist-packages (from matplotlib->lime) (0.12.1)\n",
            "Requirement already satisfied: fonttools>=4.22.0 in /usr/local/lib/python3.10/dist-packages (from matplotlib->lime) (4.55.0)\n",
            "Requirement already satisfied: kiwisolver>=1.0.1 in /usr/local/lib/python3.10/dist-packages (from matplotlib->lime) (1.4.7)\n",
            "Requirement already satisfied: pyparsing>=2.3.1 in /usr/local/lib/python3.10/dist-packages (from matplotlib->lime) (3.2.0)\n",
            "Requirement already satisfied: python-dateutil>=2.7 in /usr/local/lib/python3.10/dist-packages (from matplotlib->lime) (2.8.2)\n",
            "Requirement already satisfied: six>=1.5 in /usr/local/lib/python3.10/dist-packages (from python-dateutil>=2.7->matplotlib->lime) (1.16.0)\n"
          ]
        }
      ],
      "source": [
        "import sys\n",
        "import numpy as np\n",
        "import pandas as pd\n",
        "import matplotlib.pyplot as plt\n",
        "\n",
        "# uncomment one of these versions (depending on whether you are on a computer with a CPU or not)\n",
        "\n",
        "# GPU version\n",
        "# !conda install --yes --prefix {sys.prefix} pytorch torchvision cudatoolkit=10.2 -c pytorch\n",
        "\n",
        "# Just CPU\n",
        "# !conda install --yes --prefix {sys.prefix} pytorch torchvision cpuonly -c pytorch\n",
        "\n",
        "# install `Einops` for einstein-style tensor manipulation in pytorch\n",
        "# Also see https://github.com/arogozhnikov/einops\n",
        "# !conda install --yes --prefix {sys.prefix} einops  -c conda-forge\n",
        "\n",
        "# install lime\n",
        "!pip install lime\n"
      ]
    },
    {
      "cell_type": "code",
      "execution_count": 14,
      "metadata": {
        "colab": {
          "base_uri": "https://localhost:8080/"
        },
        "id": "XSKM3pNDytnA",
        "outputId": "75f10441-ff30-4b8e-bae7-94a251e5bfe5"
      },
      "outputs": [
        {
          "output_type": "stream",
          "name": "stdout",
          "text": [
            "tensor([[0.8649, 0.6170, 0.4305],\n",
            "        [0.1642, 0.8773, 0.7422],\n",
            "        [0.8121, 0.6658, 0.3955],\n",
            "        [0.5433, 0.9812, 0.6379],\n",
            "        [0.0540, 0.5362, 0.9773]])\n",
            "GPU/CUDA available?  True\n",
            "Torch version 2.5.1+cu121\n"
          ]
        }
      ],
      "source": [
        "# torch test\n",
        "import torch\n",
        "x = torch.rand(5, 3)\n",
        "print(x)\n",
        "\n",
        "print(\"GPU/CUDA available? \", torch.cuda.is_available())\n",
        "\n",
        "print(\"Torch version\", torch.__version__)"
      ]
    },
    {
      "cell_type": "code",
      "source": [
        "#!git clone https://github.com/Nikhil-Kadapala/NeuralNets.git"
      ],
      "metadata": {
        "id": "9E4xzHkRB0sT"
      },
      "execution_count": null,
      "outputs": []
    },
    {
      "cell_type": "code",
      "source": [
        "from google.colab import drive\n",
        "drive.mount('/content/drive')"
      ],
      "metadata": {
        "colab": {
          "base_uri": "https://localhost:8080/"
        },
        "id": "4QNeT-9eMWwR",
        "outputId": "0259bcf4-c3af-4c08-d148-8afa2bd36e2f"
      },
      "execution_count": 15,
      "outputs": [
        {
          "output_type": "stream",
          "name": "stdout",
          "text": [
            "Mounted at /content/drive\n"
          ]
        }
      ]
    },
    {
      "cell_type": "markdown",
      "metadata": {
        "id": "fIw0tI1IytnB"
      },
      "source": [
        "# **Extracting Traning, Validation, and Test Data**\n",
        "# Parse the data files to extract the reviews, classifications and annotations for each split."
      ]
    },
    {
      "cell_type": "markdown",
      "metadata": {
        "id": "UIrDTApeytnC"
      },
      "source": [
        "There are three files:\n",
        "- train.jsonl: containts 1600 training examples\n",
        "- val.jsonl: contains 200 validation examples\n",
        "- test.json: contains 199 test examples\n",
        "\n",
        "Each example includes:\n",
        "- annotation_id: a unique id for an example of the form negR_000 for negative examples and posR_000 for positive examples.\n",
        "- evidences: a list of rationales(specific parts of the review) given by humans that most influenced their classification decision.\n",
        "- classification: the class of the example\n",
        "\n",
        "The annotation_id of each example is the name of the file for the input text data\n",
        "    "
      ]
    },
    {
      "cell_type": "code",
      "execution_count": 18,
      "metadata": {
        "id": "pVM3qH6FytnD"
      },
      "outputs": [],
      "source": [
        "import json\n",
        "\n",
        "def parse_data(file_path):\n",
        "    data = []                                               # Initialize an empty list to store the dictionaries\n",
        "\n",
        "    with open(file_path, 'r') as file:                      # Open the .jsonl file and read it line by line\n",
        "        for line in file:\n",
        "            annotation = json.loads(line)                   # Parse each line as JSON and append it to the list\n",
        "            id = annotation[\"annotation_id\"]\n",
        "            annotation[\"classification\"] = 1 if annotation['classification'] == \"POS\" else 0\n",
        "\n",
        "            with open(f\"./drive/MyDrive/NeuralNets/standardNeuralNets/movies/docs/{id}\", 'r') as file:  # open the file named by annotation_id to extract the review text\n",
        "                content = file.read()\n",
        "                annotation['content'] = content.replace('\\n', ' ')\n",
        "                data.append(annotation)\n",
        "    return data\n",
        "\n",
        "# Specify the path to your JSON file\n",
        "train_file_path = './drive/MyDrive/NeuralNets/standardNeuralNets/movies/train.jsonl'\n",
        "val_file_path = './drive/MyDrive/NeuralNets/standardNeuralNets/movies/val.jsonl'\n",
        "test_file_path = './drive/MyDrive/NeuralNets/standardNeuralNets/movies/test.jsonl'\n",
        "\n",
        "train_data = parse_data(train_file_path)\n",
        "validation_data = parse_data(val_file_path)\n",
        "test_data = parse_data(test_file_path)"
      ]
    },
    {
      "cell_type": "markdown",
      "metadata": {
        "id": "Bijy4N-HytnD"
      },
      "source": [
        "# Functions to extract reviews, classifications, and annotations\n",
        "  Define a function\n",
        "\n",
        "  i) to retrieve an example and print the relevant information.\n",
        "\n",
        "  ii) to retrieve the content of the example review text\n",
        "\n",
        "  iii) to retrieve the classifications of the examples\n",
        "  \n",
        "  iv) to retrieve the annotations provided to support the classifications"
      ]
    },
    {
      "cell_type": "code",
      "execution_count": 19,
      "metadata": {
        "id": "hKGZxYzTytnE",
        "outputId": "fb806bde-eae4-46d2-da6a-81412ccf4d90",
        "colab": {
          "base_uri": "https://localhost:8080/"
        }
      },
      "outputs": [
        {
          "output_type": "stream",
          "name": "stdout",
          "text": [
            "Dataset split: 1600 training examples\n",
            "               200 validation examples\n",
            "               199 test examples\n",
            "\n",
            "Retrieving Training Example [506].................\n",
            "\n",
            "Review content:\n",
            "this film is extraordinarily horrendous and i 'm not going to waste any more words on it .\n",
            "\n",
            "---------------------------- \n",
            "| Sentiment class: 0 - NEG | \n",
            "----------------------------\n",
            "\n",
            "Human rationales / Supporting Evidence:\n",
            "     -  extraordinarily horrendous\n"
          ]
        }
      ],
      "source": [
        "def print_example(data, index, print_content=True, print_classification=True, print_rationales=True ):\n",
        "    print(f'Retrieving Training Example [{index}].................\\n')\n",
        "    item = data[index]\n",
        "    classification = item['classification']\n",
        "    evidences = item['evidences']\n",
        "    content = item['content']\n",
        "    if print_content: print(f'Review content:\\n{content}\\n')\n",
        "    if print_classification: print('----------------------------',\n",
        "                                   '\\n| Sentiment class:',\n",
        "                                   classification,\n",
        "                                   (\"- NEG\" if not classification else \"- POS\"),\n",
        "                                   '|', '\\n----------------------------')\n",
        "    if print_rationales:\n",
        "        print('\\nHuman rationales / Supporting Evidence:')\n",
        "        for evidence in evidences:\n",
        "            print('     - ', evidence[0]['text'])\n",
        "\n",
        "def get_content(data, index):\n",
        "    item = data[index]\n",
        "    content = item['content']\n",
        "    return content\n",
        "\n",
        "def get_classes(data, index):\n",
        "    item = data[index]\n",
        "    classification = item['classification']\n",
        "    return classification\n",
        "\n",
        "def get_annotations(data, index):\n",
        "    item = data[index]\n",
        "    content = item['evidences']\n",
        "    annotations = [evidence[0]['text'] for evidence in content]\n",
        "    return annotations\n",
        "\n",
        "train_size = len(train_data)\n",
        "val_size = len(validation_data)\n",
        "test_size = len(test_data)\n",
        "\n",
        "print(f'Dataset split: {train_size} training examples')\n",
        "print(f'               {val_size} validation examples')\n",
        "print(f'               {test_size} test examples\\n')\n",
        "\n",
        "print_example(train_data, 506)"
      ]
    },
    {
      "cell_type": "markdown",
      "metadata": {
        "id": "lLQCckZ-wz1C"
      },
      "source": [
        "# Extraction of the rationales from the evidences metadata of each human annotation of reviews.\n",
        "\n",
        "Each annotation of the review is not the highlighted text/rationale itself but also contains metadata of the text. Use the function defined in the above cell to extract just the text and replace the evidences dictionary of the training, validation, and test datasets."
      ]
    },
    {
      "cell_type": "code",
      "execution_count": 20,
      "metadata": {
        "colab": {
          "base_uri": "https://localhost:8080/"
        },
        "id": "-5ulEzugwz1C",
        "outputId": "8e0ee53c-aca4-4b17-be33-a4fe29e0f1a8"
      },
      "outputs": [
        {
          "output_type": "stream",
          "name": "stdout",
          "text": [
            "['extraordinarily horrendous']\n"
          ]
        }
      ],
      "source": [
        "for i in range(len(train_data)):\n",
        "    train_data[i]['evidences'] = get_annotations(train_data, i)\n",
        "\n",
        "for i in range(len(validation_data)):\n",
        "    validation_data[i]['evidences'] = get_annotations(validation_data, i)\n",
        "\n",
        "for i in range(len(test_data)):\n",
        "    test_data[i]['evidences'] = get_annotations(test_data, i)\n",
        "\n",
        "print(train_data[506]['evidences'])"
      ]
    },
    {
      "cell_type": "markdown",
      "metadata": {
        "id": "vc2rC9QTytnK"
      },
      "source": [
        "# Pre-trianed GloVe Embeddings of Training Examples\n",
        "Download the pretrained GloVe Embeddings of desired dimensions using gensim downlader.\n",
        "\n",
        "Save downloaded embeddings to a local file to avoid re-downloading when the kernel or notebook is restarted."
      ]
    },
    {
      "cell_type": "code",
      "execution_count": null,
      "metadata": {
        "id": "KWyAJ5D_ytnL",
        "outputId": "c9806410-8a80-460e-985f-c66ee0468192",
        "colab": {
          "base_uri": "https://localhost:8080/",
          "height": 35
        }
      },
      "outputs": [
        {
          "output_type": "execute_result",
          "data": {
            "text/plain": [
              "'\\n    ONLY if you get an error after `import gensim`: update your smart_open liberary\\n    #!conda install --yes --prefix {sys.prefix} smart_open\\n    restart your notebook\\n    see if `import gensim` works now\\n'"
            ],
            "application/vnd.google.colaboratory.intrinsic+json": {
              "type": "string"
            }
          },
          "metadata": {},
          "execution_count": 9
        }
      ],
      "source": [
        "\"\"\"\n",
        "    Install gensim, to use word2vec word embeddings\n",
        "    Install gensim (for pre-trained word embeddings)\n",
        "    #!conda install --yes --prefix {sys.prefix} gensim\n",
        "\"\"\"\n",
        "#import gensim\n",
        "#import gensim.downloader\n",
        "\n",
        "\"\"\"\n",
        "    ONLY if you get an error after `import gensim`: update your smart_open liberary\n",
        "    #!conda install --yes --prefix {sys.prefix} smart_open\n",
        "    restart your notebook\n",
        "    see if `import gensim` works now\n",
        "\"\"\"\n",
        "#wv = gensim.downloader.load(\"glove-wiki-gigaword-50\")\n",
        "\n",
        "#import pickle\n",
        "\n",
        "#with open(\"glove_embeddings.pkl\", \"wb\") as f:\n",
        "    #pickle.dump(wv, f)\n"
      ]
    },
    {
      "cell_type": "code",
      "execution_count": 21,
      "metadata": {
        "colab": {
          "base_uri": "https://localhost:8080/"
        },
        "id": "QqA5DXEEwz1D",
        "outputId": "f8d3053c-ccfe-4e19-ae47-06018d92a285"
      },
      "outputs": [
        {
          "output_type": "execute_result",
          "data": {
            "text/plain": [
              "array([-0.20356 , -0.8707  , -0.19172 ,  0.73862 ,  0.18494 ,  0.14926 ,\n",
              "        0.48079 , -0.21633 ,  0.72753 , -0.36912 ,  0.13397 , -0.1143  ,\n",
              "       -0.18075 , -0.64683 , -0.18484 ,  0.83575 ,  0.48179 ,  0.76026 ,\n",
              "       -0.50381 ,  0.80743 ,  1.2195  ,  0.3459  ,  0.22185 ,  0.31335 ,\n",
              "        1.2066  , -1.8441  ,  0.14064 , -0.99715 , -1.1402  ,  0.32342 ,\n",
              "        3.2128  ,  0.42708 ,  0.19504 ,  0.80113 ,  0.38555 , -0.12568 ,\n",
              "       -0.26533 ,  0.055264, -1.1557  ,  0.16836 , -0.82228 ,  0.20394 ,\n",
              "        0.089235, -0.60125 , -0.032878,  1.3735  , -0.51661 ,  0.29611 ,\n",
              "        0.23951 , -1.3801  ], dtype=float32)"
            ]
          },
          "metadata": {},
          "execution_count": 21
        }
      ],
      "source": [
        "import pickle\n",
        "\n",
        "with open(\"./drive/MyDrive/NeuralNets/standardNeuralNets/glove_embeddings.pkl\", \"rb\") as f:\n",
        "    wv = pickle.load(f)\n",
        "\n",
        "# lookup the word vector for a word \"india\"\n",
        "wv['india']"
      ]
    },
    {
      "cell_type": "markdown",
      "metadata": {
        "id": "0YFDJY6pMdHx"
      },
      "source": [
        "# Extract reviews, classifications, and rationales from the train, validation, and test datasets to convert them to Glove embeddings."
      ]
    },
    {
      "cell_type": "code",
      "execution_count": 22,
      "metadata": {
        "colab": {
          "base_uri": "https://localhost:8080/",
          "height": 258
        },
        "id": "XoZiHbVxytnN",
        "outputId": "3f4dd3f7-3684-41af-e27c-96c5c8bdace5"
      },
      "outputs": [
        {
          "output_type": "stream",
          "name": "stdout",
          "text": [
            "Number of reviews in training data: 1600\n",
            "Max seq length of reviews: 2809\n",
            "Size of training classes: torch.Size([1600])\n"
          ]
        },
        {
          "output_type": "execute_result",
          "data": {
            "text/plain": [
              "  annotation_id  classification  \\\n",
              "0  negR_000.txt               0   \n",
              "1  negR_001.txt               0   \n",
              "2  negR_002.txt               0   \n",
              "3  negR_003.txt               0   \n",
              "4  negR_004.txt               0   \n",
              "\n",
              "                                           evidences  \\\n",
              "0  ['mind - fuck movie', 'the sad part is', 'down...   \n",
              "1  [\"it 's pretty much a sunken ship\", 'sutherlan...   \n",
              "2  ['the characters and acting is nothing spectac...   \n",
              "3  ['dead on arrival', 'the characters stink', 's...   \n",
              "4  ['it is highly derivative and somewhat boring'...   \n",
              "\n",
              "                                             content  \n",
              "0  plot : two teen couples go to a church party ,...  \n",
              "1  the happy bastard 's quick movie review damn t...  \n",
              "2  it is movies like these that make a jaded movi...  \n",
              "3  \" quest for camelot \" is warner bros . ' first...  \n",
              "4  synopsis : a mentally unstable man undergoing ...  "
            ],
            "text/html": [
              "\n",
              "  <div id=\"df-e1287fe7-4186-4838-89c0-b51982f275f9\" class=\"colab-df-container\">\n",
              "    <div>\n",
              "<style scoped>\n",
              "    .dataframe tbody tr th:only-of-type {\n",
              "        vertical-align: middle;\n",
              "    }\n",
              "\n",
              "    .dataframe tbody tr th {\n",
              "        vertical-align: top;\n",
              "    }\n",
              "\n",
              "    .dataframe thead th {\n",
              "        text-align: right;\n",
              "    }\n",
              "</style>\n",
              "<table border=\"1\" class=\"dataframe\">\n",
              "  <thead>\n",
              "    <tr style=\"text-align: right;\">\n",
              "      <th></th>\n",
              "      <th>annotation_id</th>\n",
              "      <th>classification</th>\n",
              "      <th>evidences</th>\n",
              "      <th>content</th>\n",
              "    </tr>\n",
              "  </thead>\n",
              "  <tbody>\n",
              "    <tr>\n",
              "      <th>0</th>\n",
              "      <td>negR_000.txt</td>\n",
              "      <td>0</td>\n",
              "      <td>['mind - fuck movie', 'the sad part is', 'down...</td>\n",
              "      <td>plot : two teen couples go to a church party ,...</td>\n",
              "    </tr>\n",
              "    <tr>\n",
              "      <th>1</th>\n",
              "      <td>negR_001.txt</td>\n",
              "      <td>0</td>\n",
              "      <td>[\"it 's pretty much a sunken ship\", 'sutherlan...</td>\n",
              "      <td>the happy bastard 's quick movie review damn t...</td>\n",
              "    </tr>\n",
              "    <tr>\n",
              "      <th>2</th>\n",
              "      <td>negR_002.txt</td>\n",
              "      <td>0</td>\n",
              "      <td>['the characters and acting is nothing spectac...</td>\n",
              "      <td>it is movies like these that make a jaded movi...</td>\n",
              "    </tr>\n",
              "    <tr>\n",
              "      <th>3</th>\n",
              "      <td>negR_003.txt</td>\n",
              "      <td>0</td>\n",
              "      <td>['dead on arrival', 'the characters stink', 's...</td>\n",
              "      <td>\" quest for camelot \" is warner bros . ' first...</td>\n",
              "    </tr>\n",
              "    <tr>\n",
              "      <th>4</th>\n",
              "      <td>negR_004.txt</td>\n",
              "      <td>0</td>\n",
              "      <td>['it is highly derivative and somewhat boring'...</td>\n",
              "      <td>synopsis : a mentally unstable man undergoing ...</td>\n",
              "    </tr>\n",
              "  </tbody>\n",
              "</table>\n",
              "</div>\n",
              "    <div class=\"colab-df-buttons\">\n",
              "\n",
              "  <div class=\"colab-df-container\">\n",
              "    <button class=\"colab-df-convert\" onclick=\"convertToInteractive('df-e1287fe7-4186-4838-89c0-b51982f275f9')\"\n",
              "            title=\"Convert this dataframe to an interactive table.\"\n",
              "            style=\"display:none;\">\n",
              "\n",
              "  <svg xmlns=\"http://www.w3.org/2000/svg\" height=\"24px\" viewBox=\"0 -960 960 960\">\n",
              "    <path d=\"M120-120v-720h720v720H120Zm60-500h600v-160H180v160Zm220 220h160v-160H400v160Zm0 220h160v-160H400v160ZM180-400h160v-160H180v160Zm440 0h160v-160H620v160ZM180-180h160v-160H180v160Zm440 0h160v-160H620v160Z\"/>\n",
              "  </svg>\n",
              "    </button>\n",
              "\n",
              "  <style>\n",
              "    .colab-df-container {\n",
              "      display:flex;\n",
              "      gap: 12px;\n",
              "    }\n",
              "\n",
              "    .colab-df-convert {\n",
              "      background-color: #E8F0FE;\n",
              "      border: none;\n",
              "      border-radius: 50%;\n",
              "      cursor: pointer;\n",
              "      display: none;\n",
              "      fill: #1967D2;\n",
              "      height: 32px;\n",
              "      padding: 0 0 0 0;\n",
              "      width: 32px;\n",
              "    }\n",
              "\n",
              "    .colab-df-convert:hover {\n",
              "      background-color: #E2EBFA;\n",
              "      box-shadow: 0px 1px 2px rgba(60, 64, 67, 0.3), 0px 1px 3px 1px rgba(60, 64, 67, 0.15);\n",
              "      fill: #174EA6;\n",
              "    }\n",
              "\n",
              "    .colab-df-buttons div {\n",
              "      margin-bottom: 4px;\n",
              "    }\n",
              "\n",
              "    [theme=dark] .colab-df-convert {\n",
              "      background-color: #3B4455;\n",
              "      fill: #D2E3FC;\n",
              "    }\n",
              "\n",
              "    [theme=dark] .colab-df-convert:hover {\n",
              "      background-color: #434B5C;\n",
              "      box-shadow: 0px 1px 3px 1px rgba(0, 0, 0, 0.15);\n",
              "      filter: drop-shadow(0px 1px 2px rgba(0, 0, 0, 0.3));\n",
              "      fill: #FFFFFF;\n",
              "    }\n",
              "  </style>\n",
              "\n",
              "    <script>\n",
              "      const buttonEl =\n",
              "        document.querySelector('#df-e1287fe7-4186-4838-89c0-b51982f275f9 button.colab-df-convert');\n",
              "      buttonEl.style.display =\n",
              "        google.colab.kernel.accessAllowed ? 'block' : 'none';\n",
              "\n",
              "      async function convertToInteractive(key) {\n",
              "        const element = document.querySelector('#df-e1287fe7-4186-4838-89c0-b51982f275f9');\n",
              "        const dataTable =\n",
              "          await google.colab.kernel.invokeFunction('convertToInteractive',\n",
              "                                                    [key], {});\n",
              "        if (!dataTable) return;\n",
              "\n",
              "        const docLinkHtml = 'Like what you see? Visit the ' +\n",
              "          '<a target=\"_blank\" href=https://colab.research.google.com/notebooks/data_table.ipynb>data table notebook</a>'\n",
              "          + ' to learn more about interactive tables.';\n",
              "        element.innerHTML = '';\n",
              "        dataTable['output_type'] = 'display_data';\n",
              "        await google.colab.output.renderOutput(dataTable, element);\n",
              "        const docLink = document.createElement('div');\n",
              "        docLink.innerHTML = docLinkHtml;\n",
              "        element.appendChild(docLink);\n",
              "      }\n",
              "    </script>\n",
              "  </div>\n",
              "\n",
              "\n",
              "<div id=\"df-082feca2-776f-40e8-8e27-9d77627476f7\">\n",
              "  <button class=\"colab-df-quickchart\" onclick=\"quickchart('df-082feca2-776f-40e8-8e27-9d77627476f7')\"\n",
              "            title=\"Suggest charts\"\n",
              "            style=\"display:none;\">\n",
              "\n",
              "<svg xmlns=\"http://www.w3.org/2000/svg\" height=\"24px\"viewBox=\"0 0 24 24\"\n",
              "     width=\"24px\">\n",
              "    <g>\n",
              "        <path d=\"M19 3H5c-1.1 0-2 .9-2 2v14c0 1.1.9 2 2 2h14c1.1 0 2-.9 2-2V5c0-1.1-.9-2-2-2zM9 17H7v-7h2v7zm4 0h-2V7h2v10zm4 0h-2v-4h2v4z\"/>\n",
              "    </g>\n",
              "</svg>\n",
              "  </button>\n",
              "\n",
              "<style>\n",
              "  .colab-df-quickchart {\n",
              "      --bg-color: #E8F0FE;\n",
              "      --fill-color: #1967D2;\n",
              "      --hover-bg-color: #E2EBFA;\n",
              "      --hover-fill-color: #174EA6;\n",
              "      --disabled-fill-color: #AAA;\n",
              "      --disabled-bg-color: #DDD;\n",
              "  }\n",
              "\n",
              "  [theme=dark] .colab-df-quickchart {\n",
              "      --bg-color: #3B4455;\n",
              "      --fill-color: #D2E3FC;\n",
              "      --hover-bg-color: #434B5C;\n",
              "      --hover-fill-color: #FFFFFF;\n",
              "      --disabled-bg-color: #3B4455;\n",
              "      --disabled-fill-color: #666;\n",
              "  }\n",
              "\n",
              "  .colab-df-quickchart {\n",
              "    background-color: var(--bg-color);\n",
              "    border: none;\n",
              "    border-radius: 50%;\n",
              "    cursor: pointer;\n",
              "    display: none;\n",
              "    fill: var(--fill-color);\n",
              "    height: 32px;\n",
              "    padding: 0;\n",
              "    width: 32px;\n",
              "  }\n",
              "\n",
              "  .colab-df-quickchart:hover {\n",
              "    background-color: var(--hover-bg-color);\n",
              "    box-shadow: 0 1px 2px rgba(60, 64, 67, 0.3), 0 1px 3px 1px rgba(60, 64, 67, 0.15);\n",
              "    fill: var(--button-hover-fill-color);\n",
              "  }\n",
              "\n",
              "  .colab-df-quickchart-complete:disabled,\n",
              "  .colab-df-quickchart-complete:disabled:hover {\n",
              "    background-color: var(--disabled-bg-color);\n",
              "    fill: var(--disabled-fill-color);\n",
              "    box-shadow: none;\n",
              "  }\n",
              "\n",
              "  .colab-df-spinner {\n",
              "    border: 2px solid var(--fill-color);\n",
              "    border-color: transparent;\n",
              "    border-bottom-color: var(--fill-color);\n",
              "    animation:\n",
              "      spin 1s steps(1) infinite;\n",
              "  }\n",
              "\n",
              "  @keyframes spin {\n",
              "    0% {\n",
              "      border-color: transparent;\n",
              "      border-bottom-color: var(--fill-color);\n",
              "      border-left-color: var(--fill-color);\n",
              "    }\n",
              "    20% {\n",
              "      border-color: transparent;\n",
              "      border-left-color: var(--fill-color);\n",
              "      border-top-color: var(--fill-color);\n",
              "    }\n",
              "    30% {\n",
              "      border-color: transparent;\n",
              "      border-left-color: var(--fill-color);\n",
              "      border-top-color: var(--fill-color);\n",
              "      border-right-color: var(--fill-color);\n",
              "    }\n",
              "    40% {\n",
              "      border-color: transparent;\n",
              "      border-right-color: var(--fill-color);\n",
              "      border-top-color: var(--fill-color);\n",
              "    }\n",
              "    60% {\n",
              "      border-color: transparent;\n",
              "      border-right-color: var(--fill-color);\n",
              "    }\n",
              "    80% {\n",
              "      border-color: transparent;\n",
              "      border-right-color: var(--fill-color);\n",
              "      border-bottom-color: var(--fill-color);\n",
              "    }\n",
              "    90% {\n",
              "      border-color: transparent;\n",
              "      border-bottom-color: var(--fill-color);\n",
              "    }\n",
              "  }\n",
              "</style>\n",
              "\n",
              "  <script>\n",
              "    async function quickchart(key) {\n",
              "      const quickchartButtonEl =\n",
              "        document.querySelector('#' + key + ' button');\n",
              "      quickchartButtonEl.disabled = true;  // To prevent multiple clicks.\n",
              "      quickchartButtonEl.classList.add('colab-df-spinner');\n",
              "      try {\n",
              "        const charts = await google.colab.kernel.invokeFunction(\n",
              "            'suggestCharts', [key], {});\n",
              "      } catch (error) {\n",
              "        console.error('Error during call to suggestCharts:', error);\n",
              "      }\n",
              "      quickchartButtonEl.classList.remove('colab-df-spinner');\n",
              "      quickchartButtonEl.classList.add('colab-df-quickchart-complete');\n",
              "    }\n",
              "    (() => {\n",
              "      let quickchartButtonEl =\n",
              "        document.querySelector('#df-082feca2-776f-40e8-8e27-9d77627476f7 button');\n",
              "      quickchartButtonEl.style.display =\n",
              "        google.colab.kernel.accessAllowed ? 'block' : 'none';\n",
              "    })();\n",
              "  </script>\n",
              "</div>\n",
              "\n",
              "    </div>\n",
              "  </div>\n"
            ],
            "application/vnd.google.colaboratory.intrinsic+json": {
              "type": "dataframe",
              "variable_name": "train_df",
              "summary": "{\n  \"name\": \"train_df\",\n  \"rows\": 1600,\n  \"fields\": [\n    {\n      \"column\": \"annotation_id\",\n      \"properties\": {\n        \"dtype\": \"string\",\n        \"num_unique_values\": 1600,\n        \"samples\": [\n          \"negR_526.txt\",\n          \"negR_354.txt\",\n          \"negR_168.txt\"\n        ],\n        \"semantic_type\": \"\",\n        \"description\": \"\"\n      }\n    },\n    {\n      \"column\": \"classification\",\n      \"properties\": {\n        \"dtype\": \"number\",\n        \"std\": 0,\n        \"min\": 0,\n        \"max\": 1,\n        \"num_unique_values\": 2,\n        \"samples\": [\n          1,\n          0\n        ],\n        \"semantic_type\": \"\",\n        \"description\": \"\"\n      }\n    },\n    {\n      \"column\": \"evidences\",\n      \"properties\": {\n        \"dtype\": \"string\",\n        \"num_unique_values\": 1600,\n        \"samples\": [\n          \"['so full of plot holes and non characters as to be sure to be the recipient of next years \\\" razzie \\\" award', 'there is so much wrong with this film', 'reeks almost as bad as the piles of rotting fish used to trap the beast', 'the movie has little or no depth', 'plot holes', 'should be ashamed of themselves', 'bleak and ugly looking', \\\"i sincerely hope that i 've completely spoiled any interest\\\", 'without a doubt the loudest , longest , and ultimately most amateurishly written film ever released', 'the performances in the film are singularly bland', 'without a doubt the most brain dead motion picture of the decade']\",\n          \"[\\\"wow , a film without any redeeming qualities whatsoever . i 'm amazed that someone thought this was a story that must be told on screen\\\", \\\"even i 'm offended by it\\\", \\\"there 's just an endless stream of profanity and naked breasts\\\", 'there was no comedy in the film']\"\n        ],\n        \"semantic_type\": \"\",\n        \"description\": \"\"\n      }\n    },\n    {\n      \"column\": \"content\",\n      \"properties\": {\n        \"dtype\": \"string\",\n        \"num_unique_values\": 1599,\n        \"samples\": [\n          \"moviemaking is a lot like being the general manager of an nfl team in the post - salary cap era -- you 've got to know how to allocate your resources . every dollar spent on a free - agent defensive tackle is one less dollar than you can spend on linebackers or safeties or centers . in the nfl , this leads to teams like the detroit lions , who boast a superstar running back with a huge contract , but can only field five guys named herb to block for him . in the movies , you end up with films like \\\" spawn \\\" , with a huge special - effects budget but not enough money to hire any recognizable actors . jackie chan is the barry sanders of moviemaking . he spins and darts across the screen like sanders cutting back through the defensive line . watching jackie in operation condor as he drives his motorcycle through the crowded streets of madrid , fleeing an armada of pursuers in identical black compact cars , is reminiscent of sanders running for daylight with the chicago bears in hot pursuit , except that sanders does n't have to worry about rescuing runaway baby carriages . but like the lions star , jackie does n't have anybody to block for him . almost every cent that 's invested in a jackie chan movie goes for stunts , and as chan does his own stunts , the rest of the money goes to pay his hospital bills . this leaves about 75 cents to pay for things like directors ( chan directs ) , scripts and dubbing and supporting characters , not to mention the hideous title sequence . this also explains why the movie was shot in odd places like morocco and spain . ( chan 's first release in this country , \\\" rumble in the bronx \\\" , was supposedly set in new york , but was filmed in vancouver , and in the chase scenes the canadian rockies are clearly visible . ) heck , jackie does n't even have enough money for a haircut , looks like , much less a personal hairstylist . in condor , chan plays the same character he 's always played , himself , a mixture of bruce lee and tim allen , a master of both kung - fu and slapstick - fu . jackie is sent by the un to retrieve a cache of lost nazi gold in the north african desert , and is chased by a horde of neo - nazi sympathizers and two stereotypical arabs ( one of the things i like about jackie chan movies : no political correctness ) . he is joined by three women , who have little to do except scream , \\\" jackie , save us ! \\\" , and misuse firearms . the villain is an old nazi whose legs were broken in the secret base so that he has to be carried everywhere , and he 's more pathetic than evil . en route , we have an extended motorcycle chase scene , a hilarious fight in the moroccan version of motel 6 with the neo - nazis , and two confrontations with savage natives . once at the secret desert base , there is a long chop - socky sequence , followed by the film 's centerpiece , a wind - tunnel fight that 's even better than the one in face / off . this is where the money was spent , on well - choreographed kung - fu sequences , on giant kevlar hamster balls , on smashed - up crates of bananas , and on scorpions . ignore the gaping holes in the plot ( how , exactly , if the villain 's legs were broken , did he escape from the secret nazi base , and why did n't he take the key with him ? ) . do n't worry about the production values , or what , exactly , the japanese girl was doing hitchhiking across the sahara . just go see the movie . operation condor has pretentions of being a \\\" raiders of the lost ark \\\" knockoff , but one wonders what jackie could do with the raiders franchise blocking for him -- with a lawrence kazdan screenplay , a john williams score , spielberg directing and george lucas producing , condor might be an a+ movie . however , you 've got to go with what you 've got , and what you 've got in jackie chan is something special -- a talent that mainstream hollywood should , could , and ought to utilize .\",\n          \"\\\" something is fishy in the state of universal . \\\" about ten years back , with the unexpected success of mad max and the road warrior , post - apocalypse nitty - gritty survival yarns became popular at the movies . we 've always had movies of this nature ; on the beach , the end of the world , damnation alley , the ultimate warrior , and so on . to date , the most smoothly done were straightforward \\\" haircuts \\\" of the classic western plot , like the lone gunman who comes to town and protects the widow and the son against an evil organization , usually one in possession of some critical resource , like water , feed range , or a mining claim . most of these grew out of venerable , but solid hero yarns like the virginian and shane . ( my personal favorite is a patrick swayze movie called steel dawn , which was fairly well made on a small budget . ) now we have waterworld , which again brings the traditional lone gunman to town to rescue the young widow and her daughter . ( well , she 's not a widow , and the kid is n't her daughter , but you get the idea . ) the lady is helen , played by the stunning jean tripplehorn , who is n't given a chance to be stunning , or even interesting , by the mediocre and unimaginative script . the child enola , played by tina majorino , is living proof that a child actor need not be a bad thing to have in a movie ; she outshines her material all the way through . in simple , the scene is earth , hundreds of years from now . the polar ice caps have melted , and somehow produced enough water to inundate the entire planet . the few remaining people live in boats and floating colonies , and survive by trade , theft , or piracy . somehow an oil tanker has survived the centuries , and its inhabitants , called \\\" smokers , \\\" are able to keep gasoline engines running despite the dearth of replacement parts and raw materials , so the bad guys have outboard engines , and fast - moving boats , airplanes , and jet skis . enola , found at sea as a young girl , has a mysterious map no one can read tattooed on her back . we suspect early on that it is the way to the mythical \\\" dryland , \\\" the place where trees , crops , and animals grow , and what plot there is hinges on who has enola . the psycho ruler of the smokers , the \\\" deacon , \\\" is trying to get her and find his way to dryland . played with typical self - lampooning , rug - chewing histrionics by dennis hopper , \\\" deacon \\\" is the only thing in the movie that 's close to amusing . his performance is * almost * laughable , but there just is n't enough there to be funny . the star ( and a co - producer ) is kevin costner . he 's playing an un - named lone denizen of the sea , a man called the \\\" mariner , \\\" who turns out to be a gilled , water - breathing mutant with webbed feet . very little is done with this . the script ignores the ineffectuality of gills in supplying enough oxygen to support a human metabolism ; it ignores the fact that even with both ice caps completely melted , much of the earth 's surface would still be above water ; and it ignores the blatant impossibility of the cultures and technology shown . ( canned meat does * not * last for centuries ; ammunition does * not * fire after it 's more than a few decades old ; and so on , and so on . . . ) i 'm quite fond of tina majorino 's previous work , very impressed by jean tripplehorn 's past accomplishments , and still speechless over costner 's dances with wolves . but this movie could destroy the careers of anyone associated with it ! this movie cost one hundred and eighty - two million dollars , and there 's * nothing * in it we have n't seen before , done better on only a few percent of the cost of this turkey . at 125 minutes of material , this movie cost over one point four million dollars per minute to make . the budget of this movie * could * have given us over thirty movies ; it could have paid for six years of a prime - time sf tv series with expensive fx work , or ten years of an sf tv series with good digital fx . in sum , this movie is beneath contempt . it has nothing new to offer , it has a script that could easily have been bettered by the people who write comic books for dc , and it spent more money than the national budget of a small nation . if you * have * to go see it , see it on a four - dollar matinee . otherwise you 'll find yourself sneering at you every time you pass a reflective surface , for weeks .\"\n        ],\n        \"semantic_type\": \"\",\n        \"description\": \"\"\n      }\n    }\n  ]\n}"
            }
          },
          "metadata": {},
          "execution_count": 22
        }
      ],
      "source": [
        "# convert the training dataset to a pandas dataframe\n",
        "train_df = pd.DataFrame(train_data)\n",
        "train_df.drop(columns=['query', 'query_type'], inplace=True)\n",
        "train_df['evidences'] = train_df['evidences'].astype(str)\n",
        "\n",
        "train_rationales = train_df['evidences']\n",
        "train_reviews = [get_content(train_data, i) for i in range(train_size)]\n",
        "train_classes = torch.tensor([get_classes(train_data, i) for i in range(train_size)], dtype=torch.float)\n",
        "train_classes = torch.stack([train_classes]).squeeze(0) # convert the classes to binary tensor for two classes (pos & neg)\n",
        "print(\"Number of reviews in training data:\",len(train_reviews))\n",
        "print(\"Max seq length of reviews:\", np.max([len(review.split()) for review in train_reviews]))\n",
        "print(\"Size of training classes:\", train_classes.size())\n",
        "train_df.to_csv('./drive/MyDrive/NeuralNets/standardNeuralNets/train_data.csv', index=False)\n",
        "train_df.head()"
      ]
    },
    {
      "cell_type": "code",
      "execution_count": 98,
      "metadata": {
        "colab": {
          "base_uri": "https://localhost:8080/"
        },
        "id": "YUXL-ZR0Pujb",
        "outputId": "3eed540a-ad89-4455-845c-a8d645e3b86d"
      },
      "outputs": [
        {
          "output_type": "stream",
          "name": "stdout",
          "text": [
            "Number of reviews in validation data: 200\n",
            "Max seq length of reviews: 1880\n",
            "Size of training classes: torch.Size([1600])\n",
            "tensor([0., 0., 0., 0., 0., 0., 0., 0., 0., 0., 0., 0., 0., 0., 0., 0., 0., 0.,\n",
            "        0., 0., 0., 0., 0., 0., 0., 0., 0., 0., 0., 0., 0., 0., 0., 0., 0., 0.,\n",
            "        0., 0., 0., 0., 0., 0., 0., 0., 0., 0., 0., 0., 0., 0., 0., 0., 0., 0.,\n",
            "        0., 0., 0., 0., 0., 0., 0., 0., 0., 0., 0., 0., 0., 0., 0., 0., 0., 0.,\n",
            "        0., 0., 0., 0., 0., 0., 0., 0., 0., 0., 0., 0., 0., 0., 0., 0., 0., 0.,\n",
            "        0., 0., 0., 0., 0., 0., 0., 0., 0., 0., 1., 1., 1., 1., 1., 1., 1., 1.,\n",
            "        1., 1., 1., 1., 1., 1., 1., 1., 1., 1., 1., 1., 1., 1., 1., 1., 1., 1.,\n",
            "        1., 1., 1., 1., 1., 1., 1., 1., 1., 1., 1., 1., 1., 1., 1., 1., 1., 1.,\n",
            "        1., 1., 1., 1., 1., 1., 1., 1., 1., 1., 1., 1., 1., 1., 1., 1., 1., 1.,\n",
            "        1., 1., 1., 1., 1., 1., 1., 1., 1., 1., 1., 1., 1., 1., 1., 1., 1., 1.,\n",
            "        1., 1., 1., 1., 1., 1., 1., 1., 1., 1., 1., 1., 1., 1., 1., 1., 1., 1.,\n",
            "        1., 1.])\n"
          ]
        }
      ],
      "source": [
        "# convert the validation dataset to a pandas dataframe\n",
        "val_df = pd.DataFrame(validation_data)\n",
        "val_df.drop(columns=['query', 'query_type'], inplace=True)\n",
        "val_df['evidences'] = val_df['evidences'].astype(str)\n",
        "\n",
        "val_rationales = val_df['evidences']\n",
        "val_reviews = [get_content(validation_data, i) for i in range(val_size)]\n",
        "val_classes = torch.tensor([get_classes(validation_data, i) for i in range(val_size)], dtype=torch.float)\n",
        "val_classes = torch.stack([val_classes]).squeeze(0) # convert the classes to binary tensor for two classes (pos & neg)\n",
        "\n",
        "print(\"Number of reviews in validation data:\",len(val_reviews))\n",
        "print(\"Max seq length of reviews:\", np.max([len(review.split()) for review in val_reviews]))\n",
        "print(\"Size of training classes:\", train_classes.size())\n",
        "val_df.to_csv('./drive/MyDrive/NeuralNets/standardNeuralNets/val_data.csv', index=False)\n",
        "val_df.head()\n",
        "print(val_classes)"
      ]
    },
    {
      "cell_type": "code",
      "execution_count": 24,
      "metadata": {
        "colab": {
          "base_uri": "https://localhost:8080/",
          "height": 258
        },
        "id": "Q4vG15P9OvtM",
        "outputId": "471008c4-da4a-4782-af11-30c2a4f1ce8d"
      },
      "outputs": [
        {
          "output_type": "stream",
          "name": "stdout",
          "text": [
            "Number of reviews in test data: 199\n",
            "Max seq length of reviews: 2122\n",
            "Size of training classes: torch.Size([1600])\n"
          ]
        },
        {
          "output_type": "execute_result",
          "data": {
            "text/plain": [
              "  annotation_id  classification  \\\n",
              "0  negR_900.txt               0   \n",
              "1  negR_901.txt               0   \n",
              "2  negR_902.txt               0   \n",
              "3  negR_903.txt               0   \n",
              "4  negR_904.txt               0   \n",
              "\n",
              "                                           evidences  \\\n",
              "0                                 ['i even giggled']   \n",
              "1                                          ['rings']   \n",
              "2  [\"there 're so many things to criticize about ...   \n",
              "3  [\"do n't let this movie fool you into believin...   \n",
              "4  [\"is proof that hollywood does n't have a clue...   \n",
              "\n",
              "                                             content  \n",
              "0  there may not be a critic alive who harbors as...  \n",
              "1  renee zellweger stars as sonia , a young jewis...  \n",
              "2  there 're so many things to criticize about i ...  \n",
              "3  do n't let this movie fool you into believing ...  \n",
              "4  it 's a good thing most animated sci - fi movi...  "
            ],
            "text/html": [
              "\n",
              "  <div id=\"df-0292091c-68eb-4208-b3d1-c6dc6f3bc630\" class=\"colab-df-container\">\n",
              "    <div>\n",
              "<style scoped>\n",
              "    .dataframe tbody tr th:only-of-type {\n",
              "        vertical-align: middle;\n",
              "    }\n",
              "\n",
              "    .dataframe tbody tr th {\n",
              "        vertical-align: top;\n",
              "    }\n",
              "\n",
              "    .dataframe thead th {\n",
              "        text-align: right;\n",
              "    }\n",
              "</style>\n",
              "<table border=\"1\" class=\"dataframe\">\n",
              "  <thead>\n",
              "    <tr style=\"text-align: right;\">\n",
              "      <th></th>\n",
              "      <th>annotation_id</th>\n",
              "      <th>classification</th>\n",
              "      <th>evidences</th>\n",
              "      <th>content</th>\n",
              "    </tr>\n",
              "  </thead>\n",
              "  <tbody>\n",
              "    <tr>\n",
              "      <th>0</th>\n",
              "      <td>negR_900.txt</td>\n",
              "      <td>0</td>\n",
              "      <td>['i even giggled']</td>\n",
              "      <td>there may not be a critic alive who harbors as...</td>\n",
              "    </tr>\n",
              "    <tr>\n",
              "      <th>1</th>\n",
              "      <td>negR_901.txt</td>\n",
              "      <td>0</td>\n",
              "      <td>['rings']</td>\n",
              "      <td>renee zellweger stars as sonia , a young jewis...</td>\n",
              "    </tr>\n",
              "    <tr>\n",
              "      <th>2</th>\n",
              "      <td>negR_902.txt</td>\n",
              "      <td>0</td>\n",
              "      <td>[\"there 're so many things to criticize about ...</td>\n",
              "      <td>there 're so many things to criticize about i ...</td>\n",
              "    </tr>\n",
              "    <tr>\n",
              "      <th>3</th>\n",
              "      <td>negR_903.txt</td>\n",
              "      <td>0</td>\n",
              "      <td>[\"do n't let this movie fool you into believin...</td>\n",
              "      <td>do n't let this movie fool you into believing ...</td>\n",
              "    </tr>\n",
              "    <tr>\n",
              "      <th>4</th>\n",
              "      <td>negR_904.txt</td>\n",
              "      <td>0</td>\n",
              "      <td>[\"is proof that hollywood does n't have a clue...</td>\n",
              "      <td>it 's a good thing most animated sci - fi movi...</td>\n",
              "    </tr>\n",
              "  </tbody>\n",
              "</table>\n",
              "</div>\n",
              "    <div class=\"colab-df-buttons\">\n",
              "\n",
              "  <div class=\"colab-df-container\">\n",
              "    <button class=\"colab-df-convert\" onclick=\"convertToInteractive('df-0292091c-68eb-4208-b3d1-c6dc6f3bc630')\"\n",
              "            title=\"Convert this dataframe to an interactive table.\"\n",
              "            style=\"display:none;\">\n",
              "\n",
              "  <svg xmlns=\"http://www.w3.org/2000/svg\" height=\"24px\" viewBox=\"0 -960 960 960\">\n",
              "    <path d=\"M120-120v-720h720v720H120Zm60-500h600v-160H180v160Zm220 220h160v-160H400v160Zm0 220h160v-160H400v160ZM180-400h160v-160H180v160Zm440 0h160v-160H620v160ZM180-180h160v-160H180v160Zm440 0h160v-160H620v160Z\"/>\n",
              "  </svg>\n",
              "    </button>\n",
              "\n",
              "  <style>\n",
              "    .colab-df-container {\n",
              "      display:flex;\n",
              "      gap: 12px;\n",
              "    }\n",
              "\n",
              "    .colab-df-convert {\n",
              "      background-color: #E8F0FE;\n",
              "      border: none;\n",
              "      border-radius: 50%;\n",
              "      cursor: pointer;\n",
              "      display: none;\n",
              "      fill: #1967D2;\n",
              "      height: 32px;\n",
              "      padding: 0 0 0 0;\n",
              "      width: 32px;\n",
              "    }\n",
              "\n",
              "    .colab-df-convert:hover {\n",
              "      background-color: #E2EBFA;\n",
              "      box-shadow: 0px 1px 2px rgba(60, 64, 67, 0.3), 0px 1px 3px 1px rgba(60, 64, 67, 0.15);\n",
              "      fill: #174EA6;\n",
              "    }\n",
              "\n",
              "    .colab-df-buttons div {\n",
              "      margin-bottom: 4px;\n",
              "    }\n",
              "\n",
              "    [theme=dark] .colab-df-convert {\n",
              "      background-color: #3B4455;\n",
              "      fill: #D2E3FC;\n",
              "    }\n",
              "\n",
              "    [theme=dark] .colab-df-convert:hover {\n",
              "      background-color: #434B5C;\n",
              "      box-shadow: 0px 1px 3px 1px rgba(0, 0, 0, 0.15);\n",
              "      filter: drop-shadow(0px 1px 2px rgba(0, 0, 0, 0.3));\n",
              "      fill: #FFFFFF;\n",
              "    }\n",
              "  </style>\n",
              "\n",
              "    <script>\n",
              "      const buttonEl =\n",
              "        document.querySelector('#df-0292091c-68eb-4208-b3d1-c6dc6f3bc630 button.colab-df-convert');\n",
              "      buttonEl.style.display =\n",
              "        google.colab.kernel.accessAllowed ? 'block' : 'none';\n",
              "\n",
              "      async function convertToInteractive(key) {\n",
              "        const element = document.querySelector('#df-0292091c-68eb-4208-b3d1-c6dc6f3bc630');\n",
              "        const dataTable =\n",
              "          await google.colab.kernel.invokeFunction('convertToInteractive',\n",
              "                                                    [key], {});\n",
              "        if (!dataTable) return;\n",
              "\n",
              "        const docLinkHtml = 'Like what you see? Visit the ' +\n",
              "          '<a target=\"_blank\" href=https://colab.research.google.com/notebooks/data_table.ipynb>data table notebook</a>'\n",
              "          + ' to learn more about interactive tables.';\n",
              "        element.innerHTML = '';\n",
              "        dataTable['output_type'] = 'display_data';\n",
              "        await google.colab.output.renderOutput(dataTable, element);\n",
              "        const docLink = document.createElement('div');\n",
              "        docLink.innerHTML = docLinkHtml;\n",
              "        element.appendChild(docLink);\n",
              "      }\n",
              "    </script>\n",
              "  </div>\n",
              "\n",
              "\n",
              "<div id=\"df-066c6add-2a76-4f39-9259-53ff00fb7a97\">\n",
              "  <button class=\"colab-df-quickchart\" onclick=\"quickchart('df-066c6add-2a76-4f39-9259-53ff00fb7a97')\"\n",
              "            title=\"Suggest charts\"\n",
              "            style=\"display:none;\">\n",
              "\n",
              "<svg xmlns=\"http://www.w3.org/2000/svg\" height=\"24px\"viewBox=\"0 0 24 24\"\n",
              "     width=\"24px\">\n",
              "    <g>\n",
              "        <path d=\"M19 3H5c-1.1 0-2 .9-2 2v14c0 1.1.9 2 2 2h14c1.1 0 2-.9 2-2V5c0-1.1-.9-2-2-2zM9 17H7v-7h2v7zm4 0h-2V7h2v10zm4 0h-2v-4h2v4z\"/>\n",
              "    </g>\n",
              "</svg>\n",
              "  </button>\n",
              "\n",
              "<style>\n",
              "  .colab-df-quickchart {\n",
              "      --bg-color: #E8F0FE;\n",
              "      --fill-color: #1967D2;\n",
              "      --hover-bg-color: #E2EBFA;\n",
              "      --hover-fill-color: #174EA6;\n",
              "      --disabled-fill-color: #AAA;\n",
              "      --disabled-bg-color: #DDD;\n",
              "  }\n",
              "\n",
              "  [theme=dark] .colab-df-quickchart {\n",
              "      --bg-color: #3B4455;\n",
              "      --fill-color: #D2E3FC;\n",
              "      --hover-bg-color: #434B5C;\n",
              "      --hover-fill-color: #FFFFFF;\n",
              "      --disabled-bg-color: #3B4455;\n",
              "      --disabled-fill-color: #666;\n",
              "  }\n",
              "\n",
              "  .colab-df-quickchart {\n",
              "    background-color: var(--bg-color);\n",
              "    border: none;\n",
              "    border-radius: 50%;\n",
              "    cursor: pointer;\n",
              "    display: none;\n",
              "    fill: var(--fill-color);\n",
              "    height: 32px;\n",
              "    padding: 0;\n",
              "    width: 32px;\n",
              "  }\n",
              "\n",
              "  .colab-df-quickchart:hover {\n",
              "    background-color: var(--hover-bg-color);\n",
              "    box-shadow: 0 1px 2px rgba(60, 64, 67, 0.3), 0 1px 3px 1px rgba(60, 64, 67, 0.15);\n",
              "    fill: var(--button-hover-fill-color);\n",
              "  }\n",
              "\n",
              "  .colab-df-quickchart-complete:disabled,\n",
              "  .colab-df-quickchart-complete:disabled:hover {\n",
              "    background-color: var(--disabled-bg-color);\n",
              "    fill: var(--disabled-fill-color);\n",
              "    box-shadow: none;\n",
              "  }\n",
              "\n",
              "  .colab-df-spinner {\n",
              "    border: 2px solid var(--fill-color);\n",
              "    border-color: transparent;\n",
              "    border-bottom-color: var(--fill-color);\n",
              "    animation:\n",
              "      spin 1s steps(1) infinite;\n",
              "  }\n",
              "\n",
              "  @keyframes spin {\n",
              "    0% {\n",
              "      border-color: transparent;\n",
              "      border-bottom-color: var(--fill-color);\n",
              "      border-left-color: var(--fill-color);\n",
              "    }\n",
              "    20% {\n",
              "      border-color: transparent;\n",
              "      border-left-color: var(--fill-color);\n",
              "      border-top-color: var(--fill-color);\n",
              "    }\n",
              "    30% {\n",
              "      border-color: transparent;\n",
              "      border-left-color: var(--fill-color);\n",
              "      border-top-color: var(--fill-color);\n",
              "      border-right-color: var(--fill-color);\n",
              "    }\n",
              "    40% {\n",
              "      border-color: transparent;\n",
              "      border-right-color: var(--fill-color);\n",
              "      border-top-color: var(--fill-color);\n",
              "    }\n",
              "    60% {\n",
              "      border-color: transparent;\n",
              "      border-right-color: var(--fill-color);\n",
              "    }\n",
              "    80% {\n",
              "      border-color: transparent;\n",
              "      border-right-color: var(--fill-color);\n",
              "      border-bottom-color: var(--fill-color);\n",
              "    }\n",
              "    90% {\n",
              "      border-color: transparent;\n",
              "      border-bottom-color: var(--fill-color);\n",
              "    }\n",
              "  }\n",
              "</style>\n",
              "\n",
              "  <script>\n",
              "    async function quickchart(key) {\n",
              "      const quickchartButtonEl =\n",
              "        document.querySelector('#' + key + ' button');\n",
              "      quickchartButtonEl.disabled = true;  // To prevent multiple clicks.\n",
              "      quickchartButtonEl.classList.add('colab-df-spinner');\n",
              "      try {\n",
              "        const charts = await google.colab.kernel.invokeFunction(\n",
              "            'suggestCharts', [key], {});\n",
              "      } catch (error) {\n",
              "        console.error('Error during call to suggestCharts:', error);\n",
              "      }\n",
              "      quickchartButtonEl.classList.remove('colab-df-spinner');\n",
              "      quickchartButtonEl.classList.add('colab-df-quickchart-complete');\n",
              "    }\n",
              "    (() => {\n",
              "      let quickchartButtonEl =\n",
              "        document.querySelector('#df-066c6add-2a76-4f39-9259-53ff00fb7a97 button');\n",
              "      quickchartButtonEl.style.display =\n",
              "        google.colab.kernel.accessAllowed ? 'block' : 'none';\n",
              "    })();\n",
              "  </script>\n",
              "</div>\n",
              "\n",
              "    </div>\n",
              "  </div>\n"
            ],
            "application/vnd.google.colaboratory.intrinsic+json": {
              "type": "dataframe",
              "variable_name": "test_df",
              "summary": "{\n  \"name\": \"test_df\",\n  \"rows\": 199,\n  \"fields\": [\n    {\n      \"column\": \"annotation_id\",\n      \"properties\": {\n        \"dtype\": \"string\",\n        \"num_unique_values\": 199,\n        \"samples\": [\n          \"negR_982.txt\",\n          \"negR_915.txt\",\n          \"posR_911.txt\"\n        ],\n        \"semantic_type\": \"\",\n        \"description\": \"\"\n      }\n    },\n    {\n      \"column\": \"classification\",\n      \"properties\": {\n        \"dtype\": \"number\",\n        \"std\": 0,\n        \"min\": 0,\n        \"max\": 1,\n        \"num_unique_values\": 2,\n        \"samples\": [\n          1,\n          0\n        ],\n        \"semantic_type\": \"\",\n        \"description\": \"\"\n      }\n    },\n    {\n      \"column\": \"evidences\",\n      \"properties\": {\n        \"dtype\": \"string\",\n        \"num_unique_values\": 198,\n        \"samples\": [\n          \"['but , there is almost no life to original script by michael laughlin and buck henry and this is \\\" t&c \\\\'s \\\" downfall']\",\n          \"['script keeps the show moving with some nice one -']\"\n        ],\n        \"semantic_type\": \"\",\n        \"description\": \"\"\n      }\n    },\n    {\n      \"column\": \"content\",\n      \"properties\": {\n        \"dtype\": \"string\",\n        \"num_unique_values\": 199,\n        \"samples\": [\n          \"i remember really enjoying this movie when i saw it years ago . i guess my memory really sucks . there is very , very little that is funny in caddyshack . the laughs are few , and far between , and what there are really are n't that great . caddyshack , as the name implies , more or less centers on one young caddy working at an exclusive country club . michael o'keefe plays said caddy . why they cast this unknown , fairly untalented actor in the lead role is completely beyond me . the movie does n't seem to have a real plot , just a series of scenes that are little more than opportunities for the rest of the cast to mug at the camera . the only real story , if you can call it that , was a subplot involving the mentally disturbed greens keeper , bill murray , who is having his own private little war against a gopher who is ruining the course . most of the marginal laughs come from rodney dangerfield and ted knight mugging and overacting for the camera -- with painfully limited success . bill murray is slightly amusing in places , but fairly wasted . the biggest waste of all is chevy chase , who did n't even crack a smile on my face with his character 's lame zen - like approach to golfing . there are a few decent scenes involving the interaction between dangerfield and knight , but they are far too infrequent to carry the movie . i guess that 's what you get for basing a story around an unknown kid . i 'm not sure what the writers of this thing were thinking of , but i really think it was something far removed from comedy as they were putting pen to paper . nothing about this movie works . it would n't have taken a genius to figure out that this thing was n't going to fly . most of the scenes just could n't possibly be funny . it 's as if the writers where off in their own little brain damaged world . i 'm sure scenes involving chevy chase and his oneness with the golf ball were supposed to be funny . in reality , they were painfully embarrassing to watch . there is a scene at the club pool where all the caddies go wild for the \\\" hot babe \\\" of the movie walking by in her bikini . olive oil would have filled out this swimsuit better than this girl . everything about this movie was just completely implausible as far as the comedy was concerned . maybe if you were drunk out of you mind or high off some sort of illegal narcotic this thing might be funny . but for the rest of us , stay the hell away from caddyshack .\",\n          \"there 's only one presidential election every four years , but it seems like every few months we get another presidential conspiracy movie painted as _ the _ thriller of the year . in 1997 , we 've had absolute power , air force one , shadow conspiracy and murder at 1600 . this one is about as lame duck as old gerald ford , trying to bring us a complex plot of cover - up and intrigue but copping out over and over again with rehashes of action flick standbys . here 's what happens this time . it 's night at the white house . a secretary is having sex with some unidentified guy with a cute butt . the next day she 's dead and hotshot detective wesley snipes is called in . how do we know he 's a hotshot ? we 've seen the traditional action flick opener -- the clever hostage negotiation scene . it 's not so clever this time , consisting of snipes disarming a suicidal ex - government employee holding a gun to his head in the middle of the street . snipes is off to the white house , where he finds the secret service head ( the shiny bald head of daniel benzali ) wo n't cooperate with him at all . in fact , if not for the intervention of national security adviser alan alda , snipes would n't have been allowed in the white house at all . alda helps snipes out further , assigning a sexy secret service agent ( diane lane ) to act as his liaison . .. a very dangerous liaison . well , not really , i just wanted to say that . almost immediately , a suspect is found , an eccentric night janitor seen flirting with the deceased on one of the security videos . snipes does n't buy it , and launches into an independent investigation of his own , one that reveals planted evidence and romantic involvement by the president 's son . snipes ' partner , an always- wisecracking dennis miller , calls him up every once in awhile with more news and lane , who at first does n't believe snipes , eventually and predictably comes around , and risks her ass to break into social security storage and break out some classified information . for the first hour or so , murder at 1600 looks like it could be going somewhere interesting . sure , we have to sit through the lame opening sequence and plenty more lame scenes after that , but the whole murder in the white house thing makes for an interesting premise that is never quite delivered upon . snipes and lane do n't make for a bad action team , but with nothing to work with , they 're just cogs in the bad movie machine . dennis miller might as well not even be in the movie ; they waste his talents more in murder at 1600 than they did in bordello of blood , and that 's saying a lot . when you get to the last half - hour , the movie has descended metaphorically and literally into a wet sewer , busting out the old break - into - the - building underground climax . and when they finally reveal who killed the woman and why , you 'll wish you never sat through this movie at all . the \\\" 1600 \\\" in the movie 's title does n't represent an address , it represents the number of satisfied customers worldwide . serving the world for nearly 1/25th of a century !\"\n        ],\n        \"semantic_type\": \"\",\n        \"description\": \"\"\n      }\n    }\n  ]\n}"
            }
          },
          "metadata": {},
          "execution_count": 24
        }
      ],
      "source": [
        "# convert the test dataset to a pandas dataframe\n",
        "test_df = pd.DataFrame(test_data)\n",
        "test_df.drop(columns=['docids','query', 'query_type'], inplace=True)\n",
        "test_df['evidences'] = test_df['evidences'].astype(str)\n",
        "\n",
        "test_rationales = test_df['evidences']\n",
        "test_reviews = [get_content(test_data, i) for i in range(test_size)]\n",
        "test_classes = torch.tensor([get_classes(test_data, i) for i in range(test_size)], dtype=torch.float)\n",
        "test_classes = torch.stack([test_classes]).squeeze(0) # convert the classes to binary tensor for two classes (pos & neg)\n",
        "\n",
        "print(\"Number of reviews in test data:\",len(test_reviews))\n",
        "print(\"Max seq length of reviews:\", np.max([len(review.split()) for review in test_reviews]))\n",
        "print(\"Size of training classes:\", train_classes.size())\n",
        "test_df.to_csv('./drive/MyDrive/NeuralNets/standardNeuralNets/test_data.csv', index=False)\n",
        "test_df.head()"
      ]
    },
    {
      "cell_type": "markdown",
      "metadata": {
        "id": "Y_WbCl45wz1E"
      },
      "source": [
        "Extract validation set from the val.jsonl file and create a dataframe for it similar to the training set and save it to a csv file."
      ]
    },
    {
      "cell_type": "markdown",
      "metadata": {
        "id": "YbHzxzSlwz1E"
      },
      "source": [
        "# Convert the reviews & rationales to their corresponding Glove embeddings"
      ]
    },
    {
      "cell_type": "code",
      "source": [
        "from torch.nn.utils.rnn import pad_sequence\n",
        "from tqdm import tqdm\n",
        "\n",
        "def create_glove_dict(sequence, wv, set, embed_dim=50):\n",
        "    \"\"\"\n",
        "    Creates a dictionary mapping words in the vocabulary to their GloVe embeddings.\n",
        "    Words that don't exist are mapped to zero vectors.\n",
        "    \"\"\"\n",
        "    glove_dict = {}\n",
        "    empty_vec = np.zeros(embed_dim, dtype=np.float64)\n",
        "\n",
        "    for word in tqdm(sequence, desc=f\"Building {set} GloVe dictionary\"):\n",
        "        glove_dict[word] = wv[word] if word in wv else empty_vec\n",
        "\n",
        "    return glove_dict\n",
        "\n",
        "def get_w2GloVe(data, glove_dict, set, embed_dim=50, rationale=False):\n",
        "    \"\"\"\n",
        "    Retrieves the GloVe embeddings using the custom-built GloVe dictionary.\n",
        "    Args:\n",
        "        data: List of text reviews.\n",
        "        glove_dict (dict): custom-built GloVe dictionary.\n",
        "        embed_dim (int): Dimensions of GloVe embeddings.\n",
        "    Returns:\n",
        "        torch.Tensor: Padded tensor of GloVe embeddings to maintain uniform length.\n",
        "    \"\"\"\n",
        "    glove_reviews = []\n",
        "\n",
        "    if rationale:\n",
        "        for review in tqdm(data, desc=f\"Retrieving {set} GloVe Word Embeddings\"):\n",
        "            tokens = \",\".join(review)\n",
        "            words = tokens.split()\n",
        "            embeddings = [glove_dict.get(word, np.zeros(embed_dim)) for word in words]\n",
        "            glove_reviews.append(torch.tensor(embeddings, dtype=torch.float))\n",
        "    else:\n",
        "        for review in tqdm(data, desc=f\"Retrieving {set} GloVe Word Embeddings\"):\n",
        "            words = review.split()\n",
        "            embeddings = [glove_dict.get(word, np.zeros(embed_dim)) for word in words]\n",
        "            glove_reviews.append(torch.tensor(embeddings, dtype=torch.float))\n",
        "\n",
        "    return pad_sequence(glove_reviews, batch_first=True)"
      ],
      "metadata": {
        "id": "0ri5kC6oQJag"
      },
      "execution_count": 25,
      "outputs": []
    },
    {
      "cell_type": "code",
      "execution_count": null,
      "metadata": {
        "id": "nHdxXI-3cSIM"
      },
      "outputs": [],
      "source": [
        "\"\"\"\n",
        "print(f\"----------------------------------------------------------------------------------------\\nProcessing Reviews\\n----------------------------------------------------------------------------------------\\n\")\n",
        "\n",
        "# Extract vocabulary(distinct words) from training, validation, and test data\n",
        "train_vocab = set(word for review in train_df['content'] for word in review.split())\n",
        "val_vocab = set(word for review in val_df['content'] for word in review.split())\n",
        "test_vocab = set(word for review in test_df['content'] for word in review.split())\n",
        "\n",
        "# Build the GloVe dictionary for the reviews\n",
        "glove_dict = create_glove_dict(train_vocab, wv, \"training\")\n",
        "glove_dict.update(create_glove_dict(val_vocab, wv, \"validation\"))\n",
        "glove_dict.update(create_glove_dict(test_vocab, wv, \"test\"))\n",
        "\n",
        "# Convert reviews to glove embeddings\n",
        "train_review_gloves = get_w2GloVe(train_df['content'], glove_dict, \"training\")\n",
        "val_review_gloves = get_w2GloVe(val_df['content'], glove_dict, \"validation\")\n",
        "test_review_gloves = get_w2GloVe(test_df['content'], glove_dict, \"test\")\n",
        "\n",
        "print(f\"\\n----------------------------------------------------------------------------------------\\nProcessing Rationales\\n----------------------------------------------------------------------------------------\\n\")\n",
        "\n",
        "#Extract vocabulary(distinct words) from training, validation, and test data for the rationales\n",
        "train_rationale_vocab = set(word for rationale in train_rationales for word in rationale.split())\n",
        "val_rationale_vocab = set(word for rationale in val_rationales for word in rationale.split())\n",
        "test_rationale_vocab = set(word for rationale in test_rationales for word in rationale.split())\n",
        "\n",
        "# Build the GloVe dictionary for the rationales\n",
        "dict_rat = create_glove_dict(train_rationale_vocab, wv, \"training\")\n",
        "dict_rat.update(create_glove_dict(val_rationale_vocab, wv, \"validation\"))\n",
        "dict_rat.update(create_glove_dict(test_rationale_vocab, wv, \"test\"))\n",
        "\n",
        "# Convert rationales to glove embeddings\n",
        "train_rationale_gloves = get_w2GloVe(train_rationales, glove_dict, \"training\", rationale=True)\n",
        "val_rationale_gloves = get_w2GloVe(val_rationales, glove_dict, \"validation\", rationale=True)\n",
        "test_rationale_gloves = get_w2GloVe(test_rationales, glove_dict, \"test\", rationale=True)\n",
        "\"\"\""
      ]
    },
    {
      "cell_type": "markdown",
      "metadata": {
        "id": "CsVWqfEmcSIM"
      },
      "source": [
        "Save the GloVe embeddings to local files for faster Access."
      ]
    },
    {
      "cell_type": "code",
      "execution_count": 26,
      "metadata": {
        "id": "Pm21m4EZwz1F",
        "outputId": "514d3a0f-b2d3-4275-b024-1ade403b66ba",
        "colab": {
          "base_uri": "https://localhost:8080/",
          "height": 122
        }
      },
      "outputs": [
        {
          "output_type": "execute_result",
          "data": {
            "text/plain": [
              "'\\nwith open(\"./drive/MyDrive/NeuralNets/standardNeuralNets/train_reviews.pkl\", \"wb\") as f:\\n    pickle.dump(train_review_gloves, f)\\n\\nwith open(\"./drive/MyDrive/NeuralNets/standardNeuralNets/val_reviews.pkl\", \"wb\") as f:\\n    pickle.dump(val_review_gloves, f)\\n\\nwith open(\"./drive/MyDrive/NeuralNets/standardNeuralNets/test_reviews.pkl\", \"wb\") as f:\\n    pickle.dump(test_review_gloves, f)\\n\\nwith open(\"./drive/MyDrive/NeuralNets/standardNeuralNets/train_rationales.pkl\", \"wb\") as f:\\n    pickle.dump(train_rationale_gloves, f)\\n\\nwith open(\"./drive/MyDrive/NeuralNets/standardNeuralNets/val_rationales.pkl\", \"wb\") as f:\\n    pickle.dump(val_rationale_gloves, f)\\n\\nwith open(\"./drive/MyDrive/NeuralNets/standardNeuralNets/test_rationales.pkl\", \"wb\") as f:\\n    pickle.dump(test_rationale_gloves, f)\\n'"
            ],
            "application/vnd.google.colaboratory.intrinsic+json": {
              "type": "string"
            }
          },
          "metadata": {},
          "execution_count": 26
        }
      ],
      "source": [
        "from torch import Tensor\n",
        "from typing import Dict, List, Optional, Tuple, Union\n",
        "from torch.utils.data import DataLoader, TensorDataset\n",
        "from torch.nn.utils.rnn import pad_sequence\n",
        "from tqdm import tqdm\n",
        "\"\"\"\n",
        "with open(\"./drive/MyDrive/NeuralNets/standardNeuralNets/train_reviews.pkl\", \"wb\") as f:\n",
        "    pickle.dump(train_review_gloves, f)\n",
        "\n",
        "with open(\"./drive/MyDrive/NeuralNets/standardNeuralNets/val_reviews.pkl\", \"wb\") as f:\n",
        "    pickle.dump(val_review_gloves, f)\n",
        "\n",
        "with open(\"./drive/MyDrive/NeuralNets/standardNeuralNets/test_reviews.pkl\", \"wb\") as f:\n",
        "    pickle.dump(test_review_gloves, f)\n",
        "\n",
        "with open(\"./drive/MyDrive/NeuralNets/standardNeuralNets/train_rationales.pkl\", \"wb\") as f:\n",
        "    pickle.dump(train_rationale_gloves, f)\n",
        "\n",
        "with open(\"./drive/MyDrive/NeuralNets/standardNeuralNets/val_rationales.pkl\", \"wb\") as f:\n",
        "    pickle.dump(val_rationale_gloves, f)\n",
        "\n",
        "with open(\"./drive/MyDrive/NeuralNets/standardNeuralNets/test_rationales.pkl\", \"wb\") as f:\n",
        "    pickle.dump(test_rationale_gloves, f)\n",
        "\"\"\""
      ]
    },
    {
      "cell_type": "markdown",
      "metadata": {
        "id": "2TBPAqY3cSIN"
      },
      "source": [
        "# Extract the GloVe embeddings created above and a create a copy before batching them."
      ]
    },
    {
      "cell_type": "code",
      "execution_count": 27,
      "metadata": {
        "id": "WgQLyJDGcSIN"
      },
      "outputs": [],
      "source": [
        "with open(\"./drive/MyDrive/NeuralNets/standardNeuralNets/train_reviews.pkl\", \"rb\") as f:\n",
        "    train_in = pickle.load(f)\n",
        "\n",
        "with open(\"./drive/MyDrive/NeuralNets/standardNeuralNets/train_rationales.pkl\", \"rb\") as f:\n",
        "    train_ev = pickle.load(f)\n",
        "\n",
        "with open(\"./drive/MyDrive/NeuralNets/standardNeuralNets/val_reviews.pkl\", \"rb\") as f:\n",
        "    val_in = pickle.load(f)\n",
        "\n",
        "with open(\"./drive/MyDrive/NeuralNets/standardNeuralNets/val_rationales.pkl\", \"rb\") as f:\n",
        "    val_ev = pickle.load(f)\n",
        "\n",
        "with open(\"./drive/MyDrive/NeuralNets/standardNeuralNets/test_reviews.pkl\", \"rb\") as f:\n",
        "    test_in = pickle.load(f)\n",
        "\n",
        "with open(\"./drive/MyDrive/NeuralNets/standardNeuralNets/test_rationales.pkl\", \"rb\") as f:\n",
        "    test_ev = pickle.load(f)"
      ]
    },
    {
      "cell_type": "code",
      "source": [
        "review_token = train_reviews[506].split()\n",
        "print(review_token[3])\n",
        "word = train_in[506][3]\n",
        "print(len(train_in[506]))\n",
        "vec = wv['extraordinarily']\n",
        "print(vec)\n",
        "assert (word == vec).all()"
      ],
      "metadata": {
        "colab": {
          "base_uri": "https://localhost:8080/"
        },
        "id": "3o811smq4VLk",
        "outputId": "85e6e877-f2ab-4067-b6d2-07833fba3d94"
      },
      "execution_count": 177,
      "outputs": [
        {
          "output_type": "stream",
          "name": "stdout",
          "text": [
            "extraordinarily\n",
            "2809\n",
            "[ 0.56323  -0.39137  -0.51434  -0.58849   0.37726  -0.21051   0.65334\n",
            "  0.35739   0.1148    0.86252  -0.55858  -0.02432   0.43576   0.56232\n",
            " -0.10024  -0.18301   0.69904   0.31791   0.45302  -0.25536  -0.62086\n",
            "  0.025509 -0.093439 -0.22638   0.60171  -0.67547  -0.44724   0.7017\n",
            "  0.6341    0.93127   1.7065   -0.49698   1.1293   -0.68874   0.36359\n",
            "  0.3428   -0.21766   1.3491   -0.8561   -0.76098  -0.83144   0.10922\n",
            "  0.15385   0.55284   0.25841  -0.50152  -0.20098   0.30271   0.10516\n",
            "  1.223   ]\n"
          ]
        }
      ]
    },
    {
      "cell_type": "markdown",
      "metadata": {
        "id": "OSzDGF43ytnN"
      },
      "source": [
        "Convert the training, validation, and test data(GloVe representations) including the rationales to batches using DataLoader"
      ]
    },
    {
      "cell_type": "code",
      "execution_count": 287,
      "metadata": {
        "id": "wsgVwakDytnO"
      },
      "outputs": [],
      "source": [
        "train_inputs = TensorDataset(train_in, train_ev, train_classes)\n",
        "val_inputs = TensorDataset(val_in, val_ev, val_classes)\n",
        "test_inputs = TensorDataset(test_in, test_ev, test_classes)\n",
        "\n",
        "train_loader = DataLoader(train_inputs, batch_size=32, shuffle=True)\n",
        "val_loader = DataLoader(val_inputs, batch_size=25, shuffle=False)\n",
        "test_loader = DataLoader(test_inputs, batch_size=25, shuffle=False, drop_last=False)"
      ]
    },
    {
      "cell_type": "code",
      "execution_count": 239,
      "metadata": {
        "colab": {
          "base_uri": "https://localhost:8080/"
        },
        "id": "aFqiLpR3Byqh",
        "outputId": "01890956-56bb-4ffb-e536-48b05cc7149d"
      },
      "outputs": [
        {
          "output_type": "stream",
          "name": "stdout",
          "text": [
            "torch.Size([16, 2809, 50])\n",
            "torch.Size([16, 300, 50])\n",
            "torch.Size([16])\n",
            "torch.Size([10, 1880, 50])\n",
            "torch.Size([10, 162, 50])\n",
            "torch.Size([10])\n",
            "torch.Size([10, 2122, 50])\n",
            "torch.Size([10, 208, 50])\n",
            "torch.Size([10])\n"
          ]
        }
      ],
      "source": [
        "train_inp, train_evi, train_classg = next(iter(train_loader))\n",
        "print(train_inp.size())\n",
        "print(train_evi.size())\n",
        "print(train_classg.size())\n",
        "\n",
        "val_inp, val_evi, val_classg = next(iter(val_loader))\n",
        "print(val_inp.size())\n",
        "print(val_evi.size())\n",
        "print(val_classg.size())\n",
        "\n",
        "test_inp, test_evi, test_classg = next(iter(test_loader))\n",
        "print(test_inp.size())\n",
        "print(test_evi.size())\n",
        "print(test_classg.size())\n"
      ]
    },
    {
      "cell_type": "markdown",
      "metadata": {
        "id": "SPQy0BjBytnO"
      },
      "source": [
        "# Convolutional Neural Network Model"
      ]
    },
    {
      "cell_type": "code",
      "execution_count": 381,
      "metadata": {
        "id": "smXuMplUytnO"
      },
      "outputs": [],
      "source": [
        "from typing import List, Optional, Tuple, Union\n",
        "from torch import Tensor\n",
        "import torch.nn as nn\n",
        "import lime\n",
        "from lime.lime_text import LimeTextExplainer # type: ignore\n",
        "\n",
        "class LimeCNN(nn.Module):\n",
        "    def __init__(self,\n",
        "                embed_size: int,\n",
        "                kernel_sizes: list,\n",
        "                num_filters: list,\n",
        "                num_classes: int) -> None:\n",
        "        super(LimeCNN, self).__init__()\n",
        "\n",
        "        # Create convolution layers dynamically from cnn_config\n",
        "        cnn_layers = []\n",
        "        in_channels = embed_size\n",
        "        dropout = 0.3\n",
        "        for kernel_size, num_filter in zip(kernel_sizes, num_filters):\n",
        "            cnn_layers.extend([\n",
        "                nn.Conv1d(in_channels=in_channels, out_channels=num_filter, kernel_size=kernel_size, padding=kernel_size//2),\n",
        "                nn.ReLU(),\n",
        "                nn.BatchNorm1d(num_filter),\n",
        "                nn.Dropout(dropout),\n",
        "            ])\n",
        "            in_channels = num_filter\n",
        "            dropout += 0.1\n",
        "\n",
        "        self.convLayer = nn.Sequential(*cnn_layers)\n",
        "        self.global_maxpool = nn.AdaptiveMaxPool1d(1)\n",
        "        self.fc = nn.Linear(num_filters[-1], num_classes)\n",
        "\n",
        "    def forward(self, x: torch.Tensor) -> torch.Tensor:\n",
        "        x = x.permute(0, 2, 1)  # (batch, embed_size, sequence_length)\n",
        "        conv_out = self.convLayer(x)\n",
        "        pooled_out = self.global_maxpool(conv_out)\n",
        "        pooled_out = pooled_out.squeeze(-1)\n",
        "        y = self.fc(pooled_out)\n",
        "        return y.squeeze(1)\n"
      ]
    },
    {
      "cell_type": "code",
      "source": [
        "import random\n",
        "def set_random_seed(seed):\n",
        "  torch.manual_seed(seed)\n",
        "  random.seed(seed)\n",
        "  np.random.seed(seed)"
      ],
      "metadata": {
        "id": "C9Q0TpiGScfH"
      },
      "execution_count": 370,
      "outputs": []
    },
    {
      "cell_type": "code",
      "source": [
        "def calc_accuracy(predictions, true_labels):\n",
        "  num_labels = true_labels.size(0)\n",
        "  #print(predictions.size(), true_labels.size())\n",
        "  num_correct = torch.sum(predictions == true_labels).item()\n",
        "  accuracy = num_correct / num_labels\n",
        "  return accuracy\n"
      ],
      "metadata": {
        "id": "RxH1OT_7lxWJ"
      },
      "execution_count": 371,
      "outputs": []
    },
    {
      "cell_type": "code",
      "source": [
        "def validate_model(model, val_set, criterion):\n",
        "  model.eval()\n",
        "  total_val_loss = []\n",
        "  val_preds = []\n",
        "  best_val_loss = float('inf')\n",
        "\n",
        "  with torch.no_grad():\n",
        "    for batch in val_loader:\n",
        "      inputs, rationales, labels = batch\n",
        "      pred = model(inputs)\n",
        "      val_preds.append(pred)\n",
        "      loss = criterion(pred, labels)\n",
        "      total_val_loss.append(loss.item())\n",
        "\n",
        "  avg_val_loss = np.mean(total_val_loss)\n",
        "  val_preds = torch.cat(val_preds, dim=0)\n",
        "  val_preds = torch.sigmoid(val_preds)\n",
        "  val_preds = (val_preds >= 0.5).int()\n",
        "  val_acc = calc_accuracy(val_preds, val_classes.int())\n",
        "\n",
        "  if avg_val_loss < best_val_loss:\n",
        "    best_val_loss = avg_val_loss\n",
        "    torch.save(model.state_dict(), \"best_model_state.pt\")\n",
        "\n",
        "  return avg_val_loss, val_acc, best_val_loss"
      ],
      "metadata": {
        "id": "ah5wQMs6krhD"
      },
      "execution_count": 372,
      "outputs": []
    },
    {
      "cell_type": "code",
      "source": [
        "def get_ERAlignment_score(idx, explanations, test=False, tain=False):\n",
        "  if test:\n",
        "    rationales = test_rationales[idx]\n",
        "  elif tain:\n",
        "    rationales = train_rationales[idx]\n",
        "  else:\n",
        "    rationales = val_rationales[idx]\n",
        "\n",
        "print(test_rationales[0])"
      ],
      "metadata": {
        "colab": {
          "base_uri": "https://localhost:8080/"
        },
        "id": "huXWCo_4jcYL",
        "outputId": "73bd2200-d67c-4e8f-ae04-ad847ebf5f2f"
      },
      "execution_count": 373,
      "outputs": [
        {
          "output_type": "stream",
          "name": "stdout",
          "text": [
            "['i even giggled']\n"
          ]
        }
      ]
    },
    {
      "cell_type": "code",
      "source": [
        "def train_model(model, train_set, val_set, optimizer, lr_scheduler, criterion, n_epochs, lr):\n",
        "  train_losses = []\n",
        "\n",
        "  for epoch in range(n_epochs):\n",
        "    model.train()\n",
        "    total_loss = []\n",
        "    preds_list = []\n",
        "\n",
        "    for batch in tqdm(train_loader, desc=f\"Epoch {epoch+1}/{n_epochs}\"):\n",
        "      inputs, rationales, labels = batch\n",
        "\n",
        "      pred = model(inputs)\n",
        "\n",
        "      preds_list.append(pred)\n",
        "\n",
        "      loss = criterion(pred, labels)\n",
        "      total_loss.append(loss.item())\n",
        "\n",
        "      optimizer.zero_grad()\n",
        "      loss.backward()\n",
        "      optimizer.step()\n",
        "\n",
        "    avg_train_loss = np.mean(total_loss)\n",
        "    train_losses.append(avg_train_loss)\n",
        "    y_hats = torch.cat(preds_list, dim=0)\n",
        "    probs = torch.sigmoid(y_hats)\n",
        "    #print(\"predicted probabilities;'\\n\", y_hats)\n",
        "    pred_labels = (probs >= 0.5).int()\n",
        "    train_acc = calc_accuracy(pred_labels, train_classes.int())\n",
        "\n",
        "    avg_val_loss, val_acc, best_val_loss = validate_model(model, val_set, criterion)\n",
        "\n",
        "    print(f\"Train Loss: {avg_train_loss:.4f} | Train acc: {train_acc:.2f} | Val Loss: {avg_val_loss:.4f} | val acc: {val_acc:.2f}\")\n",
        "    print(\"------------------------------------------------------------------------------\")\n",
        "\n",
        "    lr_scheduler.step(val_acc)\n",
        "    print(\"current learning rate:\", lr_scheduler.get_last_lr(),\"\\n\")\n",
        "\n",
        "  return pred_labels, train_losses\n"
      ],
      "metadata": {
        "id": "kC8N1heiESfx"
      },
      "execution_count": 383,
      "outputs": []
    },
    {
      "cell_type": "code",
      "source": [
        "import json\n",
        "from torch.optim.lr_scheduler import ReduceLROnPlateau, StepLR\n",
        "\n",
        "# Load the model configuration from a JSON file\n",
        "with open(\"./drive/MyDrive/NeuralNets/standardNeuralNets/model_config.json\", \"r\") as f:\n",
        "    model_config = json.load(f)\n"
      ],
      "metadata": {
        "id": "XhcT7m2zU3_6"
      },
      "execution_count": 323,
      "outputs": []
    },
    {
      "cell_type": "code",
      "source": [
        "set_random_seed(14)\n",
        "\n",
        "num_filters = [64, 128, 256]\n",
        "kernel_sizes = [3, 5, 7]\n",
        "\n",
        "model = LimeCNN(50, kernel_sizes, num_filters, num_classes=1)\n",
        "\n",
        "lr, n_epochs = 1e-3, 50\n",
        "\n",
        "optimizer = torch.optim.Adam(model.parameters(), lr=lr)\n",
        "\n",
        "loss_func = nn.BCEWithLogitsLoss()\n",
        "\n",
        "lr_sched = ReduceLROnPlateau(optimizer, mode='max', factor=0.1, patience=5)\n",
        "\n",
        "Y_HAT, LOSSES = train_model(model=model,\n",
        "                            train_set=train_loader,\n",
        "                            val_set=val_loader,\n",
        "                            optimizer=optimizer,\n",
        "                            lr_scheduler=lr_sched,\n",
        "                            criterion=loss_func,\n",
        "                            n_epochs=n_epochs,\n",
        "                            lr=lr)"
      ],
      "metadata": {
        "id": "7OFXoVgfSsNU"
      },
      "execution_count": null,
      "outputs": []
    },
    {
      "cell_type": "code",
      "source": [],
      "metadata": {
        "id": "1awj0h1F5Dw-",
        "outputId": "420a0b14-e979-4390-9916-277b3613274b",
        "colab": {
          "base_uri": "https://localhost:8080/"
        }
      },
      "execution_count": 361,
      "outputs": [
        {
          "output_type": "execute_result",
          "data": {
            "text/plain": [
              "706"
            ]
          },
          "metadata": {},
          "execution_count": 361
        }
      ]
    },
    {
      "cell_type": "code",
      "execution_count": 364,
      "metadata": {
        "colab": {
          "base_uri": "https://localhost:8080/",
          "height": 452
        },
        "id": "nL7dPN8rmMzL",
        "outputId": "ea827704-013a-4eab-9934-2572e205aed7"
      },
      "outputs": [
        {
          "output_type": "display_data",
          "data": {
            "text/plain": [
              "<Figure size 640x480 with 2 Axes>"
            ],
            "image/png": "[encoded data removed]"
          },
          "metadata": {}
        }
      ],
      "source": [
        "import seaborn as sns\n",
        "import matplotlib.pyplot as plt\n",
        "from sklearn.metrics import confusion_matrix\n",
        "\n",
        "# Generate confusion matrix\n",
        "conf_matrix = confusion_matrix(train_classes.numpy(), Y_HAT.detach().numpy())\n",
        "\n",
        "# Plot using seaborn\n",
        "sns.heatmap(conf_matrix, annot=True, fmt=\"d\", cmap=\"Blues\", xticklabels=[\"Positive\", \"Negative\"], yticklabels=[\"Positive\", \"Negative\"])\n",
        "\n",
        "plt.title(\"Confusion Matrix\")\n",
        "plt.show()"
      ]
    },
    {
      "cell_type": "code",
      "source": [
        "model.eval()\n",
        "preds_list = []\n",
        "with torch.no_grad():\n",
        "  for batch in test_loader:\n",
        "    inputs, rationales, labels = batch\n",
        "    pred = model(inputs)\n",
        "    preds_list.append(pred)\n",
        "\n",
        "y_hat = torch.cat(preds_list, dim=0)\n",
        "y_hat = (y_hat >= 0.5).int()\n",
        "test_acc = calc_accuracy(y_hat, test_classes)\n",
        "print(f\"Test accuracy: {test_acc:.4f}\")\n",
        "\n",
        "import seaborn as sns\n",
        "import matplotlib.pyplot as plt\n",
        "from sklearn.metrics import confusion_matrix\n",
        "\n",
        "# Generate confusion matrix\n",
        "conf_matrix = confusion_matrix(test_classes.numpy(), y_hat.detach().numpy())\n",
        "\n",
        "# Plot using seaborn\n",
        "sns.heatmap(conf_matrix, annot=True, fmt=\"d\", cmap=\"Blues\", xticklabels=[\"Positive\", \"Negative\"], yticklabels=[\"Positive\", \"Negative\"])\n",
        "\n",
        "plt.title(\"Confusion Matrix\")\n",
        "plt.show()"
      ],
      "metadata": {
        "id": "ZI2owJu0Xe46",
        "outputId": "f5a14883-7e4f-45c3-a005-567338877d9e",
        "colab": {
          "base_uri": "https://localhost:8080/",
          "height": 469
        }
      },
      "execution_count": 298,
      "outputs": [
        {
          "output_type": "stream",
          "name": "stdout",
          "text": [
            "Test accuracy: 0.8693\n"
          ]
        },
        {
          "output_type": "display_data",
          "data": {
            "text/plain": [
              "<Figure size 640x480 with 2 Axes>"
            ],
            "image/png": "[encoded data removed]"
          },
          "metadata": {}
        }
      ]
    }
  ],
  "metadata": {
    "colab": {
      "machine_shape": "hm",
      "provenance": [],
      "gpuType": "A100",
      "include_colab_link": true
    },
    "kernelspec": {
      "display_name": "Python 3",
      "name": "python3"
    },
    "language_info": {
      "codemirror_mode": {
        "name": "ipython",
        "version": 3
      },
      "file_extension": ".py",
      "mimetype": "text/x-python",
      "name": "python",
      "nbconvert_exporter": "python",
      "pygments_lexer": "ipython3",
      "version": "3.12.3"
    },
    "accelerator": "GPU"
  },
  "nbformat": 4,
  "nbformat_minor": 0
}