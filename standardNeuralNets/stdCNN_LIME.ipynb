{
  "cells": [
    {
      "cell_type": "markdown",
      "metadata": {
        "id": "view-in-github",
        "colab_type": "text"
      },
      "source": [
        "<a href=\"https://colab.research.google.com/github/Nikhil-Kadapala/NeuralNets/blob/main/standardNeuralNets/stdCNN_LIME.ipynb\" target=\"_parent\"><img src=\"https://colab.research.google.com/assets/colab-badge.svg\" alt=\"Open In Colab\"/></a>"
      ]
    },
    {
      "cell_type": "markdown",
      "metadata": {
        "id": "6L2Do3b_ytm6"
      },
      "source": [
        "# Final Project CS852 - Foundations of Neural Networks (FALL 2024)\n",
        "\n",
        "Devin Borchard and Nikhil Kadapala\n",
        "\n",
        "Department of Computer Science, University of New Hampshire\n",
        "\n",
        "Nikhil.Kadapala@unh.edu     Devin.Borchard@unh.edu"
      ]
    },
    {
      "cell_type": "markdown",
      "metadata": {
        "id": "ICkcYT3Iytm9"
      },
      "source": [
        "This project explores the application of Convolutional Neural Networks (CNNs) for sentiment analysis and Interpretability using the LIME (Local Interpretable Model-agnostic Explanations) Evaluation.\n",
        "\n",
        "The project uses the Movie Reviews dataset from the Eraser Benchmark.\n",
        "\n",
        "The goal of this project is to evaluate the performance of CNNs for sentiment analysis and explain their predictions using LIME.\n",
        "\n",
        "We will explore the integration of LIME Explanations as a feedback to measure the alignment of the model's reasoning with human rationales extracted from the annotations in the Dataset.\n",
        "\n",
        "Based on the alignment scores, we will retrain the model by adjusting the weights of the features to teach the model to rationalize as closely possible to a human.\n",
        "\n",
        "ERASER: [Datasets](https://www.eraserbenchmark.com) and [Paper](https://arxiv.org/pdf/1911.03429)\n",
        "\n",
        "LIME: [Paper](https://arxiv.org/pdf/1602.04938) and  [Library/Package GitHub](https://github.com/marcotcr/lime)"
      ]
    },
    {
      "cell_type": "markdown",
      "metadata": {
        "id": "Sr8uEiG3ytm9"
      },
      "source": [
        "# Notebook setup and PyTorch Installation"
      ]
    },
    {
      "cell_type": "code",
      "execution_count": 2,
      "metadata": {
        "id": "LJ5b9esmytm-",
        "outputId": "54d984a6-effa-4a68-d5dc-b5607ec09f2c",
        "colab": {
          "base_uri": "https://localhost:8080/"
        }
      },
      "outputs": [
        {
          "output_type": "stream",
          "name": "stdout",
          "text": [
            "Collecting lime\n",
            "  Downloading lime-0.2.0.1.tar.gz (275 kB)\n",
            "\u001b[?25l     \u001b[90m━━━━━━━━━━━━━━━━━━━━━━━━━━━━━━━━━━━━━━━━\u001b[0m \u001b[32m0.0/275.7 kB\u001b[0m \u001b[31m?\u001b[0m eta \u001b[36m-:--:--\u001b[0m\r\u001b[2K     \u001b[90m━━━━━━━━━━━━━━━━━━━━━━━━━━━━━━━━━━━━━━━━\u001b[0m \u001b[32m275.7/275.7 kB\u001b[0m \u001b[31m8.8 MB/s\u001b[0m eta \u001b[36m0:00:00\u001b[0m\n",
            "\u001b[?25h  Preparing metadata (setup.py) ... \u001b[?25l\u001b[?25hdone\n",
            "Requirement already satisfied: matplotlib in /usr/local/lib/python3.10/dist-packages (from lime) (3.8.0)\n",
            "Requirement already satisfied: numpy in /usr/local/lib/python3.10/dist-packages (from lime) (1.26.4)\n",
            "Requirement already satisfied: scipy in /usr/local/lib/python3.10/dist-packages (from lime) (1.13.1)\n",
            "Requirement already satisfied: tqdm in /usr/local/lib/python3.10/dist-packages (from lime) (4.66.6)\n",
            "Requirement already satisfied: scikit-learn>=0.18 in /usr/local/lib/python3.10/dist-packages (from lime) (1.5.2)\n",
            "Requirement already satisfied: scikit-image>=0.12 in /usr/local/lib/python3.10/dist-packages (from lime) (0.24.0)\n",
            "Requirement already satisfied: networkx>=2.8 in /usr/local/lib/python3.10/dist-packages (from scikit-image>=0.12->lime) (3.4.2)\n",
            "Requirement already satisfied: pillow>=9.1 in /usr/local/lib/python3.10/dist-packages (from scikit-image>=0.12->lime) (11.0.0)\n",
            "Requirement already satisfied: imageio>=2.33 in /usr/local/lib/python3.10/dist-packages (from scikit-image>=0.12->lime) (2.36.0)\n",
            "Requirement already satisfied: tifffile>=2022.8.12 in /usr/local/lib/python3.10/dist-packages (from scikit-image>=0.12->lime) (2024.9.20)\n",
            "Requirement already satisfied: packaging>=21 in /usr/local/lib/python3.10/dist-packages (from scikit-image>=0.12->lime) (24.2)\n",
            "Requirement already satisfied: lazy-loader>=0.4 in /usr/local/lib/python3.10/dist-packages (from scikit-image>=0.12->lime) (0.4)\n",
            "Requirement already satisfied: joblib>=1.2.0 in /usr/local/lib/python3.10/dist-packages (from scikit-learn>=0.18->lime) (1.4.2)\n",
            "Requirement already satisfied: threadpoolctl>=3.1.0 in /usr/local/lib/python3.10/dist-packages (from scikit-learn>=0.18->lime) (3.5.0)\n",
            "Requirement already satisfied: contourpy>=1.0.1 in /usr/local/lib/python3.10/dist-packages (from matplotlib->lime) (1.3.1)\n",
            "Requirement already satisfied: cycler>=0.10 in /usr/local/lib/python3.10/dist-packages (from matplotlib->lime) (0.12.1)\n",
            "Requirement already satisfied: fonttools>=4.22.0 in /usr/local/lib/python3.10/dist-packages (from matplotlib->lime) (4.55.0)\n",
            "Requirement already satisfied: kiwisolver>=1.0.1 in /usr/local/lib/python3.10/dist-packages (from matplotlib->lime) (1.4.7)\n",
            "Requirement already satisfied: pyparsing>=2.3.1 in /usr/local/lib/python3.10/dist-packages (from matplotlib->lime) (3.2.0)\n",
            "Requirement already satisfied: python-dateutil>=2.7 in /usr/local/lib/python3.10/dist-packages (from matplotlib->lime) (2.8.2)\n",
            "Requirement already satisfied: six>=1.5 in /usr/local/lib/python3.10/dist-packages (from python-dateutil>=2.7->matplotlib->lime) (1.16.0)\n",
            "Building wheels for collected packages: lime\n",
            "  Building wheel for lime (setup.py) ... \u001b[?25l\u001b[?25hdone\n",
            "  Created wheel for lime: filename=lime-0.2.0.1-py3-none-any.whl size=283834 sha256=cbdb595192be7a92fd24ea7e151ade631c3dff7882ce8d042c4ea73fab4efdd8\n",
            "  Stored in directory: /root/.cache/pip/wheels/fd/a2/af/9ac0a1a85a27f314a06b39e1f492bee1547d52549a4606ed89\n",
            "Successfully built lime\n",
            "Installing collected packages: lime\n",
            "Successfully installed lime-0.2.0.1\n"
          ]
        }
      ],
      "source": [
        "import sys\n",
        "import numpy as np\n",
        "import pandas as pd\n",
        "import matplotlib.pyplot as plt\n",
        "\n",
        "# uncomment one of these versions (depending on whether you are on a computer with a CPU or not)\n",
        "\n",
        "# GPU version\n",
        "# !conda install --yes --prefix {sys.prefix} pytorch torchvision cudatoolkit=10.2 -c pytorch\n",
        "\n",
        "# Just CPU\n",
        "# !conda install --yes --prefix {sys.prefix} pytorch torchvision cpuonly -c pytorch\n",
        "\n",
        "# install `Einops` for einstein-style tensor manipulation in pytorch\n",
        "# Also see https://github.com/arogozhnikov/einops\n",
        "# !conda install --yes --prefix {sys.prefix} einops  -c conda-forge\n",
        "\n",
        "# install lime\n",
        "!pip install lime\n"
      ]
    },
    {
      "cell_type": "code",
      "execution_count": 3,
      "metadata": {
        "colab": {
          "base_uri": "https://localhost:8080/"
        },
        "id": "XSKM3pNDytnA",
        "outputId": "5fab7620-19ab-4214-bb8d-112772c55f71"
      },
      "outputs": [
        {
          "output_type": "stream",
          "name": "stdout",
          "text": [
            "tensor([[0.5288, 0.5367, 0.5344],\n",
            "        [0.2915, 0.4253, 0.0666],\n",
            "        [0.4241, 0.1815, 0.9903],\n",
            "        [0.9174, 0.7005, 0.7845],\n",
            "        [0.6397, 0.6346, 0.8991]])\n",
            "GPU/CUDA available?  True\n",
            "Torch version 2.5.1+cu121\n"
          ]
        }
      ],
      "source": [
        "# torch test\n",
        "import torch\n",
        "x = torch.rand(5, 3)\n",
        "print(x)\n",
        "\n",
        "print(\"GPU/CUDA available? \", torch.cuda.is_available())\n",
        "\n",
        "print(\"Torch version\", torch.__version__)"
      ]
    },
    {
      "cell_type": "code",
      "source": [
        "#!git clone https://github.com/Nikhil-Kadapala/NeuralNets.git"
      ],
      "metadata": {
        "id": "9E4xzHkRB0sT"
      },
      "execution_count": null,
      "outputs": []
    },
    {
      "cell_type": "code",
      "source": [
        "from google.colab import drive\n",
        "drive.mount('/content/drive')"
      ],
      "metadata": {
        "colab": {
          "base_uri": "https://localhost:8080/"
        },
        "id": "4QNeT-9eMWwR",
        "outputId": "6d0e5393-7079-4b55-8d35-060952ff88f6"
      },
      "execution_count": 4,
      "outputs": [
        {
          "output_type": "stream",
          "name": "stdout",
          "text": [
            "Mounted at /content/drive\n"
          ]
        }
      ]
    },
    {
      "cell_type": "markdown",
      "metadata": {
        "id": "fIw0tI1IytnB"
      },
      "source": [
        "# **Extracting Traning, Validation, and Test Data**\n",
        "# Parse the data files to extract the reviews, classifications and annotations for each split."
      ]
    },
    {
      "cell_type": "markdown",
      "metadata": {
        "id": "UIrDTApeytnC"
      },
      "source": [
        "There are three files:\n",
        "- train.jsonl: containts 1600 training examples\n",
        "- val.jsonl: contains 200 validation examples\n",
        "- test.json: contains 199 test examples\n",
        "\n",
        "Each example includes:\n",
        "- annotation_id: a unique id for an example of the form negR_000 for negative examples and posR_000 for positive examples.\n",
        "- evidences: a list of rationales(specific parts of the review) given by humans that most influenced their classification decision.\n",
        "- classification: the class of the example\n",
        "\n",
        "The annotation_id of each example is the name of the file for the input text data\n",
        "    "
      ]
    },
    {
      "cell_type": "code",
      "execution_count": 6,
      "metadata": {
        "id": "pVM3qH6FytnD"
      },
      "outputs": [],
      "source": [
        "import json\n",
        "\n",
        "def parse_data(file_path):\n",
        "    data = []                                               # Initialize an empty list to store the dictionaries\n",
        "\n",
        "    with open(file_path, 'r') as file:                      # Open the .jsonl file and read it line by line\n",
        "        for line in file:\n",
        "            annotation = json.loads(line)                   # Parse each line as JSON and append it to the list\n",
        "            id = annotation[\"annotation_id\"]\n",
        "            annotation[\"classification\"] = 1 if annotation['classification'] == \"POS\" else 0\n",
        "\n",
        "            with open(f\"./drive/MyDrive/NeuralNets/standardNeuralNets/movies/docs/{id}\", 'r') as file:  # open the file named by annotation_id to extract the review text\n",
        "                content = file.read()\n",
        "                annotation['content'] = content.replace('\\n', ' ')\n",
        "                data.append(annotation)\n",
        "    return data\n",
        "\n",
        "# Specify the path to your JSON file\n",
        "train_file_path = './drive/MyDrive/NeuralNets/standardNeuralNets/movies/train.jsonl'\n",
        "val_file_path = './drive/MyDrive/NeuralNets/standardNeuralNets/movies/val.jsonl'\n",
        "test_file_path = './drive/MyDrive/NeuralNets/standardNeuralNets/movies/test.jsonl'\n",
        "\n",
        "train_data = parse_data(train_file_path)\n",
        "validation_data = parse_data(val_file_path)\n",
        "test_data = parse_data(test_file_path)"
      ]
    },
    {
      "cell_type": "markdown",
      "metadata": {
        "id": "Bijy4N-HytnD"
      },
      "source": [
        "# Functions to extract reviews, classifications, and annotations\n",
        "  Define a function\n",
        "\n",
        "  i) to retrieve an example and print the relevant information.\n",
        "\n",
        "  ii) to retrieve the content of the example review text\n",
        "\n",
        "  iii) to retrieve the classifications of the examples\n",
        "  \n",
        "  iv) to retrieve the annotations provided to support the classifications"
      ]
    },
    {
      "cell_type": "code",
      "execution_count": 7,
      "metadata": {
        "id": "hKGZxYzTytnE",
        "outputId": "cbfc164d-b99e-4701-ec9c-e9d647e5af79",
        "colab": {
          "base_uri": "https://localhost:8080/"
        }
      },
      "outputs": [
        {
          "output_type": "stream",
          "name": "stdout",
          "text": [
            "Dataset split: 1600 training examples\n",
            "               200 validation examples\n",
            "               199 test examples\n",
            "\n",
            "Retrieving Training Example [506].................\n",
            "\n",
            "Review content:\n",
            "this film is extraordinarily horrendous and i 'm not going to waste any more words on it .\n",
            "\n",
            "---------------------------- \n",
            "| Sentiment class: 0 - NEG | \n",
            "----------------------------\n",
            "\n",
            "Human rationales / Supporting Evidence:\n",
            "     -  extraordinarily horrendous\n"
          ]
        }
      ],
      "source": [
        "def print_example(data, index, print_content=True, print_classification=True, print_rationales=True ):\n",
        "    print(f'Retrieving Training Example [{index}].................\\n')\n",
        "    item = data[index]\n",
        "    classification = item['classification']\n",
        "    evidences = item['evidences']\n",
        "    content = item['content']\n",
        "    if print_content: print(f'Review content:\\n{content}\\n')\n",
        "    if print_classification: print('----------------------------',\n",
        "                                   '\\n| Sentiment class:',\n",
        "                                   classification,\n",
        "                                   (\"- NEG\" if not classification else \"- POS\"),\n",
        "                                   '|', '\\n----------------------------')\n",
        "    if print_rationales:\n",
        "        print('\\nHuman rationales / Supporting Evidence:')\n",
        "        for evidence in evidences:\n",
        "            print('     - ', evidence[0]['text'])\n",
        "\n",
        "def get_content(data, index):\n",
        "    item = data[index]\n",
        "    content = item['content']\n",
        "    return content\n",
        "\n",
        "def get_classes(data, index):\n",
        "    item = data[index]\n",
        "    classification = item['classification']\n",
        "    return classification\n",
        "\n",
        "def get_annotations(data, index):\n",
        "    item = data[index]\n",
        "    content = item['evidences']\n",
        "    annotations = [evidence[0]['text'] for evidence in content]\n",
        "    return annotations\n",
        "\n",
        "train_size = len(train_data)\n",
        "val_size = len(validation_data)\n",
        "test_size = len(test_data)\n",
        "\n",
        "print(f'Dataset split: {train_size} training examples')\n",
        "print(f'               {val_size} validation examples')\n",
        "print(f'               {test_size} test examples\\n')\n",
        "\n",
        "print_example(train_data, 506)"
      ]
    },
    {
      "cell_type": "markdown",
      "metadata": {
        "id": "lLQCckZ-wz1C"
      },
      "source": [
        "# Extraction of the rationales from the evidences metadata of each human annotation of reviews.\n",
        "\n",
        "Each annotation of the review is not the highlighted text/rationale itself but also contains metadata of the text. Use the function defined in the above cell to extract just the text and replace the evidences dictionary of the training, validation, and test datasets."
      ]
    },
    {
      "cell_type": "code",
      "execution_count": 8,
      "metadata": {
        "colab": {
          "base_uri": "https://localhost:8080/"
        },
        "id": "-5ulEzugwz1C",
        "outputId": "578fef6b-8f3b-4884-9e93-085fd6842baf"
      },
      "outputs": [
        {
          "output_type": "stream",
          "name": "stdout",
          "text": [
            "['extraordinarily horrendous']\n"
          ]
        }
      ],
      "source": [
        "for i in range(len(train_data)):\n",
        "    train_data[i]['evidences'] = get_annotations(train_data, i)\n",
        "\n",
        "for i in range(len(validation_data)):\n",
        "    validation_data[i]['evidences'] = get_annotations(validation_data, i)\n",
        "\n",
        "for i in range(len(test_data)):\n",
        "    test_data[i]['evidences'] = get_annotations(test_data, i)\n",
        "\n",
        "print(train_data[506]['evidences'])"
      ]
    },
    {
      "cell_type": "markdown",
      "metadata": {
        "id": "vc2rC9QTytnK"
      },
      "source": [
        "# Pre-trianed GloVe Embeddings of Training Examples\n",
        "Download the pretrained GloVe Embeddings of desired dimensions using gensim downlader.\n",
        "\n",
        "Save downloaded embeddings to a local file to avoid re-downloading when the kernel or notebook is restarted."
      ]
    },
    {
      "cell_type": "code",
      "execution_count": 9,
      "metadata": {
        "id": "KWyAJ5D_ytnL",
        "outputId": "c9806410-8a80-460e-985f-c66ee0468192",
        "colab": {
          "base_uri": "https://localhost:8080/",
          "height": 35
        }
      },
      "outputs": [
        {
          "output_type": "execute_result",
          "data": {
            "text/plain": [
              "'\\n    ONLY if you get an error after `import gensim`: update your smart_open liberary\\n    #!conda install --yes --prefix {sys.prefix} smart_open\\n    restart your notebook\\n    see if `import gensim` works now\\n'"
            ],
            "application/vnd.google.colaboratory.intrinsic+json": {
              "type": "string"
            }
          },
          "metadata": {},
          "execution_count": 9
        }
      ],
      "source": [
        "\"\"\"\n",
        "    Install gensim, to use word2vec word embeddings\n",
        "    Install gensim (for pre-trained word embeddings)\n",
        "    #!conda install --yes --prefix {sys.prefix} gensim\n",
        "\"\"\"\n",
        "#import gensim\n",
        "#import gensim.downloader\n",
        "\n",
        "\"\"\"\n",
        "    ONLY if you get an error after `import gensim`: update your smart_open liberary\n",
        "    #!conda install --yes --prefix {sys.prefix} smart_open\n",
        "    restart your notebook\n",
        "    see if `import gensim` works now\n",
        "\"\"\"\n",
        "#wv = gensim.downloader.load(\"glove-wiki-gigaword-50\")\n",
        "\n",
        "#import pickle\n",
        "\n",
        "#with open(\"glove_embeddings.pkl\", \"wb\") as f:\n",
        "    #pickle.dump(wv, f)\n"
      ]
    },
    {
      "cell_type": "code",
      "execution_count": 10,
      "metadata": {
        "colab": {
          "base_uri": "https://localhost:8080/"
        },
        "id": "QqA5DXEEwz1D",
        "outputId": "9b85d8ad-965e-4a27-e285-2fb289d4a52e"
      },
      "outputs": [
        {
          "output_type": "execute_result",
          "data": {
            "text/plain": [
              "array([-0.20356 , -0.8707  , -0.19172 ,  0.73862 ,  0.18494 ,  0.14926 ,\n",
              "        0.48079 , -0.21633 ,  0.72753 , -0.36912 ,  0.13397 , -0.1143  ,\n",
              "       -0.18075 , -0.64683 , -0.18484 ,  0.83575 ,  0.48179 ,  0.76026 ,\n",
              "       -0.50381 ,  0.80743 ,  1.2195  ,  0.3459  ,  0.22185 ,  0.31335 ,\n",
              "        1.2066  , -1.8441  ,  0.14064 , -0.99715 , -1.1402  ,  0.32342 ,\n",
              "        3.2128  ,  0.42708 ,  0.19504 ,  0.80113 ,  0.38555 , -0.12568 ,\n",
              "       -0.26533 ,  0.055264, -1.1557  ,  0.16836 , -0.82228 ,  0.20394 ,\n",
              "        0.089235, -0.60125 , -0.032878,  1.3735  , -0.51661 ,  0.29611 ,\n",
              "        0.23951 , -1.3801  ], dtype=float32)"
            ]
          },
          "metadata": {},
          "execution_count": 10
        }
      ],
      "source": [
        "import pickle\n",
        "\n",
        "with open(\"./drive/MyDrive/NeuralNets/standardNeuralNets/glove_embeddings.pkl\", \"rb\") as f:\n",
        "    wv = pickle.load(f)\n",
        "\n",
        "# lookup the word vector for a word \"india\"\n",
        "wv['india']"
      ]
    },
    {
      "cell_type": "markdown",
      "metadata": {
        "id": "0YFDJY6pMdHx"
      },
      "source": [
        "# Extract reviews, classifications, and rationales from the train, validation, and test datasets to convert them to Glove embeddings."
      ]
    },
    {
      "cell_type": "code",
      "execution_count": 11,
      "metadata": {
        "colab": {
          "base_uri": "https://localhost:8080/",
          "height": 258
        },
        "id": "XoZiHbVxytnN",
        "outputId": "1ecc3c68-4898-4403-a6f2-662763ef1074"
      },
      "outputs": [
        {
          "output_type": "stream",
          "name": "stdout",
          "text": [
            "Number of reviews in training data: 1600\n",
            "Max seq length of reviews: 2809\n",
            "Size of training classes: torch.Size([1600, 2])\n"
          ]
        },
        {
          "output_type": "execute_result",
          "data": {
            "text/plain": [
              "  annotation_id  classification  \\\n",
              "0  negR_000.txt               0   \n",
              "1  negR_001.txt               0   \n",
              "2  negR_002.txt               0   \n",
              "3  negR_003.txt               0   \n",
              "4  negR_004.txt               0   \n",
              "\n",
              "                                           evidences  \\\n",
              "0  ['mind - fuck movie', 'the sad part is', 'down...   \n",
              "1  [\"it 's pretty much a sunken ship\", 'sutherlan...   \n",
              "2  ['the characters and acting is nothing spectac...   \n",
              "3  ['dead on arrival', 'the characters stink', 's...   \n",
              "4  ['it is highly derivative and somewhat boring'...   \n",
              "\n",
              "                                             content  \n",
              "0  plot : two teen couples go to a church party ,...  \n",
              "1  the happy bastard 's quick movie review damn t...  \n",
              "2  it is movies like these that make a jaded movi...  \n",
              "3  \" quest for camelot \" is warner bros . ' first...  \n",
              "4  synopsis : a mentally unstable man undergoing ...  "
            ],
            "text/html": [
              "\n",
              "  <div id=\"df-fe64c6b6-e7e5-4134-b47a-eee1f98c1264\" class=\"colab-df-container\">\n",
              "    <div>\n",
              "<style scoped>\n",
              "    .dataframe tbody tr th:only-of-type {\n",
              "        vertical-align: middle;\n",
              "    }\n",
              "\n",
              "    .dataframe tbody tr th {\n",
              "        vertical-align: top;\n",
              "    }\n",
              "\n",
              "    .dataframe thead th {\n",
              "        text-align: right;\n",
              "    }\n",
              "</style>\n",
              "<table border=\"1\" class=\"dataframe\">\n",
              "  <thead>\n",
              "    <tr style=\"text-align: right;\">\n",
              "      <th></th>\n",
              "      <th>annotation_id</th>\n",
              "      <th>classification</th>\n",
              "      <th>evidences</th>\n",
              "      <th>content</th>\n",
              "    </tr>\n",
              "  </thead>\n",
              "  <tbody>\n",
              "    <tr>\n",
              "      <th>0</th>\n",
              "      <td>negR_000.txt</td>\n",
              "      <td>0</td>\n",
              "      <td>['mind - fuck movie', 'the sad part is', 'down...</td>\n",
              "      <td>plot : two teen couples go to a church party ,...</td>\n",
              "    </tr>\n",
              "    <tr>\n",
              "      <th>1</th>\n",
              "      <td>negR_001.txt</td>\n",
              "      <td>0</td>\n",
              "      <td>[\"it 's pretty much a sunken ship\", 'sutherlan...</td>\n",
              "      <td>the happy bastard 's quick movie review damn t...</td>\n",
              "    </tr>\n",
              "    <tr>\n",
              "      <th>2</th>\n",
              "      <td>negR_002.txt</td>\n",
              "      <td>0</td>\n",
              "      <td>['the characters and acting is nothing spectac...</td>\n",
              "      <td>it is movies like these that make a jaded movi...</td>\n",
              "    </tr>\n",
              "    <tr>\n",
              "      <th>3</th>\n",
              "      <td>negR_003.txt</td>\n",
              "      <td>0</td>\n",
              "      <td>['dead on arrival', 'the characters stink', 's...</td>\n",
              "      <td>\" quest for camelot \" is warner bros . ' first...</td>\n",
              "    </tr>\n",
              "    <tr>\n",
              "      <th>4</th>\n",
              "      <td>negR_004.txt</td>\n",
              "      <td>0</td>\n",
              "      <td>['it is highly derivative and somewhat boring'...</td>\n",
              "      <td>synopsis : a mentally unstable man undergoing ...</td>\n",
              "    </tr>\n",
              "  </tbody>\n",
              "</table>\n",
              "</div>\n",
              "    <div class=\"colab-df-buttons\">\n",
              "\n",
              "  <div class=\"colab-df-container\">\n",
              "    <button class=\"colab-df-convert\" onclick=\"convertToInteractive('df-fe64c6b6-e7e5-4134-b47a-eee1f98c1264')\"\n",
              "            title=\"Convert this dataframe to an interactive table.\"\n",
              "            style=\"display:none;\">\n",
              "\n",
              "  <svg xmlns=\"http://www.w3.org/2000/svg\" height=\"24px\" viewBox=\"0 -960 960 960\">\n",
              "    <path d=\"M120-120v-720h720v720H120Zm60-500h600v-160H180v160Zm220 220h160v-160H400v160Zm0 220h160v-160H400v160ZM180-400h160v-160H180v160Zm440 0h160v-160H620v160ZM180-180h160v-160H180v160Zm440 0h160v-160H620v160Z\"/>\n",
              "  </svg>\n",
              "    </button>\n",
              "\n",
              "  <style>\n",
              "    .colab-df-container {\n",
              "      display:flex;\n",
              "      gap: 12px;\n",
              "    }\n",
              "\n",
              "    .colab-df-convert {\n",
              "      background-color: #E8F0FE;\n",
              "      border: none;\n",
              "      border-radius: 50%;\n",
              "      cursor: pointer;\n",
              "      display: none;\n",
              "      fill: #1967D2;\n",
              "      height: 32px;\n",
              "      padding: 0 0 0 0;\n",
              "      width: 32px;\n",
              "    }\n",
              "\n",
              "    .colab-df-convert:hover {\n",
              "      background-color: #E2EBFA;\n",
              "      box-shadow: 0px 1px 2px rgba(60, 64, 67, 0.3), 0px 1px 3px 1px rgba(60, 64, 67, 0.15);\n",
              "      fill: #174EA6;\n",
              "    }\n",
              "\n",
              "    .colab-df-buttons div {\n",
              "      margin-bottom: 4px;\n",
              "    }\n",
              "\n",
              "    [theme=dark] .colab-df-convert {\n",
              "      background-color: #3B4455;\n",
              "      fill: #D2E3FC;\n",
              "    }\n",
              "\n",
              "    [theme=dark] .colab-df-convert:hover {\n",
              "      background-color: #434B5C;\n",
              "      box-shadow: 0px 1px 3px 1px rgba(0, 0, 0, 0.15);\n",
              "      filter: drop-shadow(0px 1px 2px rgba(0, 0, 0, 0.3));\n",
              "      fill: #FFFFFF;\n",
              "    }\n",
              "  </style>\n",
              "\n",
              "    <script>\n",
              "      const buttonEl =\n",
              "        document.querySelector('#df-fe64c6b6-e7e5-4134-b47a-eee1f98c1264 button.colab-df-convert');\n",
              "      buttonEl.style.display =\n",
              "        google.colab.kernel.accessAllowed ? 'block' : 'none';\n",
              "\n",
              "      async function convertToInteractive(key) {\n",
              "        const element = document.querySelector('#df-fe64c6b6-e7e5-4134-b47a-eee1f98c1264');\n",
              "        const dataTable =\n",
              "          await google.colab.kernel.invokeFunction('convertToInteractive',\n",
              "                                                    [key], {});\n",
              "        if (!dataTable) return;\n",
              "\n",
              "        const docLinkHtml = 'Like what you see? Visit the ' +\n",
              "          '<a target=\"_blank\" href=https://colab.research.google.com/notebooks/data_table.ipynb>data table notebook</a>'\n",
              "          + ' to learn more about interactive tables.';\n",
              "        element.innerHTML = '';\n",
              "        dataTable['output_type'] = 'display_data';\n",
              "        await google.colab.output.renderOutput(dataTable, element);\n",
              "        const docLink = document.createElement('div');\n",
              "        docLink.innerHTML = docLinkHtml;\n",
              "        element.appendChild(docLink);\n",
              "      }\n",
              "    </script>\n",
              "  </div>\n",
              "\n",
              "\n",
              "<div id=\"df-2b5947ed-e3df-41ec-a2f5-5dffef531050\">\n",
              "  <button class=\"colab-df-quickchart\" onclick=\"quickchart('df-2b5947ed-e3df-41ec-a2f5-5dffef531050')\"\n",
              "            title=\"Suggest charts\"\n",
              "            style=\"display:none;\">\n",
              "\n",
              "<svg xmlns=\"http://www.w3.org/2000/svg\" height=\"24px\"viewBox=\"0 0 24 24\"\n",
              "     width=\"24px\">\n",
              "    <g>\n",
              "        <path d=\"M19 3H5c-1.1 0-2 .9-2 2v14c0 1.1.9 2 2 2h14c1.1 0 2-.9 2-2V5c0-1.1-.9-2-2-2zM9 17H7v-7h2v7zm4 0h-2V7h2v10zm4 0h-2v-4h2v4z\"/>\n",
              "    </g>\n",
              "</svg>\n",
              "  </button>\n",
              "\n",
              "<style>\n",
              "  .colab-df-quickchart {\n",
              "      --bg-color: #E8F0FE;\n",
              "      --fill-color: #1967D2;\n",
              "      --hover-bg-color: #E2EBFA;\n",
              "      --hover-fill-color: #174EA6;\n",
              "      --disabled-fill-color: #AAA;\n",
              "      --disabled-bg-color: #DDD;\n",
              "  }\n",
              "\n",
              "  [theme=dark] .colab-df-quickchart {\n",
              "      --bg-color: #3B4455;\n",
              "      --fill-color: #D2E3FC;\n",
              "      --hover-bg-color: #434B5C;\n",
              "      --hover-fill-color: #FFFFFF;\n",
              "      --disabled-bg-color: #3B4455;\n",
              "      --disabled-fill-color: #666;\n",
              "  }\n",
              "\n",
              "  .colab-df-quickchart {\n",
              "    background-color: var(--bg-color);\n",
              "    border: none;\n",
              "    border-radius: 50%;\n",
              "    cursor: pointer;\n",
              "    display: none;\n",
              "    fill: var(--fill-color);\n",
              "    height: 32px;\n",
              "    padding: 0;\n",
              "    width: 32px;\n",
              "  }\n",
              "\n",
              "  .colab-df-quickchart:hover {\n",
              "    background-color: var(--hover-bg-color);\n",
              "    box-shadow: 0 1px 2px rgba(60, 64, 67, 0.3), 0 1px 3px 1px rgba(60, 64, 67, 0.15);\n",
              "    fill: var(--button-hover-fill-color);\n",
              "  }\n",
              "\n",
              "  .colab-df-quickchart-complete:disabled,\n",
              "  .colab-df-quickchart-complete:disabled:hover {\n",
              "    background-color: var(--disabled-bg-color);\n",
              "    fill: var(--disabled-fill-color);\n",
              "    box-shadow: none;\n",
              "  }\n",
              "\n",
              "  .colab-df-spinner {\n",
              "    border: 2px solid var(--fill-color);\n",
              "    border-color: transparent;\n",
              "    border-bottom-color: var(--fill-color);\n",
              "    animation:\n",
              "      spin 1s steps(1) infinite;\n",
              "  }\n",
              "\n",
              "  @keyframes spin {\n",
              "    0% {\n",
              "      border-color: transparent;\n",
              "      border-bottom-color: var(--fill-color);\n",
              "      border-left-color: var(--fill-color);\n",
              "    }\n",
              "    20% {\n",
              "      border-color: transparent;\n",
              "      border-left-color: var(--fill-color);\n",
              "      border-top-color: var(--fill-color);\n",
              "    }\n",
              "    30% {\n",
              "      border-color: transparent;\n",
              "      border-left-color: var(--fill-color);\n",
              "      border-top-color: var(--fill-color);\n",
              "      border-right-color: var(--fill-color);\n",
              "    }\n",
              "    40% {\n",
              "      border-color: transparent;\n",
              "      border-right-color: var(--fill-color);\n",
              "      border-top-color: var(--fill-color);\n",
              "    }\n",
              "    60% {\n",
              "      border-color: transparent;\n",
              "      border-right-color: var(--fill-color);\n",
              "    }\n",
              "    80% {\n",
              "      border-color: transparent;\n",
              "      border-right-color: var(--fill-color);\n",
              "      border-bottom-color: var(--fill-color);\n",
              "    }\n",
              "    90% {\n",
              "      border-color: transparent;\n",
              "      border-bottom-color: var(--fill-color);\n",
              "    }\n",
              "  }\n",
              "</style>\n",
              "\n",
              "  <script>\n",
              "    async function quickchart(key) {\n",
              "      const quickchartButtonEl =\n",
              "        document.querySelector('#' + key + ' button');\n",
              "      quickchartButtonEl.disabled = true;  // To prevent multiple clicks.\n",
              "      quickchartButtonEl.classList.add('colab-df-spinner');\n",
              "      try {\n",
              "        const charts = await google.colab.kernel.invokeFunction(\n",
              "            'suggestCharts', [key], {});\n",
              "      } catch (error) {\n",
              "        console.error('Error during call to suggestCharts:', error);\n",
              "      }\n",
              "      quickchartButtonEl.classList.remove('colab-df-spinner');\n",
              "      quickchartButtonEl.classList.add('colab-df-quickchart-complete');\n",
              "    }\n",
              "    (() => {\n",
              "      let quickchartButtonEl =\n",
              "        document.querySelector('#df-2b5947ed-e3df-41ec-a2f5-5dffef531050 button');\n",
              "      quickchartButtonEl.style.display =\n",
              "        google.colab.kernel.accessAllowed ? 'block' : 'none';\n",
              "    })();\n",
              "  </script>\n",
              "</div>\n",
              "\n",
              "    </div>\n",
              "  </div>\n"
            ],
            "application/vnd.google.colaboratory.intrinsic+json": {
              "type": "dataframe",
              "variable_name": "train_df",
              "summary": "{\n  \"name\": \"train_df\",\n  \"rows\": 1600,\n  \"fields\": [\n    {\n      \"column\": \"annotation_id\",\n      \"properties\": {\n        \"dtype\": \"string\",\n        \"num_unique_values\": 1600,\n        \"samples\": [\n          \"negR_526.txt\",\n          \"negR_354.txt\",\n          \"negR_168.txt\"\n        ],\n        \"semantic_type\": \"\",\n        \"description\": \"\"\n      }\n    },\n    {\n      \"column\": \"classification\",\n      \"properties\": {\n        \"dtype\": \"number\",\n        \"std\": 0,\n        \"min\": 0,\n        \"max\": 1,\n        \"num_unique_values\": 2,\n        \"samples\": [\n          1,\n          0\n        ],\n        \"semantic_type\": \"\",\n        \"description\": \"\"\n      }\n    },\n    {\n      \"column\": \"evidences\",\n      \"properties\": {\n        \"dtype\": \"string\",\n        \"num_unique_values\": 1600,\n        \"samples\": [\n          \"['so full of plot holes and non characters as to be sure to be the recipient of next years \\\" razzie \\\" award', 'there is so much wrong with this film', 'reeks almost as bad as the piles of rotting fish used to trap the beast', 'the movie has little or no depth', 'plot holes', 'should be ashamed of themselves', 'bleak and ugly looking', \\\"i sincerely hope that i 've completely spoiled any interest\\\", 'without a doubt the loudest , longest , and ultimately most amateurishly written film ever released', 'the performances in the film are singularly bland', 'without a doubt the most brain dead motion picture of the decade']\",\n          \"[\\\"wow , a film without any redeeming qualities whatsoever . i 'm amazed that someone thought this was a story that must be told on screen\\\", \\\"even i 'm offended by it\\\", \\\"there 's just an endless stream of profanity and naked breasts\\\", 'there was no comedy in the film']\"\n        ],\n        \"semantic_type\": \"\",\n        \"description\": \"\"\n      }\n    },\n    {\n      \"column\": \"content\",\n      \"properties\": {\n        \"dtype\": \"string\",\n        \"num_unique_values\": 1599,\n        \"samples\": [\n          \"moviemaking is a lot like being the general manager of an nfl team in the post - salary cap era -- you 've got to know how to allocate your resources . every dollar spent on a free - agent defensive tackle is one less dollar than you can spend on linebackers or safeties or centers . in the nfl , this leads to teams like the detroit lions , who boast a superstar running back with a huge contract , but can only field five guys named herb to block for him . in the movies , you end up with films like \\\" spawn \\\" , with a huge special - effects budget but not enough money to hire any recognizable actors . jackie chan is the barry sanders of moviemaking . he spins and darts across the screen like sanders cutting back through the defensive line . watching jackie in operation condor as he drives his motorcycle through the crowded streets of madrid , fleeing an armada of pursuers in identical black compact cars , is reminiscent of sanders running for daylight with the chicago bears in hot pursuit , except that sanders does n't have to worry about rescuing runaway baby carriages . but like the lions star , jackie does n't have anybody to block for him . almost every cent that 's invested in a jackie chan movie goes for stunts , and as chan does his own stunts , the rest of the money goes to pay his hospital bills . this leaves about 75 cents to pay for things like directors ( chan directs ) , scripts and dubbing and supporting characters , not to mention the hideous title sequence . this also explains why the movie was shot in odd places like morocco and spain . ( chan 's first release in this country , \\\" rumble in the bronx \\\" , was supposedly set in new york , but was filmed in vancouver , and in the chase scenes the canadian rockies are clearly visible . ) heck , jackie does n't even have enough money for a haircut , looks like , much less a personal hairstylist . in condor , chan plays the same character he 's always played , himself , a mixture of bruce lee and tim allen , a master of both kung - fu and slapstick - fu . jackie is sent by the un to retrieve a cache of lost nazi gold in the north african desert , and is chased by a horde of neo - nazi sympathizers and two stereotypical arabs ( one of the things i like about jackie chan movies : no political correctness ) . he is joined by three women , who have little to do except scream , \\\" jackie , save us ! \\\" , and misuse firearms . the villain is an old nazi whose legs were broken in the secret base so that he has to be carried everywhere , and he 's more pathetic than evil . en route , we have an extended motorcycle chase scene , a hilarious fight in the moroccan version of motel 6 with the neo - nazis , and two confrontations with savage natives . once at the secret desert base , there is a long chop - socky sequence , followed by the film 's centerpiece , a wind - tunnel fight that 's even better than the one in face / off . this is where the money was spent , on well - choreographed kung - fu sequences , on giant kevlar hamster balls , on smashed - up crates of bananas , and on scorpions . ignore the gaping holes in the plot ( how , exactly , if the villain 's legs were broken , did he escape from the secret nazi base , and why did n't he take the key with him ? ) . do n't worry about the production values , or what , exactly , the japanese girl was doing hitchhiking across the sahara . just go see the movie . operation condor has pretentions of being a \\\" raiders of the lost ark \\\" knockoff , but one wonders what jackie could do with the raiders franchise blocking for him -- with a lawrence kazdan screenplay , a john williams score , spielberg directing and george lucas producing , condor might be an a+ movie . however , you 've got to go with what you 've got , and what you 've got in jackie chan is something special -- a talent that mainstream hollywood should , could , and ought to utilize .\",\n          \"\\\" something is fishy in the state of universal . \\\" about ten years back , with the unexpected success of mad max and the road warrior , post - apocalypse nitty - gritty survival yarns became popular at the movies . we 've always had movies of this nature ; on the beach , the end of the world , damnation alley , the ultimate warrior , and so on . to date , the most smoothly done were straightforward \\\" haircuts \\\" of the classic western plot , like the lone gunman who comes to town and protects the widow and the son against an evil organization , usually one in possession of some critical resource , like water , feed range , or a mining claim . most of these grew out of venerable , but solid hero yarns like the virginian and shane . ( my personal favorite is a patrick swayze movie called steel dawn , which was fairly well made on a small budget . ) now we have waterworld , which again brings the traditional lone gunman to town to rescue the young widow and her daughter . ( well , she 's not a widow , and the kid is n't her daughter , but you get the idea . ) the lady is helen , played by the stunning jean tripplehorn , who is n't given a chance to be stunning , or even interesting , by the mediocre and unimaginative script . the child enola , played by tina majorino , is living proof that a child actor need not be a bad thing to have in a movie ; she outshines her material all the way through . in simple , the scene is earth , hundreds of years from now . the polar ice caps have melted , and somehow produced enough water to inundate the entire planet . the few remaining people live in boats and floating colonies , and survive by trade , theft , or piracy . somehow an oil tanker has survived the centuries , and its inhabitants , called \\\" smokers , \\\" are able to keep gasoline engines running despite the dearth of replacement parts and raw materials , so the bad guys have outboard engines , and fast - moving boats , airplanes , and jet skis . enola , found at sea as a young girl , has a mysterious map no one can read tattooed on her back . we suspect early on that it is the way to the mythical \\\" dryland , \\\" the place where trees , crops , and animals grow , and what plot there is hinges on who has enola . the psycho ruler of the smokers , the \\\" deacon , \\\" is trying to get her and find his way to dryland . played with typical self - lampooning , rug - chewing histrionics by dennis hopper , \\\" deacon \\\" is the only thing in the movie that 's close to amusing . his performance is * almost * laughable , but there just is n't enough there to be funny . the star ( and a co - producer ) is kevin costner . he 's playing an un - named lone denizen of the sea , a man called the \\\" mariner , \\\" who turns out to be a gilled , water - breathing mutant with webbed feet . very little is done with this . the script ignores the ineffectuality of gills in supplying enough oxygen to support a human metabolism ; it ignores the fact that even with both ice caps completely melted , much of the earth 's surface would still be above water ; and it ignores the blatant impossibility of the cultures and technology shown . ( canned meat does * not * last for centuries ; ammunition does * not * fire after it 's more than a few decades old ; and so on , and so on . . . ) i 'm quite fond of tina majorino 's previous work , very impressed by jean tripplehorn 's past accomplishments , and still speechless over costner 's dances with wolves . but this movie could destroy the careers of anyone associated with it ! this movie cost one hundred and eighty - two million dollars , and there 's * nothing * in it we have n't seen before , done better on only a few percent of the cost of this turkey . at 125 minutes of material , this movie cost over one point four million dollars per minute to make . the budget of this movie * could * have given us over thirty movies ; it could have paid for six years of a prime - time sf tv series with expensive fx work , or ten years of an sf tv series with good digital fx . in sum , this movie is beneath contempt . it has nothing new to offer , it has a script that could easily have been bettered by the people who write comic books for dc , and it spent more money than the national budget of a small nation . if you * have * to go see it , see it on a four - dollar matinee . otherwise you 'll find yourself sneering at you every time you pass a reflective surface , for weeks .\"\n        ],\n        \"semantic_type\": \"\",\n        \"description\": \"\"\n      }\n    }\n  ]\n}"
            }
          },
          "metadata": {},
          "execution_count": 11
        }
      ],
      "source": [
        "# convert the training dataset to a pandas dataframe\n",
        "train_df = pd.DataFrame(train_data)\n",
        "train_df.drop(columns=['query', 'query_type'], inplace=True)\n",
        "train_df['evidences'] = train_df['evidences'].astype(str)\n",
        "\n",
        "train_rationales = train_df['evidences']\n",
        "train_reviews = [get_content(train_data, i) for i in range(train_size)]\n",
        "train_classes = torch.tensor([get_classes(train_data, i) for i in range(train_size)], dtype=torch.float)\n",
        "train_classes = torch.stack([train_classes, 1 - train_classes], dim=1) # convert the classes to binary tensor for two classes (pos & neg)\n",
        "print(\"Number of reviews in training data:\",len(train_reviews))\n",
        "print(\"Max seq length of reviews:\", np.max([len(review.split()) for review in train_reviews]))\n",
        "print(\"Size of training classes:\", train_classes.size())\n",
        "train_df.to_csv('./drive/MyDrive/NeuralNets/standardNeuralNets/train_data.csv', index=False)\n",
        "train_df.head()"
      ]
    },
    {
      "cell_type": "code",
      "execution_count": 12,
      "metadata": {
        "colab": {
          "base_uri": "https://localhost:8080/",
          "height": 241
        },
        "id": "YUXL-ZR0Pujb",
        "outputId": "26ea3db6-df7f-422a-bd1f-5154bb0c6945"
      },
      "outputs": [
        {
          "output_type": "stream",
          "name": "stdout",
          "text": [
            "Number of reviews in validation data: 200\n",
            "Max seq length of reviews: 1880\n"
          ]
        },
        {
          "output_type": "execute_result",
          "data": {
            "text/plain": [
              "  annotation_id  classification  \\\n",
              "0  negR_800.txt               0   \n",
              "1  negR_801.txt               0   \n",
              "2  negR_802.txt               0   \n",
              "3  negR_803.txt               0   \n",
              "4  negR_804.txt               0   \n",
              "\n",
              "                                           evidences  \\\n",
              "0  ['definitely the cinematic equivalent of a sle...   \n",
              "1  ['overacts his psycho routine', 'deteriorates ...   \n",
              "2  ['so dull and pedestrian and nonsensical', 'bo...   \n",
              "3  ['takes the easy route out', 'most hampered no...   \n",
              "4  ['poor choices', \"it 's downright depressing\",...   \n",
              "\n",
              "                                             content  \n",
              "0  there were four movies that earned jamie lee c...  \n",
              "1  according to hitchcock and various other filmm...  \n",
              "2  if you 've been following william fichtner 's ...  \n",
              "3  note : some may consider portions of the follo...  \n",
              "4  for his directoral debut , gary oldman chose a...  "
            ],
            "text/html": [
              "\n",
              "  <div id=\"df-36cdec9c-100e-4177-b671-a1a597cd988f\" class=\"colab-df-container\">\n",
              "    <div>\n",
              "<style scoped>\n",
              "    .dataframe tbody tr th:only-of-type {\n",
              "        vertical-align: middle;\n",
              "    }\n",
              "\n",
              "    .dataframe tbody tr th {\n",
              "        vertical-align: top;\n",
              "    }\n",
              "\n",
              "    .dataframe thead th {\n",
              "        text-align: right;\n",
              "    }\n",
              "</style>\n",
              "<table border=\"1\" class=\"dataframe\">\n",
              "  <thead>\n",
              "    <tr style=\"text-align: right;\">\n",
              "      <th></th>\n",
              "      <th>annotation_id</th>\n",
              "      <th>classification</th>\n",
              "      <th>evidences</th>\n",
              "      <th>content</th>\n",
              "    </tr>\n",
              "  </thead>\n",
              "  <tbody>\n",
              "    <tr>\n",
              "      <th>0</th>\n",
              "      <td>negR_800.txt</td>\n",
              "      <td>0</td>\n",
              "      <td>['definitely the cinematic equivalent of a sle...</td>\n",
              "      <td>there were four movies that earned jamie lee c...</td>\n",
              "    </tr>\n",
              "    <tr>\n",
              "      <th>1</th>\n",
              "      <td>negR_801.txt</td>\n",
              "      <td>0</td>\n",
              "      <td>['overacts his psycho routine', 'deteriorates ...</td>\n",
              "      <td>according to hitchcock and various other filmm...</td>\n",
              "    </tr>\n",
              "    <tr>\n",
              "      <th>2</th>\n",
              "      <td>negR_802.txt</td>\n",
              "      <td>0</td>\n",
              "      <td>['so dull and pedestrian and nonsensical', 'bo...</td>\n",
              "      <td>if you 've been following william fichtner 's ...</td>\n",
              "    </tr>\n",
              "    <tr>\n",
              "      <th>3</th>\n",
              "      <td>negR_803.txt</td>\n",
              "      <td>0</td>\n",
              "      <td>['takes the easy route out', 'most hampered no...</td>\n",
              "      <td>note : some may consider portions of the follo...</td>\n",
              "    </tr>\n",
              "    <tr>\n",
              "      <th>4</th>\n",
              "      <td>negR_804.txt</td>\n",
              "      <td>0</td>\n",
              "      <td>['poor choices', \"it 's downright depressing\",...</td>\n",
              "      <td>for his directoral debut , gary oldman chose a...</td>\n",
              "    </tr>\n",
              "  </tbody>\n",
              "</table>\n",
              "</div>\n",
              "    <div class=\"colab-df-buttons\">\n",
              "\n",
              "  <div class=\"colab-df-container\">\n",
              "    <button class=\"colab-df-convert\" onclick=\"convertToInteractive('df-36cdec9c-100e-4177-b671-a1a597cd988f')\"\n",
              "            title=\"Convert this dataframe to an interactive table.\"\n",
              "            style=\"display:none;\">\n",
              "\n",
              "  <svg xmlns=\"http://www.w3.org/2000/svg\" height=\"24px\" viewBox=\"0 -960 960 960\">\n",
              "    <path d=\"M120-120v-720h720v720H120Zm60-500h600v-160H180v160Zm220 220h160v-160H400v160Zm0 220h160v-160H400v160ZM180-400h160v-160H180v160Zm440 0h160v-160H620v160ZM180-180h160v-160H180v160Zm440 0h160v-160H620v160Z\"/>\n",
              "  </svg>\n",
              "    </button>\n",
              "\n",
              "  <style>\n",
              "    .colab-df-container {\n",
              "      display:flex;\n",
              "      gap: 12px;\n",
              "    }\n",
              "\n",
              "    .colab-df-convert {\n",
              "      background-color: #E8F0FE;\n",
              "      border: none;\n",
              "      border-radius: 50%;\n",
              "      cursor: pointer;\n",
              "      display: none;\n",
              "      fill: #1967D2;\n",
              "      height: 32px;\n",
              "      padding: 0 0 0 0;\n",
              "      width: 32px;\n",
              "    }\n",
              "\n",
              "    .colab-df-convert:hover {\n",
              "      background-color: #E2EBFA;\n",
              "      box-shadow: 0px 1px 2px rgba(60, 64, 67, 0.3), 0px 1px 3px 1px rgba(60, 64, 67, 0.15);\n",
              "      fill: #174EA6;\n",
              "    }\n",
              "\n",
              "    .colab-df-buttons div {\n",
              "      margin-bottom: 4px;\n",
              "    }\n",
              "\n",
              "    [theme=dark] .colab-df-convert {\n",
              "      background-color: #3B4455;\n",
              "      fill: #D2E3FC;\n",
              "    }\n",
              "\n",
              "    [theme=dark] .colab-df-convert:hover {\n",
              "      background-color: #434B5C;\n",
              "      box-shadow: 0px 1px 3px 1px rgba(0, 0, 0, 0.15);\n",
              "      filter: drop-shadow(0px 1px 2px rgba(0, 0, 0, 0.3));\n",
              "      fill: #FFFFFF;\n",
              "    }\n",
              "  </style>\n",
              "\n",
              "    <script>\n",
              "      const buttonEl =\n",
              "        document.querySelector('#df-36cdec9c-100e-4177-b671-a1a597cd988f button.colab-df-convert');\n",
              "      buttonEl.style.display =\n",
              "        google.colab.kernel.accessAllowed ? 'block' : 'none';\n",
              "\n",
              "      async function convertToInteractive(key) {\n",
              "        const element = document.querySelector('#df-36cdec9c-100e-4177-b671-a1a597cd988f');\n",
              "        const dataTable =\n",
              "          await google.colab.kernel.invokeFunction('convertToInteractive',\n",
              "                                                    [key], {});\n",
              "        if (!dataTable) return;\n",
              "\n",
              "        const docLinkHtml = 'Like what you see? Visit the ' +\n",
              "          '<a target=\"_blank\" href=https://colab.research.google.com/notebooks/data_table.ipynb>data table notebook</a>'\n",
              "          + ' to learn more about interactive tables.';\n",
              "        element.innerHTML = '';\n",
              "        dataTable['output_type'] = 'display_data';\n",
              "        await google.colab.output.renderOutput(dataTable, element);\n",
              "        const docLink = document.createElement('div');\n",
              "        docLink.innerHTML = docLinkHtml;\n",
              "        element.appendChild(docLink);\n",
              "      }\n",
              "    </script>\n",
              "  </div>\n",
              "\n",
              "\n",
              "<div id=\"df-c9d8906f-5139-4035-9b27-e3a09d55b9b2\">\n",
              "  <button class=\"colab-df-quickchart\" onclick=\"quickchart('df-c9d8906f-5139-4035-9b27-e3a09d55b9b2')\"\n",
              "            title=\"Suggest charts\"\n",
              "            style=\"display:none;\">\n",
              "\n",
              "<svg xmlns=\"http://www.w3.org/2000/svg\" height=\"24px\"viewBox=\"0 0 24 24\"\n",
              "     width=\"24px\">\n",
              "    <g>\n",
              "        <path d=\"M19 3H5c-1.1 0-2 .9-2 2v14c0 1.1.9 2 2 2h14c1.1 0 2-.9 2-2V5c0-1.1-.9-2-2-2zM9 17H7v-7h2v7zm4 0h-2V7h2v10zm4 0h-2v-4h2v4z\"/>\n",
              "    </g>\n",
              "</svg>\n",
              "  </button>\n",
              "\n",
              "<style>\n",
              "  .colab-df-quickchart {\n",
              "      --bg-color: #E8F0FE;\n",
              "      --fill-color: #1967D2;\n",
              "      --hover-bg-color: #E2EBFA;\n",
              "      --hover-fill-color: #174EA6;\n",
              "      --disabled-fill-color: #AAA;\n",
              "      --disabled-bg-color: #DDD;\n",
              "  }\n",
              "\n",
              "  [theme=dark] .colab-df-quickchart {\n",
              "      --bg-color: #3B4455;\n",
              "      --fill-color: #D2E3FC;\n",
              "      --hover-bg-color: #434B5C;\n",
              "      --hover-fill-color: #FFFFFF;\n",
              "      --disabled-bg-color: #3B4455;\n",
              "      --disabled-fill-color: #666;\n",
              "  }\n",
              "\n",
              "  .colab-df-quickchart {\n",
              "    background-color: var(--bg-color);\n",
              "    border: none;\n",
              "    border-radius: 50%;\n",
              "    cursor: pointer;\n",
              "    display: none;\n",
              "    fill: var(--fill-color);\n",
              "    height: 32px;\n",
              "    padding: 0;\n",
              "    width: 32px;\n",
              "  }\n",
              "\n",
              "  .colab-df-quickchart:hover {\n",
              "    background-color: var(--hover-bg-color);\n",
              "    box-shadow: 0 1px 2px rgba(60, 64, 67, 0.3), 0 1px 3px 1px rgba(60, 64, 67, 0.15);\n",
              "    fill: var(--button-hover-fill-color);\n",
              "  }\n",
              "\n",
              "  .colab-df-quickchart-complete:disabled,\n",
              "  .colab-df-quickchart-complete:disabled:hover {\n",
              "    background-color: var(--disabled-bg-color);\n",
              "    fill: var(--disabled-fill-color);\n",
              "    box-shadow: none;\n",
              "  }\n",
              "\n",
              "  .colab-df-spinner {\n",
              "    border: 2px solid var(--fill-color);\n",
              "    border-color: transparent;\n",
              "    border-bottom-color: var(--fill-color);\n",
              "    animation:\n",
              "      spin 1s steps(1) infinite;\n",
              "  }\n",
              "\n",
              "  @keyframes spin {\n",
              "    0% {\n",
              "      border-color: transparent;\n",
              "      border-bottom-color: var(--fill-color);\n",
              "      border-left-color: var(--fill-color);\n",
              "    }\n",
              "    20% {\n",
              "      border-color: transparent;\n",
              "      border-left-color: var(--fill-color);\n",
              "      border-top-color: var(--fill-color);\n",
              "    }\n",
              "    30% {\n",
              "      border-color: transparent;\n",
              "      border-left-color: var(--fill-color);\n",
              "      border-top-color: var(--fill-color);\n",
              "      border-right-color: var(--fill-color);\n",
              "    }\n",
              "    40% {\n",
              "      border-color: transparent;\n",
              "      border-right-color: var(--fill-color);\n",
              "      border-top-color: var(--fill-color);\n",
              "    }\n",
              "    60% {\n",
              "      border-color: transparent;\n",
              "      border-right-color: var(--fill-color);\n",
              "    }\n",
              "    80% {\n",
              "      border-color: transparent;\n",
              "      border-right-color: var(--fill-color);\n",
              "      border-bottom-color: var(--fill-color);\n",
              "    }\n",
              "    90% {\n",
              "      border-color: transparent;\n",
              "      border-bottom-color: var(--fill-color);\n",
              "    }\n",
              "  }\n",
              "</style>\n",
              "\n",
              "  <script>\n",
              "    async function quickchart(key) {\n",
              "      const quickchartButtonEl =\n",
              "        document.querySelector('#' + key + ' button');\n",
              "      quickchartButtonEl.disabled = true;  // To prevent multiple clicks.\n",
              "      quickchartButtonEl.classList.add('colab-df-spinner');\n",
              "      try {\n",
              "        const charts = await google.colab.kernel.invokeFunction(\n",
              "            'suggestCharts', [key], {});\n",
              "      } catch (error) {\n",
              "        console.error('Error during call to suggestCharts:', error);\n",
              "      }\n",
              "      quickchartButtonEl.classList.remove('colab-df-spinner');\n",
              "      quickchartButtonEl.classList.add('colab-df-quickchart-complete');\n",
              "    }\n",
              "    (() => {\n",
              "      let quickchartButtonEl =\n",
              "        document.querySelector('#df-c9d8906f-5139-4035-9b27-e3a09d55b9b2 button');\n",
              "      quickchartButtonEl.style.display =\n",
              "        google.colab.kernel.accessAllowed ? 'block' : 'none';\n",
              "    })();\n",
              "  </script>\n",
              "</div>\n",
              "\n",
              "    </div>\n",
              "  </div>\n"
            ],
            "application/vnd.google.colaboratory.intrinsic+json": {
              "type": "dataframe",
              "variable_name": "val_df",
              "summary": "{\n  \"name\": \"val_df\",\n  \"rows\": 200,\n  \"fields\": [\n    {\n      \"column\": \"annotation_id\",\n      \"properties\": {\n        \"dtype\": \"string\",\n        \"num_unique_values\": 200,\n        \"samples\": [\n          \"negR_895.txt\",\n          \"negR_815.txt\",\n          \"negR_830.txt\"\n        ],\n        \"semantic_type\": \"\",\n        \"description\": \"\"\n      }\n    },\n    {\n      \"column\": \"classification\",\n      \"properties\": {\n        \"dtype\": \"number\",\n        \"std\": 0,\n        \"min\": 0,\n        \"max\": 1,\n        \"num_unique_values\": 2,\n        \"samples\": [\n          1,\n          0\n        ],\n        \"semantic_type\": \"\",\n        \"description\": \"\"\n      }\n    },\n    {\n      \"column\": \"evidences\",\n      \"properties\": {\n        \"dtype\": \"string\",\n        \"num_unique_values\": 200,\n        \"samples\": [\n          \"['a pulp fiction knock off', \\\"the story is n't much , and the dialogue and characters rate only marginally better\\\", \\\"a movie is n't that good\\\", 'i really cared absolutely nothing about', 'prepare for disappointment', 'falls way short', 'they inevitably are brought down']\",\n          \"['this . . . this . . . thing .', 'so flatly drawn', 'a collection of unfunny cringe - inducing moments coupled with uninsightful cringe - inducing moments', 'astoundingly implausible', 'an unfunny , uninsightful , cringe - inducing , thoroughly icky embarrassment', \\\"forget about what we 've seen here\\\", \\\"let 's all join hands and pray that the planet these folks are from is not this one .\\\", 'the most difficult to watch', 'wades in the bog of stupidity']\"\n        ],\n        \"semantic_type\": \"\",\n        \"description\": \"\"\n      }\n    },\n    {\n      \"column\": \"content\",\n      \"properties\": {\n        \"dtype\": \"string\",\n        \"num_unique_values\": 200,\n        \"samples\": [\n          \"2 days in the valley is more or less a pulp fiction knock off . it basically involves how a bunch of quirky characters in the los angeles area end up having their lives become intertwined in some very unusual ways . i 'm not going into much greater detail than that , since it would take forever to explain , and quite frankly , i 'm not willing to spend any more time on it than the 2 hours that i 've already wasted . while it tries very hard to be pulp fiction , 2 days in the valley falls way short . this is quite a condemnation considering the cast includes danny aiello , james spader and jeff daniels . while the story is n't much , and the dialogue and characters rate only marginally better , 2 days in the valley does have a couple of bright spots . james spader 's character , while not much better than the rest , is at least fun to watch in a sick sort of way . and we do get to see a nice cat fight between uber babes teri hatcher and charlize theron ( in her first role ) . you know a movie is n't that good when the highlight is a brawl between two women . even if they are both gorgeous . i will give the writers some credit for the fairly clever ways in which they managed to intersect the lives of this group of characters that would have otherwise never interacted . but marveling at that ingenuity is a far cry from actually enjoying the result . while some of the characters and their respective stories are fairly interesting , they inevitably are brought down as they intersect with the other half of the characters that i really cared absolutely nothing about . if i were to put a number on it , only about half of the story and half the characters in this movie were particularly interesting or otherwise enjoyable to watch . this is the sort of movie that only a huge fan of one or more of the cast members should rent , and even then prepare for disappointment . not even charlize theron being naked would get me to sit through this movie again . or at least not all of it anyway .\",\n          \"when i watch a movie like mike nichols ' what planet are you from ? i ca n't help but feel like everyone is looking at me . it 's as if all the audience is gazing at the back of my head in the darkness , eyes shooting daggers , quietly blaming me for the fact that they paid hard - earned money to spend their time watching this . . . this . . . thing . i shift uncomfortably in my seat . i 'm reminded of how i feel when i see a pair of second- or third - rate celebrities engaging in a teleprompted \\\" funny \\\" conversation to introduce the next blockbuster award . it 's not my fault , i know it 's not my fault , but dammit , someone 's got ta be embarrassed , because it does n't look like anyone on the screen is ready to take the blame . i 'm about to give you a list of names of people who are gon na make a movie together : garry shandling , annette bening , john goodman , greg kinnear , mike nichols . do any of these names make you instantly shudder ? the answer i would have come up with before today is no , this is quite a list of talented individuals we 've got here . granted , john goodman was in the flintstones , and greg kinnear has turned in some less - than - lackluster leading man performances in certified failures like a smile like yours , but even so , they 've got proven power as excellent supporting players . garry shandling has two television classics under his belt , his ingenious little it 's garry shandling 's show and the larry sanders show . and for god 's sake , mike nichols directed the graduate , and annette bening is just walking away from american beauty . so explain this . . . this . . . thing . what planet are you from ? purports to be a comedy exploring the relationship between men and women satirizing the whole pop - psychology mars / venus phenomenon . but what this movie winds up being is a collection of unfunny cringe - inducing moments coupled with uninsightful cringe - inducing moments ; the end result is , unsurprisingly , an unfunny , uninsightful , cringe - inducing , thoroughly icky embarrassment . garry shandling plays an alien from a planet populated by technologically advanced but emotionally vacant males ( they reproduce through cloning , of course ) . his leaders put a select group of males through a series of tests designed to determine which one is most fit to fly off to earth , find a female of the species , and impregnate her . they 're taught how to pretend that they 're listening by nodding and saying \\\" uh - huh , \\\" and how to compliment shoes . imagine my delighted surprise when , oh heavens , all their carefully practiced tactics turn out to fail miserably , producing comedic results ! the lucky winner is fitted with a penis ( since theirs , after generations of disuse have long since shrunk out of existence . . . i will restrain myself from mentioning the implausibility of such a scenario since the population has stopped evolving due to the fact that they 're all just clones . . . whoops , too late . ) the penis , when aroused , tends to make a humming noise . the writers , when frequently strapped for ideas , tend to turn to this as a source of \\\" comedy . \\\" it is n't funny the first time . it is n't funny the eighth time . it is n't funny the eighteenth time . if anything , it made me feel vaguely self - conscious . garry meets up with a coworker at a bank played by greg kinnear , who turns out to be a generic , unlikable scumbag . he 's meant to fill the part of unfortunate role model for shandling 's alien character , but he 's so flatly drawn that even the writers quickly give up and toss him aside . kinnear 's scumbagginess is demonstrated by the fact that he claims other peoples ' work as his own to worm his way into a vice presidents ' position and goes to aa meetings to pick up chicks . wow . what a magnificent bastard . nearly every man in the movie , in fact , is played as the same sort of sex - driven slimeball . when kinnear 's wife walks into the office , there is n't a single guy who does n't trip , bump into a wall , or otherwise pratfall as if they 'd never seen a woman before . the few guys that are n't particularly slimeballs , such as john goodman 's detective character , are simply uncommunicative workaholics . shandling meets up with annette bening , who will inevitably prove to be the love he never knew existed , at one of kinnear 's aa meetings . shandling 's mission is to have a baby , and when he reveals his desires to her , bening instantly falls for him , and the next day . . . they get married . yup . the next day . cuz ya see , it turns out she wants a baby too ! bening 's character perhaps was the most difficult to watch , especially after seeing her come apart at the seams so effectively in american beauty . . . if her character here is supposed to be representing the female of the species as a whole , then woe , i say , to the species . she 's unfathomably insecure , and succumbs so easily to all of shandling 's lines and lies that it borders on tragic . there 's a point where , after thinking she may not be able to bear children , she learns that she is indeed pregnant . when garry comes home after nearly cheating on her , she strolls into the kitchen and sings \\\" high hopes \\\" ( you know , the uplifting ant and the rubber tree plant song ) to deliver the news , and then says to him , \\\" now you ca n't leave me . \\\" we 're supposed to empathize with shandling 's discovery of the feeling of \\\" guilt , \\\" but instead i wanted to weep for bening that she was placing her entire life and soul firmly in the lap of a great big nothing . and eventually , shandling falls in love with her . . . for real , i suppose , though i 'm not sure exactly what prompted it . what 's the message i derive from all this ? men are liars , inherently empty creatures , but if you hang around long enough . . . well , maybe something will click . ha ha . . . ha ? i 'm thankful such broad cynicism is n't frequently allowed to run so rampant . let 's all join hands and pray that the planet these folks are from is not this one . there 's also a subplot involving john goodman as an airline incident investigator that wades in the bog of stupidity . goodman , through a series of astoundingly implausible realizations , puts together the fact that shandling is a being from another world with a magic , vibrating penis . it has all the makings for a subplot of having shandling be discovered , that , thankfully , never comes to the inevitable hackneyed fruition . instead , it just dangles limply on the branch for a while , withers , and falls away . further proof that goodman should just stick to doing coen brothers movies . but let 's not dwell on this any longer , i 've already wasted plenty of your time and my own . let 's move on , forget about what we 've seen here , and get on with our lives . and to help us out , let 's end things on a happy note . . . congratuations go out to annette bening , winner of this week 's \\\" title ! \\\" award , for delivering the awkward line of dialog containing the movie 's name .\"\n        ],\n        \"semantic_type\": \"\",\n        \"description\": \"\"\n      }\n    }\n  ]\n}"
            }
          },
          "metadata": {},
          "execution_count": 12
        }
      ],
      "source": [
        "# convert the validation dataset to a pandas dataframe\n",
        "val_df = pd.DataFrame(validation_data)\n",
        "val_df.drop(columns=['query', 'query_type'], inplace=True)\n",
        "val_df['evidences'] = val_df['evidences'].astype(str)\n",
        "\n",
        "val_rationales = val_df['evidences']\n",
        "val_reviews = [get_content(validation_data, i) for i in range(val_size)]\n",
        "val_classes = torch.tensor([get_classes(validation_data, i) for i in range(val_size)], dtype=torch.float)\n",
        "val_classes = torch.stack([val_classes, 1 - val_classes], dim=1) # convert the classes to binary tensor for two classes (pos & neg)\n",
        "\n",
        "print(\"Number of reviews in validation data:\",len(val_reviews))\n",
        "print(\"Max seq length of reviews:\", np.max([len(review.split()) for review in val_reviews]))\n",
        "val_df.to_csv('./drive/MyDrive/NeuralNets/standardNeuralNets/val_data.csv', index=False)\n",
        "val_df.head()"
      ]
    },
    {
      "cell_type": "code",
      "execution_count": 13,
      "metadata": {
        "colab": {
          "base_uri": "https://localhost:8080/",
          "height": 241
        },
        "id": "Q4vG15P9OvtM",
        "outputId": "f720d62d-ab5e-4c1a-dd71-b72cf1ff32ec"
      },
      "outputs": [
        {
          "output_type": "stream",
          "name": "stdout",
          "text": [
            "Number of reviews in test data: 199\n",
            "Max seq length of reviews: 2122\n"
          ]
        },
        {
          "output_type": "execute_result",
          "data": {
            "text/plain": [
              "  annotation_id  classification  \\\n",
              "0  negR_900.txt               0   \n",
              "1  negR_901.txt               0   \n",
              "2  negR_902.txt               0   \n",
              "3  negR_903.txt               0   \n",
              "4  negR_904.txt               0   \n",
              "\n",
              "                                           evidences  \\\n",
              "0                                 ['i even giggled']   \n",
              "1                                          ['rings']   \n",
              "2  [\"there 're so many things to criticize about ...   \n",
              "3  [\"do n't let this movie fool you into believin...   \n",
              "4  [\"is proof that hollywood does n't have a clue...   \n",
              "\n",
              "                                             content  \n",
              "0  there may not be a critic alive who harbors as...  \n",
              "1  renee zellweger stars as sonia , a young jewis...  \n",
              "2  there 're so many things to criticize about i ...  \n",
              "3  do n't let this movie fool you into believing ...  \n",
              "4  it 's a good thing most animated sci - fi movi...  "
            ],
            "text/html": [
              "\n",
              "  <div id=\"df-299ebc23-b485-4a92-8a45-450173b712d8\" class=\"colab-df-container\">\n",
              "    <div>\n",
              "<style scoped>\n",
              "    .dataframe tbody tr th:only-of-type {\n",
              "        vertical-align: middle;\n",
              "    }\n",
              "\n",
              "    .dataframe tbody tr th {\n",
              "        vertical-align: top;\n",
              "    }\n",
              "\n",
              "    .dataframe thead th {\n",
              "        text-align: right;\n",
              "    }\n",
              "</style>\n",
              "<table border=\"1\" class=\"dataframe\">\n",
              "  <thead>\n",
              "    <tr style=\"text-align: right;\">\n",
              "      <th></th>\n",
              "      <th>annotation_id</th>\n",
              "      <th>classification</th>\n",
              "      <th>evidences</th>\n",
              "      <th>content</th>\n",
              "    </tr>\n",
              "  </thead>\n",
              "  <tbody>\n",
              "    <tr>\n",
              "      <th>0</th>\n",
              "      <td>negR_900.txt</td>\n",
              "      <td>0</td>\n",
              "      <td>['i even giggled']</td>\n",
              "      <td>there may not be a critic alive who harbors as...</td>\n",
              "    </tr>\n",
              "    <tr>\n",
              "      <th>1</th>\n",
              "      <td>negR_901.txt</td>\n",
              "      <td>0</td>\n",
              "      <td>['rings']</td>\n",
              "      <td>renee zellweger stars as sonia , a young jewis...</td>\n",
              "    </tr>\n",
              "    <tr>\n",
              "      <th>2</th>\n",
              "      <td>negR_902.txt</td>\n",
              "      <td>0</td>\n",
              "      <td>[\"there 're so many things to criticize about ...</td>\n",
              "      <td>there 're so many things to criticize about i ...</td>\n",
              "    </tr>\n",
              "    <tr>\n",
              "      <th>3</th>\n",
              "      <td>negR_903.txt</td>\n",
              "      <td>0</td>\n",
              "      <td>[\"do n't let this movie fool you into believin...</td>\n",
              "      <td>do n't let this movie fool you into believing ...</td>\n",
              "    </tr>\n",
              "    <tr>\n",
              "      <th>4</th>\n",
              "      <td>negR_904.txt</td>\n",
              "      <td>0</td>\n",
              "      <td>[\"is proof that hollywood does n't have a clue...</td>\n",
              "      <td>it 's a good thing most animated sci - fi movi...</td>\n",
              "    </tr>\n",
              "  </tbody>\n",
              "</table>\n",
              "</div>\n",
              "    <div class=\"colab-df-buttons\">\n",
              "\n",
              "  <div class=\"colab-df-container\">\n",
              "    <button class=\"colab-df-convert\" onclick=\"convertToInteractive('df-299ebc23-b485-4a92-8a45-450173b712d8')\"\n",
              "            title=\"Convert this dataframe to an interactive table.\"\n",
              "            style=\"display:none;\">\n",
              "\n",
              "  <svg xmlns=\"http://www.w3.org/2000/svg\" height=\"24px\" viewBox=\"0 -960 960 960\">\n",
              "    <path d=\"M120-120v-720h720v720H120Zm60-500h600v-160H180v160Zm220 220h160v-160H400v160Zm0 220h160v-160H400v160ZM180-400h160v-160H180v160Zm440 0h160v-160H620v160ZM180-180h160v-160H180v160Zm440 0h160v-160H620v160Z\"/>\n",
              "  </svg>\n",
              "    </button>\n",
              "\n",
              "  <style>\n",
              "    .colab-df-container {\n",
              "      display:flex;\n",
              "      gap: 12px;\n",
              "    }\n",
              "\n",
              "    .colab-df-convert {\n",
              "      background-color: #E8F0FE;\n",
              "      border: none;\n",
              "      border-radius: 50%;\n",
              "      cursor: pointer;\n",
              "      display: none;\n",
              "      fill: #1967D2;\n",
              "      height: 32px;\n",
              "      padding: 0 0 0 0;\n",
              "      width: 32px;\n",
              "    }\n",
              "\n",
              "    .colab-df-convert:hover {\n",
              "      background-color: #E2EBFA;\n",
              "      box-shadow: 0px 1px 2px rgba(60, 64, 67, 0.3), 0px 1px 3px 1px rgba(60, 64, 67, 0.15);\n",
              "      fill: #174EA6;\n",
              "    }\n",
              "\n",
              "    .colab-df-buttons div {\n",
              "      margin-bottom: 4px;\n",
              "    }\n",
              "\n",
              "    [theme=dark] .colab-df-convert {\n",
              "      background-color: #3B4455;\n",
              "      fill: #D2E3FC;\n",
              "    }\n",
              "\n",
              "    [theme=dark] .colab-df-convert:hover {\n",
              "      background-color: #434B5C;\n",
              "      box-shadow: 0px 1px 3px 1px rgba(0, 0, 0, 0.15);\n",
              "      filter: drop-shadow(0px 1px 2px rgba(0, 0, 0, 0.3));\n",
              "      fill: #FFFFFF;\n",
              "    }\n",
              "  </style>\n",
              "\n",
              "    <script>\n",
              "      const buttonEl =\n",
              "        document.querySelector('#df-299ebc23-b485-4a92-8a45-450173b712d8 button.colab-df-convert');\n",
              "      buttonEl.style.display =\n",
              "        google.colab.kernel.accessAllowed ? 'block' : 'none';\n",
              "\n",
              "      async function convertToInteractive(key) {\n",
              "        const element = document.querySelector('#df-299ebc23-b485-4a92-8a45-450173b712d8');\n",
              "        const dataTable =\n",
              "          await google.colab.kernel.invokeFunction('convertToInteractive',\n",
              "                                                    [key], {});\n",
              "        if (!dataTable) return;\n",
              "\n",
              "        const docLinkHtml = 'Like what you see? Visit the ' +\n",
              "          '<a target=\"_blank\" href=https://colab.research.google.com/notebooks/data_table.ipynb>data table notebook</a>'\n",
              "          + ' to learn more about interactive tables.';\n",
              "        element.innerHTML = '';\n",
              "        dataTable['output_type'] = 'display_data';\n",
              "        await google.colab.output.renderOutput(dataTable, element);\n",
              "        const docLink = document.createElement('div');\n",
              "        docLink.innerHTML = docLinkHtml;\n",
              "        element.appendChild(docLink);\n",
              "      }\n",
              "    </script>\n",
              "  </div>\n",
              "\n",
              "\n",
              "<div id=\"df-cf5d1235-8bce-4e5a-8a39-9998e606a7f5\">\n",
              "  <button class=\"colab-df-quickchart\" onclick=\"quickchart('df-cf5d1235-8bce-4e5a-8a39-9998e606a7f5')\"\n",
              "            title=\"Suggest charts\"\n",
              "            style=\"display:none;\">\n",
              "\n",
              "<svg xmlns=\"http://www.w3.org/2000/svg\" height=\"24px\"viewBox=\"0 0 24 24\"\n",
              "     width=\"24px\">\n",
              "    <g>\n",
              "        <path d=\"M19 3H5c-1.1 0-2 .9-2 2v14c0 1.1.9 2 2 2h14c1.1 0 2-.9 2-2V5c0-1.1-.9-2-2-2zM9 17H7v-7h2v7zm4 0h-2V7h2v10zm4 0h-2v-4h2v4z\"/>\n",
              "    </g>\n",
              "</svg>\n",
              "  </button>\n",
              "\n",
              "<style>\n",
              "  .colab-df-quickchart {\n",
              "      --bg-color: #E8F0FE;\n",
              "      --fill-color: #1967D2;\n",
              "      --hover-bg-color: #E2EBFA;\n",
              "      --hover-fill-color: #174EA6;\n",
              "      --disabled-fill-color: #AAA;\n",
              "      --disabled-bg-color: #DDD;\n",
              "  }\n",
              "\n",
              "  [theme=dark] .colab-df-quickchart {\n",
              "      --bg-color: #3B4455;\n",
              "      --fill-color: #D2E3FC;\n",
              "      --hover-bg-color: #434B5C;\n",
              "      --hover-fill-color: #FFFFFF;\n",
              "      --disabled-bg-color: #3B4455;\n",
              "      --disabled-fill-color: #666;\n",
              "  }\n",
              "\n",
              "  .colab-df-quickchart {\n",
              "    background-color: var(--bg-color);\n",
              "    border: none;\n",
              "    border-radius: 50%;\n",
              "    cursor: pointer;\n",
              "    display: none;\n",
              "    fill: var(--fill-color);\n",
              "    height: 32px;\n",
              "    padding: 0;\n",
              "    width: 32px;\n",
              "  }\n",
              "\n",
              "  .colab-df-quickchart:hover {\n",
              "    background-color: var(--hover-bg-color);\n",
              "    box-shadow: 0 1px 2px rgba(60, 64, 67, 0.3), 0 1px 3px 1px rgba(60, 64, 67, 0.15);\n",
              "    fill: var(--button-hover-fill-color);\n",
              "  }\n",
              "\n",
              "  .colab-df-quickchart-complete:disabled,\n",
              "  .colab-df-quickchart-complete:disabled:hover {\n",
              "    background-color: var(--disabled-bg-color);\n",
              "    fill: var(--disabled-fill-color);\n",
              "    box-shadow: none;\n",
              "  }\n",
              "\n",
              "  .colab-df-spinner {\n",
              "    border: 2px solid var(--fill-color);\n",
              "    border-color: transparent;\n",
              "    border-bottom-color: var(--fill-color);\n",
              "    animation:\n",
              "      spin 1s steps(1) infinite;\n",
              "  }\n",
              "\n",
              "  @keyframes spin {\n",
              "    0% {\n",
              "      border-color: transparent;\n",
              "      border-bottom-color: var(--fill-color);\n",
              "      border-left-color: var(--fill-color);\n",
              "    }\n",
              "    20% {\n",
              "      border-color: transparent;\n",
              "      border-left-color: var(--fill-color);\n",
              "      border-top-color: var(--fill-color);\n",
              "    }\n",
              "    30% {\n",
              "      border-color: transparent;\n",
              "      border-left-color: var(--fill-color);\n",
              "      border-top-color: var(--fill-color);\n",
              "      border-right-color: var(--fill-color);\n",
              "    }\n",
              "    40% {\n",
              "      border-color: transparent;\n",
              "      border-right-color: var(--fill-color);\n",
              "      border-top-color: var(--fill-color);\n",
              "    }\n",
              "    60% {\n",
              "      border-color: transparent;\n",
              "      border-right-color: var(--fill-color);\n",
              "    }\n",
              "    80% {\n",
              "      border-color: transparent;\n",
              "      border-right-color: var(--fill-color);\n",
              "      border-bottom-color: var(--fill-color);\n",
              "    }\n",
              "    90% {\n",
              "      border-color: transparent;\n",
              "      border-bottom-color: var(--fill-color);\n",
              "    }\n",
              "  }\n",
              "</style>\n",
              "\n",
              "  <script>\n",
              "    async function quickchart(key) {\n",
              "      const quickchartButtonEl =\n",
              "        document.querySelector('#' + key + ' button');\n",
              "      quickchartButtonEl.disabled = true;  // To prevent multiple clicks.\n",
              "      quickchartButtonEl.classList.add('colab-df-spinner');\n",
              "      try {\n",
              "        const charts = await google.colab.kernel.invokeFunction(\n",
              "            'suggestCharts', [key], {});\n",
              "      } catch (error) {\n",
              "        console.error('Error during call to suggestCharts:', error);\n",
              "      }\n",
              "      quickchartButtonEl.classList.remove('colab-df-spinner');\n",
              "      quickchartButtonEl.classList.add('colab-df-quickchart-complete');\n",
              "    }\n",
              "    (() => {\n",
              "      let quickchartButtonEl =\n",
              "        document.querySelector('#df-cf5d1235-8bce-4e5a-8a39-9998e606a7f5 button');\n",
              "      quickchartButtonEl.style.display =\n",
              "        google.colab.kernel.accessAllowed ? 'block' : 'none';\n",
              "    })();\n",
              "  </script>\n",
              "</div>\n",
              "\n",
              "    </div>\n",
              "  </div>\n"
            ],
            "application/vnd.google.colaboratory.intrinsic+json": {
              "type": "dataframe",
              "variable_name": "test_df",
              "summary": "{\n  \"name\": \"test_df\",\n  \"rows\": 199,\n  \"fields\": [\n    {\n      \"column\": \"annotation_id\",\n      \"properties\": {\n        \"dtype\": \"string\",\n        \"num_unique_values\": 199,\n        \"samples\": [\n          \"negR_982.txt\",\n          \"negR_915.txt\",\n          \"posR_911.txt\"\n        ],\n        \"semantic_type\": \"\",\n        \"description\": \"\"\n      }\n    },\n    {\n      \"column\": \"classification\",\n      \"properties\": {\n        \"dtype\": \"number\",\n        \"std\": 0,\n        \"min\": 0,\n        \"max\": 1,\n        \"num_unique_values\": 2,\n        \"samples\": [\n          1,\n          0\n        ],\n        \"semantic_type\": \"\",\n        \"description\": \"\"\n      }\n    },\n    {\n      \"column\": \"evidences\",\n      \"properties\": {\n        \"dtype\": \"string\",\n        \"num_unique_values\": 198,\n        \"samples\": [\n          \"['but , there is almost no life to original script by michael laughlin and buck henry and this is \\\" t&c \\\\'s \\\" downfall']\",\n          \"['script keeps the show moving with some nice one -']\"\n        ],\n        \"semantic_type\": \"\",\n        \"description\": \"\"\n      }\n    },\n    {\n      \"column\": \"content\",\n      \"properties\": {\n        \"dtype\": \"string\",\n        \"num_unique_values\": 199,\n        \"samples\": [\n          \"i remember really enjoying this movie when i saw it years ago . i guess my memory really sucks . there is very , very little that is funny in caddyshack . the laughs are few , and far between , and what there are really are n't that great . caddyshack , as the name implies , more or less centers on one young caddy working at an exclusive country club . michael o'keefe plays said caddy . why they cast this unknown , fairly untalented actor in the lead role is completely beyond me . the movie does n't seem to have a real plot , just a series of scenes that are little more than opportunities for the rest of the cast to mug at the camera . the only real story , if you can call it that , was a subplot involving the mentally disturbed greens keeper , bill murray , who is having his own private little war against a gopher who is ruining the course . most of the marginal laughs come from rodney dangerfield and ted knight mugging and overacting for the camera -- with painfully limited success . bill murray is slightly amusing in places , but fairly wasted . the biggest waste of all is chevy chase , who did n't even crack a smile on my face with his character 's lame zen - like approach to golfing . there are a few decent scenes involving the interaction between dangerfield and knight , but they are far too infrequent to carry the movie . i guess that 's what you get for basing a story around an unknown kid . i 'm not sure what the writers of this thing were thinking of , but i really think it was something far removed from comedy as they were putting pen to paper . nothing about this movie works . it would n't have taken a genius to figure out that this thing was n't going to fly . most of the scenes just could n't possibly be funny . it 's as if the writers where off in their own little brain damaged world . i 'm sure scenes involving chevy chase and his oneness with the golf ball were supposed to be funny . in reality , they were painfully embarrassing to watch . there is a scene at the club pool where all the caddies go wild for the \\\" hot babe \\\" of the movie walking by in her bikini . olive oil would have filled out this swimsuit better than this girl . everything about this movie was just completely implausible as far as the comedy was concerned . maybe if you were drunk out of you mind or high off some sort of illegal narcotic this thing might be funny . but for the rest of us , stay the hell away from caddyshack .\",\n          \"there 's only one presidential election every four years , but it seems like every few months we get another presidential conspiracy movie painted as _ the _ thriller of the year . in 1997 , we 've had absolute power , air force one , shadow conspiracy and murder at 1600 . this one is about as lame duck as old gerald ford , trying to bring us a complex plot of cover - up and intrigue but copping out over and over again with rehashes of action flick standbys . here 's what happens this time . it 's night at the white house . a secretary is having sex with some unidentified guy with a cute butt . the next day she 's dead and hotshot detective wesley snipes is called in . how do we know he 's a hotshot ? we 've seen the traditional action flick opener -- the clever hostage negotiation scene . it 's not so clever this time , consisting of snipes disarming a suicidal ex - government employee holding a gun to his head in the middle of the street . snipes is off to the white house , where he finds the secret service head ( the shiny bald head of daniel benzali ) wo n't cooperate with him at all . in fact , if not for the intervention of national security adviser alan alda , snipes would n't have been allowed in the white house at all . alda helps snipes out further , assigning a sexy secret service agent ( diane lane ) to act as his liaison . .. a very dangerous liaison . well , not really , i just wanted to say that . almost immediately , a suspect is found , an eccentric night janitor seen flirting with the deceased on one of the security videos . snipes does n't buy it , and launches into an independent investigation of his own , one that reveals planted evidence and romantic involvement by the president 's son . snipes ' partner , an always- wisecracking dennis miller , calls him up every once in awhile with more news and lane , who at first does n't believe snipes , eventually and predictably comes around , and risks her ass to break into social security storage and break out some classified information . for the first hour or so , murder at 1600 looks like it could be going somewhere interesting . sure , we have to sit through the lame opening sequence and plenty more lame scenes after that , but the whole murder in the white house thing makes for an interesting premise that is never quite delivered upon . snipes and lane do n't make for a bad action team , but with nothing to work with , they 're just cogs in the bad movie machine . dennis miller might as well not even be in the movie ; they waste his talents more in murder at 1600 than they did in bordello of blood , and that 's saying a lot . when you get to the last half - hour , the movie has descended metaphorically and literally into a wet sewer , busting out the old break - into - the - building underground climax . and when they finally reveal who killed the woman and why , you 'll wish you never sat through this movie at all . the \\\" 1600 \\\" in the movie 's title does n't represent an address , it represents the number of satisfied customers worldwide . serving the world for nearly 1/25th of a century !\"\n        ],\n        \"semantic_type\": \"\",\n        \"description\": \"\"\n      }\n    }\n  ]\n}"
            }
          },
          "metadata": {},
          "execution_count": 13
        }
      ],
      "source": [
        "# convert the test dataset to a pandas dataframe\n",
        "test_df = pd.DataFrame(test_data)\n",
        "test_df.drop(columns=['docids','query', 'query_type'], inplace=True)\n",
        "test_df['evidences'] = test_df['evidences'].astype(str)\n",
        "\n",
        "test_rationales = test_df['evidences']\n",
        "test_reviews = [get_content(test_data, i) for i in range(test_size)]\n",
        "test_classes = torch.tensor([get_classes(test_data, i) for i in range(test_size)], dtype=torch.float)\n",
        "test_classes = torch.stack([test_classes, 1 - test_classes], dim=1) # convert the classes to binary tensor for two classes (pos & neg)\n",
        "\n",
        "print(\"Number of reviews in test data:\",len(test_reviews))\n",
        "print(\"Max seq length of reviews:\", np.max([len(review.split()) for review in test_reviews]))\n",
        "test_df.to_csv('./drive/MyDrive/NeuralNets/standardNeuralNets/test_data.csv', index=False)\n",
        "test_df.head()"
      ]
    },
    {
      "cell_type": "markdown",
      "metadata": {
        "id": "Y_WbCl45wz1E"
      },
      "source": [
        "Extract validation set from the val.jsonl file and create a dataframe for it similar to the training set and save it to a csv file."
      ]
    },
    {
      "cell_type": "markdown",
      "metadata": {
        "id": "YbHzxzSlwz1E"
      },
      "source": [
        "# Convert the reviews & rationales to their corresponding Glove embeddings"
      ]
    },
    {
      "cell_type": "code",
      "source": [
        "from torch.nn.utils.rnn import pad_sequence\n",
        "from tqdm import tqdm\n",
        "\n",
        "def create_glove_dict(sequence, wv, set, embed_dim=50):\n",
        "    \"\"\"\n",
        "    Creates a dictionary mapping words in the vocabulary to their GloVe embeddings.\n",
        "    Words that don't exist are mapped to zero vectors.\n",
        "    \"\"\"\n",
        "    glove_dict = {}\n",
        "    empty_vec = np.zeros(embed_dim, dtype=np.float64)\n",
        "\n",
        "    for word in tqdm(sequence, desc=f\"Building {set} GloVe dictionary\"):\n",
        "        glove_dict[word] = wv[word] if word in wv else empty_vec\n",
        "\n",
        "    return glove_dict\n",
        "\n",
        "def get_w2GloVe(data, glove_dict, set, embed_dim=50, rationale=False):\n",
        "    \"\"\"\n",
        "    Retrieves the GloVe embeddings using the custom-built GloVe dictionary.\n",
        "    Args:\n",
        "        data: List of text reviews.\n",
        "        glove_dict (dict): custom-built GloVe dictionary.\n",
        "        embed_dim (int): Dimensions of GloVe embeddings.\n",
        "    Returns:\n",
        "        torch.Tensor: Padded tensor of GloVe embeddings to maintain uniform length.\n",
        "    \"\"\"\n",
        "    glove_reviews = []\n",
        "\n",
        "    if rationale:\n",
        "        for review in tqdm(data, desc=f\"Retrieving {set} GloVe Word Embeddings\"):\n",
        "            tokens = \",\".join(review)\n",
        "            words = tokens.split()\n",
        "            embeddings = [glove_dict.get(word, np.zeros(embed_dim)) for word in words]\n",
        "            glove_reviews.append(torch.tensor(embeddings, dtype=torch.float))\n",
        "    else:\n",
        "        for review in tqdm(data, desc=f\"Retrieving {set} GloVe Word Embeddings\"):\n",
        "            words = review.split()\n",
        "            embeddings = [glove_dict.get(word, np.zeros(embed_dim)) for word in words]\n",
        "            glove_reviews.append(torch.tensor(embeddings, dtype=torch.float))\n",
        "\n",
        "    return pad_sequence(glove_reviews, batch_first=True)"
      ],
      "metadata": {
        "id": "0ri5kC6oQJag"
      },
      "execution_count": 14,
      "outputs": []
    },
    {
      "cell_type": "code",
      "execution_count": null,
      "metadata": {
        "id": "nHdxXI-3cSIM"
      },
      "outputs": [],
      "source": [
        "\"\"\"\n",
        "print(f\"----------------------------------------------------------------------------------------\\nProcessing Reviews\\n----------------------------------------------------------------------------------------\\n\")\n",
        "\n",
        "# Extract vocabulary(distinct words) from training, validation, and test data\n",
        "train_vocab = set(word for review in train_df['content'] for word in review.split())\n",
        "val_vocab = set(word for review in val_df['content'] for word in review.split())\n",
        "test_vocab = set(word for review in test_df['content'] for word in review.split())\n",
        "\n",
        "# Build the GloVe dictionary for the reviews\n",
        "glove_dict = create_glove_dict(train_vocab, wv, \"training\")\n",
        "glove_dict.update(create_glove_dict(val_vocab, wv, \"validation\"))\n",
        "glove_dict.update(create_glove_dict(test_vocab, wv, \"test\"))\n",
        "\n",
        "# Convert reviews to glove embeddings\n",
        "train_review_gloves = get_w2GloVe(train_df['content'], glove_dict, \"training\")\n",
        "val_review_gloves = get_w2GloVe(val_df['content'], glove_dict, \"validation\")\n",
        "test_review_gloves = get_w2GloVe(test_df['content'], glove_dict, \"test\")\n",
        "\n",
        "print(f\"\\n----------------------------------------------------------------------------------------\\nProcessing Rationales\\n----------------------------------------------------------------------------------------\\n\")\n",
        "\n",
        "#Extract vocabulary(distinct words) from training, validation, and test data for the rationales\n",
        "train_rationale_vocab = set(word for rationale in train_rationales for word in rationale.split())\n",
        "val_rationale_vocab = set(word for rationale in val_rationales for word in rationale.split())\n",
        "test_rationale_vocab = set(word for rationale in test_rationales for word in rationale.split())\n",
        "\n",
        "# Build the GloVe dictionary for the rationales\n",
        "dict_rat = create_glove_dict(train_rationale_vocab, wv, \"training\")\n",
        "dict_rat.update(create_glove_dict(val_rationale_vocab, wv, \"validation\"))\n",
        "dict_rat.update(create_glove_dict(test_rationale_vocab, wv, \"test\"))\n",
        "\n",
        "# Convert rationales to glove embeddings\n",
        "train_rationale_gloves = get_w2GloVe(train_rationales, glove_dict, \"training\", rationale=True)\n",
        "val_rationale_gloves = get_w2GloVe(val_rationales, glove_dict, \"validation\", rationale=True)\n",
        "test_rationale_gloves = get_w2GloVe(test_rationales, glove_dict, \"test\", rationale=True)\n",
        "\"\"\""
      ]
    },
    {
      "cell_type": "markdown",
      "metadata": {
        "id": "CsVWqfEmcSIM"
      },
      "source": [
        "Save the GloVe embeddings to local files for faster Access."
      ]
    },
    {
      "cell_type": "code",
      "execution_count": 15,
      "metadata": {
        "id": "Pm21m4EZwz1F",
        "outputId": "2baca13c-2d28-486c-fa1e-caa9c35ab049",
        "colab": {
          "base_uri": "https://localhost:8080/",
          "height": 87
        }
      },
      "outputs": [
        {
          "output_type": "execute_result",
          "data": {
            "text/plain": [
              "'\\nwith open(\"./drive/MyDrive/NeuralNets/standardNeuralNets/train_reviews.pkl\", \"wb\") as f:\\n    pickle.dump(train_review_gloves, f)\\n\\nwith open(\"./drive/MyDrive/NeuralNets/standardNeuralNets/val_reviews.pkl\", \"wb\") as f:\\n    pickle.dump(val_review_gloves, f)\\n\\nwith open(\"./drive/MyDrive/NeuralNets/standardNeuralNets/test_reviews.pkl\", \"wb\") as f:\\n    pickle.dump(test_review_gloves, f)\\n\\nwith open(\"./drive/MyDrive/NeuralNets/standardNeuralNets/train_rationales.pkl\", \"wb\") as f:\\n    pickle.dump(train_rationale_gloves, f)\\n\\nwith open(\"./drive/MyDrive/NeuralNets/standardNeuralNets/val_rationales.pkl\", \"wb\") as f:\\n    pickle.dump(val_rationale_gloves, f)\\n\\nwith open(\"./drive/MyDrive/NeuralNets/standardNeuralNets/test_rationales.pkl\", \"wb\") as f:\\n    pickle.dump(test_rationale_gloves, f)\\n'"
            ],
            "application/vnd.google.colaboratory.intrinsic+json": {
              "type": "string"
            }
          },
          "metadata": {},
          "execution_count": 15
        }
      ],
      "source": [
        "from torch import Tensor\n",
        "from typing import Dict, List, Optional, Tuple, Union\n",
        "from torch.utils.data import DataLoader, TensorDataset\n",
        "from torch.nn.utils.rnn import pad_sequence\n",
        "from tqdm import tqdm\n",
        "\"\"\"\n",
        "with open(\"./drive/MyDrive/NeuralNets/standardNeuralNets/train_reviews.pkl\", \"wb\") as f:\n",
        "    pickle.dump(train_review_gloves, f)\n",
        "\n",
        "with open(\"./drive/MyDrive/NeuralNets/standardNeuralNets/val_reviews.pkl\", \"wb\") as f:\n",
        "    pickle.dump(val_review_gloves, f)\n",
        "\n",
        "with open(\"./drive/MyDrive/NeuralNets/standardNeuralNets/test_reviews.pkl\", \"wb\") as f:\n",
        "    pickle.dump(test_review_gloves, f)\n",
        "\n",
        "with open(\"./drive/MyDrive/NeuralNets/standardNeuralNets/train_rationales.pkl\", \"wb\") as f:\n",
        "    pickle.dump(train_rationale_gloves, f)\n",
        "\n",
        "with open(\"./drive/MyDrive/NeuralNets/standardNeuralNets/val_rationales.pkl\", \"wb\") as f:\n",
        "    pickle.dump(val_rationale_gloves, f)\n",
        "\n",
        "with open(\"./drive/MyDrive/NeuralNets/standardNeuralNets/test_rationales.pkl\", \"wb\") as f:\n",
        "    pickle.dump(test_rationale_gloves, f)\n",
        "\"\"\""
      ]
    },
    {
      "cell_type": "markdown",
      "metadata": {
        "id": "2TBPAqY3cSIN"
      },
      "source": [
        "# Extract the GloVe embeddings created above and a create a copy before batching them."
      ]
    },
    {
      "cell_type": "code",
      "execution_count": 16,
      "metadata": {
        "id": "WgQLyJDGcSIN"
      },
      "outputs": [],
      "source": [
        "with open(\"./drive/MyDrive/NeuralNets/standardNeuralNets/train_reviews.pkl\", \"rb\") as f:\n",
        "    train_in = pickle.load(f)\n",
        "\n",
        "with open(\"./drive/MyDrive/NeuralNets/standardNeuralNets/train_rationales.pkl\", \"rb\") as f:\n",
        "    train_ev = pickle.load(f)\n",
        "\n",
        "with open(\"./drive/MyDrive/NeuralNets/standardNeuralNets/val_reviews.pkl\", \"rb\") as f:\n",
        "    val_in = pickle.load(f)\n",
        "\n",
        "with open(\"./drive/MyDrive/NeuralNets/standardNeuralNets/val_rationales.pkl\", \"rb\") as f:\n",
        "    val_ev = pickle.load(f)\n",
        "\n",
        "with open(\"./drive/MyDrive/NeuralNets/standardNeuralNets/test_reviews.pkl\", \"rb\") as f:\n",
        "    test_in = pickle.load(f)\n",
        "\n",
        "with open(\"./drive/MyDrive/NeuralNets/standardNeuralNets/test_rationales.pkl\", \"rb\") as f:\n",
        "    test_ev = pickle.load(f)"
      ]
    },
    {
      "cell_type": "code",
      "source": [
        "print(train_in.size())\n",
        "print(train_ev.size())\n",
        "print(train_classes.size())\n",
        "\n",
        "train_in[507].size()"
      ],
      "metadata": {
        "colab": {
          "base_uri": "https://localhost:8080/"
        },
        "id": "uI9NW7A0LQMY",
        "outputId": "5b51683a-0173-4bf7-ba90-539a980c48ca"
      },
      "execution_count": 17,
      "outputs": [
        {
          "output_type": "stream",
          "name": "stdout",
          "text": [
            "torch.Size([1600, 2809, 50])\n",
            "torch.Size([1600, 300, 50])\n",
            "torch.Size([1600, 2])\n"
          ]
        },
        {
          "output_type": "execute_result",
          "data": {
            "text/plain": [
              "torch.Size([2809, 50])"
            ]
          },
          "metadata": {},
          "execution_count": 17
        }
      ]
    },
    {
      "cell_type": "markdown",
      "metadata": {
        "id": "OSzDGF43ytnN"
      },
      "source": [
        "Convert the training, validation, and test data(GloVe representations) including the rationales to batches using DataLoader"
      ]
    },
    {
      "cell_type": "code",
      "execution_count": 18,
      "metadata": {
        "id": "wsgVwakDytnO"
      },
      "outputs": [],
      "source": [
        "train_inputs = TensorDataset(train_in, train_ev, train_classes)\n",
        "val_inputs = TensorDataset(val_in, val_ev, val_classes)\n",
        "test_inputs = TensorDataset(test_in, test_ev, test_classes)\n",
        "\n",
        "train_loader = DataLoader(train_inputs, batch_size=32, shuffle=False)\n",
        "val_loader = DataLoader(val_inputs, batch_size=25, shuffle=False)\n",
        "test_loader = DataLoader(test_inputs, batch_size=25, shuffle=False, drop_last=False)"
      ]
    },
    {
      "cell_type": "code",
      "execution_count": 19,
      "metadata": {
        "colab": {
          "base_uri": "https://localhost:8080/"
        },
        "id": "aFqiLpR3Byqh",
        "outputId": "301dd025-f632-44f6-f3ac-2076ee051e4e"
      },
      "outputs": [
        {
          "output_type": "stream",
          "name": "stdout",
          "text": [
            "torch.Size([32, 2809, 50])\n",
            "torch.Size([32, 300, 50])\n",
            "torch.Size([32, 2])\n",
            "torch.Size([25, 1880, 50])\n",
            "torch.Size([25, 162, 50])\n",
            "torch.Size([25, 2])\n",
            "torch.Size([25, 2122, 50])\n",
            "torch.Size([25, 208, 50])\n",
            "torch.Size([25, 2])\n"
          ]
        }
      ],
      "source": [
        "train_inp, train_evi, train_classg = next(iter(train_loader))\n",
        "print(train_inp.size())\n",
        "print(train_evi.size())\n",
        "print(train_classg.size())\n",
        "\n",
        "val_inp, val_evi, val_classg = next(iter(val_loader))\n",
        "print(val_inp.size())\n",
        "print(val_evi.size())\n",
        "print(val_classg.size())\n",
        "\n",
        "test_inp, test_evi, test_classg = next(iter(test_loader))\n",
        "print(test_inp.size())\n",
        "print(test_evi.size())\n",
        "print(test_classg.size())\n"
      ]
    },
    {
      "cell_type": "markdown",
      "metadata": {
        "id": "SPQy0BjBytnO"
      },
      "source": [
        "# Convolutional Neural Network Model"
      ]
    },
    {
      "cell_type": "code",
      "execution_count": 48,
      "metadata": {
        "id": "smXuMplUytnO"
      },
      "outputs": [],
      "source": [
        "from typing import List, Optional, Tuple, Union\n",
        "from torch import Tensor\n",
        "import torch.nn as nn\n",
        "import lime\n",
        "from lime.lime_text import LimeTextExplainer # type: ignore\n",
        "\n",
        "class LimeCNN(nn.Module):\n",
        "    def __init__(self,\n",
        "                 embed_size: int,\n",
        "                 cnn_config: list,\n",
        "                 max_seq_len: int,\n",
        "                 num_classes: int) -> None:\n",
        "        super(LimeCNN, self).__init__()\n",
        "\n",
        "        # Create convolution layers dynamically from cnn_config\n",
        "        cnn_layers = []\n",
        "        for config in cnn_config:\n",
        "            cnn_layers.extend([\n",
        "                nn.Conv1d(config['in_channels'],\n",
        "                         config['out_channels'],\n",
        "                         kernel_size=config['kernel_size'],\n",
        "                         padding=config['padding'],\n",
        "                         bias = config['bias']),\n",
        "                nn.ReLU(),\n",
        "                nn.MaxPool1d(kernel_size=config['kernel_size']),  # Fixed pool size\n",
        "                nn.Dropout(config['dropout'])\n",
        "            ])\n",
        "\n",
        "        self.convLayer = nn.Sequential(*cnn_layers)\n",
        "\n",
        "        # Calculate flattened output size for fully connected layer's weights\n",
        "        final_channels = cnn_config[-1]['out_channels']\n",
        "        with torch.no_grad():\n",
        "            sample_in = torch.zeros(1, embed_size, max_seq_len)\n",
        "            sample_out = self.convLayer(sample_in)\n",
        "            sample_out = sample_out.view(sample_out.size(0), -1)\n",
        "            flattened_size = sample_out.size(1)\n",
        "\n",
        "        # Final Fully connected layer\n",
        "        self.fc = nn.Sequential(\n",
        "            nn.Linear(flattened_size, final_channels),\n",
        "            nn.ReLU(),\n",
        "            nn.Linear(final_channels, num_classes)\n",
        "        )\n",
        "\n",
        "    def forward(self, x: torch.Tensor) -> torch.Tensor:\n",
        "        x = x.permute(0, 2, 1)  # (batch, embed_size, sequence_length)\n",
        "        if x.shape[2] != 2809:\n",
        "          x = nn.Linear(x.shape[2], 2809)(x)\n",
        "        x = self.convLayer(x)\n",
        "        x = x.view(x.size(0), -1)\n",
        "        y = self.fc(x)\n",
        "        return y\n"
      ]
    },
    {
      "cell_type": "code",
      "source": [
        "import json\n",
        "from torch.optim.lr_scheduler import ReduceLROnPlateau, StepLR\n",
        "\n",
        "# Load the model configuration from a JSON file\n",
        "with open(\"./drive/MyDrive/NeuralNets/standardNeuralNets/model_config.json\", \"r\") as f:\n",
        "    model_config = json.load(f)\n",
        "\n",
        "#torch.manual_seed(14)\n",
        "\n",
        "def simple_train_model(model, train_set, val_set, optimizer, lr_scheduler, criterion, n_epochs, lr):\n",
        "  train_losses =[]\n",
        "  for epoch in range(n_epochs):\n",
        "    model.train()\n",
        "    total_loss = 0.0\n",
        "    preds_list = []\n",
        "    best_val_loss = float('inf')\n",
        "    for batch in tqdm(train_loader, desc=f\"Epoch {epoch+1}/{n_epochs}\"):\n",
        "      inputs, rationales, labels = batch\n",
        "\n",
        "      pred = model(inputs)\n",
        "      preds_list.append(pred)\n",
        "\n",
        "      loss = criterion(pred, labels)\n",
        "      total_loss += loss.item()\n",
        "\n",
        "      optimizer.zero_grad()\n",
        "      loss.backward()\n",
        "      optimizer.step()\n",
        "\n",
        "    avg_train_loss = total_loss / train_size\n",
        "    train_losses.append(avg_train_loss)\n",
        "    y_hats = torch.cat(preds_list, dim=0)\n",
        "    train_acc = torch.sum(torch.argmax(y_hats, dim=1) == torch.argmax(train_classes, dim=1)).item() / train_size\n",
        "    print(f\"Training Loss: {avg_train_loss:.4f} Training accuracy: {train_acc:.4f}\")\n",
        "\n",
        "    # Validation Phase\n",
        "    model.eval()\n",
        "    total_val_loss = 0.0\n",
        "    val_preds = []\n",
        "\n",
        "    with torch.no_grad():\n",
        "      for batch in val_loader:\n",
        "        inputs, rationales, labels = batch\n",
        "        pred = model(inputs)\n",
        "        val_preds.append(pred)\n",
        "        loss = criterion(pred, labels)\n",
        "        total_val_loss += loss.item()\n",
        "\n",
        "    avg_val_loss = total_val_loss / val_size\n",
        "    val_preds = torch.cat(val_preds, dim=0)\n",
        "    val_acc = torch.sum(torch.argmax(val_preds, dim=1) == torch.argmax(val_classes, dim=1)).item() / val_size\n",
        "    print(f\"Validation Loss: {avg_val_loss:.4f} validation acc: {val_acc}\")\n",
        "\n",
        "    # Optional: Early stopping check\n",
        "    if avg_val_loss < best_val_loss:\n",
        "      best_val_loss = avg_val_loss\n",
        "      torch.save(model.state_dict(), \"best_model_state.pt\")\n",
        "\n",
        "    lr_scheduler.step(avg_val_loss)\n",
        "    print(\"current learning rate:\", lr_scheduler.get_last_lr())\n",
        "\n",
        "  return y_hats\n",
        "\n",
        "model = LimeCNN(embed_size=50, cnn_config=model_config, max_seq_len=2809, num_classes=2)\n",
        "\n",
        "lr, n_epochs = 5e-3, 100\n",
        "\n",
        "optimizer = torch.optim.SGD(model.parameters(), lr=lr)\n",
        "loss_func = nn.CrossEntropyLoss()\n",
        "lr_sched = ReduceLROnPlateau(optimizer, mode='min', factor=0.6, patience=10)\n",
        "\n",
        "Y_HAT = simple_train_model(model=model, train_set=train_loader, val_set=val_loader, optimizer=optimizer, lr_scheduler=lr_sched, criterion=loss_func, n_epochs=n_epochs, lr=lr)\n"
      ],
      "metadata": {
        "id": "kC8N1heiESfx",
        "outputId": "915ae98c-3d7f-47da-94db-65706175e615",
        "colab": {
          "base_uri": "https://localhost:8080/"
        }
      },
      "execution_count": null,
      "outputs": [
        {
          "output_type": "stream",
          "name": "stderr",
          "text": [
            "Epoch 1/100: 100%|██████████| 50/50 [00:03<00:00, 16.40it/s]\n"
          ]
        },
        {
          "output_type": "stream",
          "name": "stdout",
          "text": [
            "Training Loss: 0.0107 Training accuracy: 0.8838\n",
            "Validation Loss: 0.0323 validation acc: 0.5\n",
            "current learning rate: [0.005]\n"
          ]
        },
        {
          "output_type": "stream",
          "name": "stderr",
          "text": [
            "Epoch 2/100: 100%|██████████| 50/50 [00:03<00:00, 13.44it/s]\n"
          ]
        },
        {
          "output_type": "stream",
          "name": "stdout",
          "text": [
            "Training Loss: 0.0194 Training accuracy: 0.6869\n",
            "Validation Loss: 0.0308 validation acc: 0.5\n",
            "current learning rate: [0.005]\n"
          ]
        },
        {
          "output_type": "stream",
          "name": "stderr",
          "text": [
            "Epoch 3/100: 100%|██████████| 50/50 [00:02<00:00, 17.55it/s]\n"
          ]
        },
        {
          "output_type": "stream",
          "name": "stdout",
          "text": [
            "Training Loss: 0.0213 Training accuracy: 0.6144\n",
            "Validation Loss: 0.0297 validation acc: 0.5\n",
            "current learning rate: [0.005]\n"
          ]
        },
        {
          "output_type": "stream",
          "name": "stderr",
          "text": [
            "Epoch 4/100: 100%|██████████| 50/50 [00:02<00:00, 17.24it/s]\n"
          ]
        },
        {
          "output_type": "stream",
          "name": "stdout",
          "text": [
            "Training Loss: 0.0212 Training accuracy: 0.6025\n",
            "Validation Loss: 0.0294 validation acc: 0.5\n",
            "current learning rate: [0.005]\n"
          ]
        },
        {
          "output_type": "stream",
          "name": "stderr",
          "text": [
            "Epoch 5/100: 100%|██████████| 50/50 [00:03<00:00, 16.20it/s]\n"
          ]
        },
        {
          "output_type": "stream",
          "name": "stdout",
          "text": [
            "Training Loss: 0.0216 Training accuracy: 0.5563\n",
            "Validation Loss: 0.0291 validation acc: 0.5\n",
            "current learning rate: [0.005]\n"
          ]
        },
        {
          "output_type": "stream",
          "name": "stderr",
          "text": [
            "Epoch 6/100: 100%|██████████| 50/50 [00:03<00:00, 15.45it/s]\n"
          ]
        },
        {
          "output_type": "stream",
          "name": "stdout",
          "text": [
            "Training Loss: 0.0212 Training accuracy: 0.5806\n",
            "Validation Loss: 0.0294 validation acc: 0.5\n",
            "current learning rate: [0.005]\n"
          ]
        },
        {
          "output_type": "stream",
          "name": "stderr",
          "text": [
            "Epoch 7/100: 100%|██████████| 50/50 [00:02<00:00, 17.35it/s]\n"
          ]
        },
        {
          "output_type": "stream",
          "name": "stdout",
          "text": [
            "Training Loss: 0.0214 Training accuracy: 0.5756\n",
            "Validation Loss: 0.0292 validation acc: 0.5\n",
            "current learning rate: [0.005]\n"
          ]
        },
        {
          "output_type": "stream",
          "name": "stderr",
          "text": [
            "Epoch 8/100: 100%|██████████| 50/50 [00:02<00:00, 17.57it/s]\n"
          ]
        },
        {
          "output_type": "stream",
          "name": "stdout",
          "text": [
            "Training Loss: 0.0212 Training accuracy: 0.5656\n",
            "Validation Loss: 0.0295 validation acc: 0.5\n",
            "current learning rate: [0.005]\n"
          ]
        },
        {
          "output_type": "stream",
          "name": "stderr",
          "text": [
            "Epoch 9/100: 100%|██████████| 50/50 [00:03<00:00, 14.03it/s]\n"
          ]
        },
        {
          "output_type": "stream",
          "name": "stdout",
          "text": [
            "Training Loss: 0.0213 Training accuracy: 0.5681\n",
            "Validation Loss: 0.0295 validation acc: 0.5\n",
            "current learning rate: [0.005]\n"
          ]
        },
        {
          "output_type": "stream",
          "name": "stderr",
          "text": [
            "Epoch 10/100: 100%|██████████| 50/50 [00:02<00:00, 17.64it/s]\n"
          ]
        },
        {
          "output_type": "stream",
          "name": "stdout",
          "text": [
            "Training Loss: 0.0214 Training accuracy: 0.5606\n",
            "Validation Loss: 0.0294 validation acc: 0.5\n",
            "current learning rate: [0.005]\n"
          ]
        },
        {
          "output_type": "stream",
          "name": "stderr",
          "text": [
            "Epoch 11/100: 100%|██████████| 50/50 [00:02<00:00, 17.47it/s]\n"
          ]
        },
        {
          "output_type": "stream",
          "name": "stdout",
          "text": [
            "Training Loss: 0.0215 Training accuracy: 0.5456\n",
            "Validation Loss: 0.0293 validation acc: 0.5\n",
            "current learning rate: [0.005]\n"
          ]
        },
        {
          "output_type": "stream",
          "name": "stderr",
          "text": [
            "Epoch 12/100: 100%|██████████| 50/50 [00:02<00:00, 17.32it/s]\n"
          ]
        },
        {
          "output_type": "stream",
          "name": "stdout",
          "text": [
            "Training Loss: 0.0215 Training accuracy: 0.5525\n",
            "Validation Loss: 0.0291 validation acc: 0.5\n",
            "current learning rate: [0.005]\n"
          ]
        },
        {
          "output_type": "stream",
          "name": "stderr",
          "text": [
            "Epoch 13/100: 100%|██████████| 50/50 [00:03<00:00, 14.54it/s]\n"
          ]
        },
        {
          "output_type": "stream",
          "name": "stdout",
          "text": [
            "Training Loss: 0.0213 Training accuracy: 0.5613\n",
            "Validation Loss: 0.0294 validation acc: 0.5\n",
            "current learning rate: [0.005]\n"
          ]
        },
        {
          "output_type": "stream",
          "name": "stderr",
          "text": [
            "Epoch 14/100: 100%|██████████| 50/50 [00:02<00:00, 17.63it/s]\n"
          ]
        },
        {
          "output_type": "stream",
          "name": "stdout",
          "text": [
            "Training Loss: 0.0214 Training accuracy: 0.5525\n",
            "Validation Loss: 0.0292 validation acc: 0.5\n",
            "current learning rate: [0.005]\n"
          ]
        },
        {
          "output_type": "stream",
          "name": "stderr",
          "text": [
            "Epoch 15/100: 100%|██████████| 50/50 [00:02<00:00, 17.58it/s]\n"
          ]
        },
        {
          "output_type": "stream",
          "name": "stdout",
          "text": [
            "Training Loss: 0.0214 Training accuracy: 0.5550\n",
            "Validation Loss: 0.0291 validation acc: 0.5\n",
            "current learning rate: [0.005]\n"
          ]
        },
        {
          "output_type": "stream",
          "name": "stderr",
          "text": [
            "Epoch 16/100: 100%|██████████| 50/50 [00:03<00:00, 15.11it/s]\n"
          ]
        },
        {
          "output_type": "stream",
          "name": "stdout",
          "text": [
            "Training Loss: 0.0213 Training accuracy: 0.5531\n",
            "Validation Loss: 0.0293 validation acc: 0.5\n",
            "current learning rate: [0.005]\n"
          ]
        },
        {
          "output_type": "stream",
          "name": "stderr",
          "text": [
            "Epoch 17/100: 100%|██████████| 50/50 [00:02<00:00, 17.03it/s]\n"
          ]
        },
        {
          "output_type": "stream",
          "name": "stdout",
          "text": [
            "Training Loss: 0.0215 Training accuracy: 0.5425\n",
            "Validation Loss: 0.0292 validation acc: 0.5\n",
            "current learning rate: [0.005]\n"
          ]
        },
        {
          "output_type": "stream",
          "name": "stderr",
          "text": [
            "Epoch 18/100:  20%|██        | 10/50 [00:00<00:02, 16.70it/s]"
          ]
        }
      ]
    },
    {
      "cell_type": "code",
      "source": [
        "model.eval()\n",
        "preds_list = []\n",
        "with torch.no_grad():\n",
        "  for batch in test_loader:\n",
        "    inputs, rationales, labels = batch\n",
        "    pred = model(inputs)\n",
        "    preds_list.append(pred)\n",
        "\n",
        "y_hat = torch.cat(preds_list, dim=0)\n",
        "test_acc = torch.sum(torch.argmax(y_hat, dim=1) == torch.argmax(test_classes, dim=1)).item() / test_size\n",
        "print(f\"Test accuracy: {test_acc:.4f}\")\n",
        "\n",
        "preds = y_hat\n",
        "print(preds.size())\n",
        "import seaborn as sns\n",
        "import matplotlib.pyplot as plt\n",
        "from sklearn.metrics import confusion_matrix\n",
        "\n",
        "# Generate confusion matrix\n",
        "conf_matrix = confusion_matrix(test_classes.numpy().argmax(axis=1), preds.detach().numpy().argmax(axis=1))\n",
        "\n",
        "# Plot using seaborn\n",
        "sns.heatmap(conf_matrix, annot=True, fmt=\"d\", cmap=\"Blues\", xticklabels=[\"Positive\", \"Negative\"], yticklabels=[\"Positive\", \"Negative\"])\n",
        "\n",
        "plt.ylabel(\"True Label\")\n",
        "plt.xlabel(\"Predicted Label\")\n",
        "plt.title(\"Confusion Matrix\")\n",
        "plt.show()"
      ],
      "metadata": {
        "id": "ZI2owJu0Xe46",
        "outputId": "97694783-f146-4248-a764-62494e21c0a8",
        "colab": {
          "base_uri": "https://localhost:8080/",
          "height": 507
        }
      },
      "execution_count": 127,
      "outputs": [
        {
          "output_type": "stream",
          "name": "stdout",
          "text": [
            "Test accuracy: 0.5025\n",
            "torch.Size([199, 2])\n"
          ]
        },
        {
          "output_type": "display_data",
          "data": {
            "text/plain": [
              "<Figure size 640x480 with 2 Axes>"
            ],
            "image/png": "[encoded data removed]"
          },
          "metadata": {}
        }
      ]
    },
    {
      "cell_type": "markdown",
      "metadata": {
        "id": "aOONmTg-ytnP"
      },
      "source": [
        "# Training Loop"
      ]
    },
    {
      "cell_type": "code",
      "execution_count": 126,
      "metadata": {
        "colab": {
          "base_uri": "https://localhost:8080/",
          "height": 489
        },
        "id": "nL7dPN8rmMzL",
        "outputId": "90a0336b-1c2d-4e72-f0cc-1d8075c9bac2"
      },
      "outputs": [
        {
          "output_type": "stream",
          "name": "stdout",
          "text": [
            "torch.Size([1600, 2])\n"
          ]
        },
        {
          "output_type": "display_data",
          "data": {
            "text/plain": [
              "<Figure size 640x480 with 2 Axes>"
            ],
            "image/png": "[encoded data removed]"
          },
          "metadata": {}
        }
      ],
      "source": [
        "preds = Y_HAT\n",
        "print(preds.size())\n",
        "import seaborn as sns\n",
        "import matplotlib.pyplot as plt\n",
        "from sklearn.metrics import confusion_matrix\n",
        "\n",
        "# Generate confusion matrix\n",
        "conf_matrix = confusion_matrix(train_classes.numpy().argmax(axis=1), preds.detach().numpy().argmax(axis=1))\n",
        "\n",
        "# Plot using seaborn\n",
        "sns.heatmap(conf_matrix, annot=True, fmt=\"d\", cmap=\"Blues\", xticklabels=[\"Positive\", \"Negative\"], yticklabels=[\"Positive\", \"Negative\"])\n",
        "\n",
        "plt.ylabel(\"True Label\")\n",
        "plt.xlabel(\"Predicted Label\")\n",
        "plt.title(\"Confusion Matrix\")\n",
        "plt.show()"
      ]
    },
    {
      "cell_type": "code",
      "execution_count": null,
      "metadata": {
        "id": "0IXthmm0ytnP"
      },
      "outputs": [],
      "source": [
        "import json\n",
        "# Load the model configuration from a JSON file\n",
        "with open(\"./drive/MyDrive/NeuralNets/standardNeuralNets/model_config.json\", \"r\") as f:\n",
        "    loaded_config = json.load(f)\n",
        "\n",
        "def train_model(model, train_set, val_set, optimizer, criterion, n_epochs, lr):\n",
        "\n",
        "    best_loss = float('inf') # initialize the best loss the model can achieve to infinity\n",
        "    patience = 0 # initialize the patience for early stopping if validation loss plateaus\n",
        "    loss_list = []\n",
        "\n",
        "    for epoch in range(n_epochs):\n",
        "\n",
        "        model.train()\n",
        "        avg_train_loss = 0.0\n",
        "        preds_list = []\n",
        "        predictions = torch.zeros(len(train_set), 2)\n",
        "        best_predictions = torch.zeros(len(train_set), 2)\n",
        "        TP = 0\n",
        "        Total_Preds = 0\n",
        "\n",
        "        for index, batch in enumerate(tqdm(train_loader, desc=f\"Epoch {epoch+1}/{n_epochs}\")):\n",
        "            inputs, rationales, labels = batch\n",
        "            pred = model(inputs)\n",
        "            preds_list.append(pred)\n",
        "\n",
        "            loss = criterion(pred, labels)\n",
        "            avg_train_loss += loss.item()\n",
        "\n",
        "            optimizer.zero_grad()\n",
        "            loss.backward()\n",
        "            optimizer.step()\n",
        "\n",
        "        avg_train_loss /= train_size\n",
        "        loss_list.append(avg_train_loss)\n",
        "        predictions = torch.cat(preds_list, dim=0)\n",
        "        print(f\"Training Loss: {avg_train_loss:.4f}\")\n",
        "\n",
        "        model.eval()\n",
        "        val_loss = 0.0\n",
        "        tp = 0\n",
        "        num_labels = 0\n",
        "        with torch.no_grad():\n",
        "            for batch in val_loader:\n",
        "                inputs, rationales, labels = batch\n",
        "                pred = model(inputs)\n",
        "                loss = criterion(pred, labels)\n",
        "                val_loss += loss.item()\n",
        "                tp += torch.sum(pred == labels).item()\n",
        "                num_labels += labels.size(0)\n",
        "\n",
        "        val_loss /= val_size\n",
        "        val_acc = tp / num_labels\n",
        "        print(f\"Validation Loss: {val_loss:.4f}, Accuracy: {val_acc:.4f}\\n\")\n",
        "\n",
        "        if val_loss < best_loss:\n",
        "            best_loss = val_loss\n",
        "            torch.save(model.state_dict(), \"best_model_state.pt\")\n",
        "            best_predictions = predictions\n",
        "\n",
        "    return predictions, loss_list\n",
        "\n",
        "model = LIME_CNN(embed_dim=50, cnn_config=loaded_config, num_classes=2)\n",
        "lr, n_epochs = 1e-9, 15\n",
        "optimizer = torch.optim.Adam(model.parameters(), lr=lr)\n",
        "loss = nn.CrossEntropyLoss()\n",
        "\n",
        "preds, loss_list = train_model(model=model, train_set=train_loader, val_set=val_loader, optimizer=optimizer, criterion=loss, n_epochs=n_epochs, lr=lr)"
      ]
    }
  ],
  "metadata": {
    "colab": {
      "machine_shape": "hm",
      "provenance": [],
      "gpuType": "A100",
      "include_colab_link": true
    },
    "kernelspec": {
      "display_name": "Python 3",
      "name": "python3"
    },
    "language_info": {
      "codemirror_mode": {
        "name": "ipython",
        "version": 3
      },
      "file_extension": ".py",
      "mimetype": "text/x-python",
      "name": "python",
      "nbconvert_exporter": "python",
      "pygments_lexer": "ipython3",
      "version": "3.12.3"
    },
    "accelerator": "GPU"
  },
  "nbformat": 4,
  "nbformat_minor": 0
}